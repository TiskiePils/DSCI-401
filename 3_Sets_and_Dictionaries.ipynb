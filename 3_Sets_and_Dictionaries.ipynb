{
  "nbformat": 4,
  "nbformat_minor": 0,
  "metadata": {
    "colab": {
      "name": "3. Sets and Dictionaries",
      "provenance": [],
      "mount_file_id": "1nmWys8jdgJfpGyZsmJr-bdMtxkufClEl",
      "authorship_tag": "ABX9TyNx07Ni+uMfzWt/PsGwbDm9",
      "include_colab_link": true
    },
    "kernelspec": {
      "name": "python3",
      "display_name": "Python 3"
    },
    "language_info": {
      "name": "python"
    }
  },
  "cells": [
    {
      "cell_type": "markdown",
      "metadata": {
        "id": "view-in-github",
        "colab_type": "text"
      },
      "source": [
        "<a href=\"https://colab.research.google.com/github/gjm112/DSCI401/blob/main/3_Sets_and_Dictionaries.ipynb\" target=\"_parent\"><img src=\"https://colab.research.google.com/assets/colab-badge.svg\" alt=\"Open In Colab\"/></a>"
      ]
    },
    {
      "cell_type": "markdown",
      "source": [
        "# Sets\n",
        "\n",
        "These are collections of unordered **unique items**. \n",
        "Sets are useful for membership tests"
      ],
      "metadata": {
        "id": "3xKll9FmNynW"
      }
    },
    {
      "cell_type": "code",
      "execution_count": null,
      "metadata": {
        "colab": {
          "base_uri": "https://localhost:8080/"
        },
        "id": "b6DYQPoINU04",
        "outputId": "2c8b088a-a64a-4226-a6dc-8e43ce025095"
      },
      "outputs": [
        {
          "output_type": "execute_result",
          "data": {
            "text/plain": [
              "True"
            ]
          },
          "metadata": {},
          "execution_count": 3
        }
      ],
      "source": [
        "#Useful for membership tests\n",
        "tech_stonks = set(['IBM','AAPL','MSFT'])\n",
        "'IBM' in tech_stonks\n"
      ]
    },
    {
      "cell_type": "code",
      "source": [
        "'FB' in tech_stonks"
      ],
      "metadata": {
        "colab": {
          "base_uri": "https://localhost:8080/"
        },
        "id": "8WzFUl4QO3u4",
        "outputId": "796aad77-09e6-4611-a6ea-f6f6e5af3c0f"
      },
      "execution_count": null,
      "outputs": [
        {
          "output_type": "execute_result",
          "data": {
            "text/plain": [
              "False"
            ]
          },
          "metadata": {},
          "execution_count": 3
        }
      ]
    },
    {
      "cell_type": "code",
      "source": [
        "#Sets are useful for duplicate elimination\n",
        "names = ['Harry','Ron','Hermione','Hagrid','Harry']\n",
        "print(names)\n",
        "unique = set(names)\n",
        "print(unique)\n",
        "unique.add('Harry')\n",
        "print(unique)"
      ],
      "metadata": {
        "colab": {
          "base_uri": "https://localhost:8080/"
        },
        "id": "Zxmet8E9O_C9",
        "outputId": "08654a0b-0de9-438e-e7bb-171a8eacabc7"
      },
      "execution_count": null,
      "outputs": [
        {
          "output_type": "stream",
          "name": "stdout",
          "text": [
            "['Harry', 'Ron', 'Hermione', 'Hagrid', 'Harry']\n",
            "{'Ron', 'Hagrid', 'Harry', 'Hermione'}\n",
            "{'Ron', 'Hagrid', 'Harry', 'Hermione'}\n"
          ]
        }
      ]
    },
    {
      "cell_type": "code",
      "source": [
        "#Other set operations\n",
        "unique.add('Snape')\n",
        "print(unique)\n",
        "unique.remove('Hagrid')\n",
        "print(unique)\n"
      ],
      "metadata": {
        "colab": {
          "base_uri": "https://localhost:8080/",
          "height": 235
        },
        "id": "HdjgrF03PaI7",
        "outputId": "52530a14-1182-4cb7-be49-b23a1b60fbe6"
      },
      "execution_count": null,
      "outputs": [
        {
          "output_type": "stream",
          "name": "stdout",
          "text": [
            "{'Hermione', 'Ron', 'Harry', 'Snape'}\n"
          ]
        },
        {
          "output_type": "error",
          "ename": "KeyError",
          "evalue": "ignored",
          "traceback": [
            "\u001b[0;31m---------------------------------------------------------------------------\u001b[0m",
            "\u001b[0;31mKeyError\u001b[0m                                  Traceback (most recent call last)",
            "\u001b[0;32m<ipython-input-10-cf74e5be3743>\u001b[0m in \u001b[0;36m<module>\u001b[0;34m()\u001b[0m\n\u001b[1;32m      2\u001b[0m \u001b[0munique\u001b[0m\u001b[0;34m.\u001b[0m\u001b[0madd\u001b[0m\u001b[0;34m(\u001b[0m\u001b[0;34m'Snape'\u001b[0m\u001b[0;34m)\u001b[0m\u001b[0;34m\u001b[0m\u001b[0;34m\u001b[0m\u001b[0m\n\u001b[1;32m      3\u001b[0m \u001b[0mprint\u001b[0m\u001b[0;34m(\u001b[0m\u001b[0munique\u001b[0m\u001b[0;34m)\u001b[0m\u001b[0;34m\u001b[0m\u001b[0;34m\u001b[0m\u001b[0m\n\u001b[0;32m----> 4\u001b[0;31m \u001b[0munique\u001b[0m\u001b[0;34m.\u001b[0m\u001b[0mremove\u001b[0m\u001b[0;34m(\u001b[0m\u001b[0;34m'Hagrid'\u001b[0m\u001b[0;34m)\u001b[0m\u001b[0;34m\u001b[0m\u001b[0;34m\u001b[0m\u001b[0m\n\u001b[0m\u001b[1;32m      5\u001b[0m \u001b[0mprint\u001b[0m\u001b[0;34m(\u001b[0m\u001b[0munique\u001b[0m\u001b[0;34m)\u001b[0m\u001b[0;34m\u001b[0m\u001b[0;34m\u001b[0m\u001b[0m\n",
            "\u001b[0;31mKeyError\u001b[0m: 'Hagrid'"
          ]
        }
      ]
    },
    {
      "cell_type": "code",
      "source": [
        "a1 = set(['Bart','Lisa','Maggie','Marge'])\n",
        "a2 = set(['Bart','Homer','Marge'])\n",
        "#Union\n",
        "print('Union:', a1 | a2)\n",
        "#Intersection\n",
        "print('Interscetion:',a1 & a2)\n",
        "#Set difference\n",
        "print('Set difference:',a1 - a2)\n",
        "print('Set difference:',a2 - a1)\n"
      ],
      "metadata": {
        "colab": {
          "base_uri": "https://localhost:8080/"
        },
        "id": "zfDZH9MyPwL3",
        "outputId": "76a2db9d-4870-457e-dd50-9b19a50c477c"
      },
      "execution_count": null,
      "outputs": [
        {
          "output_type": "stream",
          "name": "stdout",
          "text": [
            "Union: {'Marge', 'Homer', 'Bart', 'Maggie', 'Lisa'}\n",
            "Interscetion: {'Marge', 'Bart'}\n",
            "Set difference: {'Maggie', 'Lisa'}\n",
            "Set difference: {'Homer'}\n"
          ]
        }
      ]
    },
    {
      "cell_type": "markdown",
      "source": [
        "#Dictionaries\n",
        "\n",
        "\"dicts are like databases. Expecting them to be ordered makes no sense, as it has nothing to do with the data structure.\" - Chris Long\n",
        "\n",
        "A collection of values indexed by \"keys\". \n",
        "\n",
        "Dictionaries are useful when: \n",
        "\n",
        "\n",
        "* There are many different values   \n",
        "* The values will be modified/manipulated\n",
        "\n",
        "Can be declared using the keyword dict or curly braces {}.\n",
        "\n",
        "\n"
      ],
      "metadata": {
        "id": "RnO3LWfkRIW3"
      }
    },
    {
      "cell_type": "code",
      "source": [
        "#two ways to decalre a dictionary.  \n",
        "characters = dict()\n",
        "characters = {}"
      ],
      "metadata": {
        "id": "8vos4xpJRLGD"
      },
      "execution_count": null,
      "outputs": []
    },
    {
      "cell_type": "code",
      "source": [
        "#Keys serve as filed names \n",
        "s = {'first':'Harry', 'last':'Potter'}\n",
        "s"
      ],
      "metadata": {
        "colab": {
          "base_uri": "https://localhost:8080/"
        },
        "id": "4H1W6QtpVzNJ",
        "outputId": "4a213c1c-80f8-4ea2-bdf0-2e4b2833acad"
      },
      "execution_count": null,
      "outputs": [
        {
          "output_type": "execute_result",
          "data": {
            "text/plain": [
              "{'first': 'Harry', 'last': 'Potter'}"
            ]
          },
          "metadata": {},
          "execution_count": 27
        }
      ]
    },
    {
      "cell_type": "code",
      "source": [
        "#To get a value, use the key name. \n",
        "print(s['first'])\n",
        "\n",
        "print(s['last'])"
      ],
      "metadata": {
        "colab": {
          "base_uri": "https://localhost:8080/"
        },
        "id": "TmNQ3bUNWKMq",
        "outputId": "7673f4f0-7c40-4ae2-f961-6322a9e3441f"
      },
      "execution_count": null,
      "outputs": [
        {
          "output_type": "stream",
          "name": "stdout",
          "text": [
            "Harry\n",
            "Potter\n"
          ]
        }
      ]
    },
    {
      "cell_type": "code",
      "source": [
        "#Values cannot be referenced as an index value \n",
        "s[1]"
      ],
      "metadata": {
        "colab": {
          "base_uri": "https://localhost:8080/",
          "height": 184
        },
        "id": "o7z_MFjHWabm",
        "outputId": "25056256-ad5e-4ec5-d88e-e0269b3f385a"
      },
      "execution_count": null,
      "outputs": [
        {
          "output_type": "error",
          "ename": "KeyError",
          "evalue": "ignored",
          "traceback": [
            "\u001b[0;31m---------------------------------------------------------------------------\u001b[0m",
            "\u001b[0;31mKeyError\u001b[0m                                  Traceback (most recent call last)",
            "\u001b[0;32m<ipython-input-15-3166f69228bd>\u001b[0m in \u001b[0;36m<module>\u001b[0;34m()\u001b[0m\n\u001b[1;32m      1\u001b[0m \u001b[0;31m#Values cannot be referenced as an index value\u001b[0m\u001b[0;34m\u001b[0m\u001b[0;34m\u001b[0m\u001b[0;34m\u001b[0m\u001b[0m\n\u001b[0;32m----> 2\u001b[0;31m \u001b[0ms\u001b[0m\u001b[0;34m[\u001b[0m\u001b[0;36m1\u001b[0m\u001b[0;34m]\u001b[0m\u001b[0;34m\u001b[0m\u001b[0;34m\u001b[0m\u001b[0m\n\u001b[0m",
            "\u001b[0;31mKeyError\u001b[0m: 1"
          ]
        }
      ]
    },
    {
      "cell_type": "code",
      "source": [
        "#Adding/modifying values \n",
        "s['first'] = 'The chosen one'\n",
        "s['dob'] = 'July 31'\n",
        "s['dad name'] = \"james\"\n",
        "s['mom name'] = \"lily\"\n",
        "s"
      ],
      "metadata": {
        "colab": {
          "base_uri": "https://localhost:8080/"
        },
        "id": "5soNa8jLWgjz",
        "outputId": "d681e0f3-20e3-4fb2-84d1-8563ef1a93e4"
      },
      "execution_count": null,
      "outputs": [
        {
          "output_type": "execute_result",
          "data": {
            "text/plain": [
              "{'dad name': 'james',\n",
              " 'dob': 'July 31',\n",
              " 'first': 'The chosen one',\n",
              " 'last': 'Potter',\n",
              " 'mom name': 'lily'}"
            ]
          },
          "metadata": {},
          "execution_count": 28
        }
      ]
    },
    {
      "cell_type": "markdown",
      "source": [
        "## Deleting Values"
      ],
      "metadata": {
        "id": "Y6m5sojXYp-K"
      }
    },
    {
      "cell_type": "code",
      "source": [
        "del s['dob']\n",
        "print(s)"
      ],
      "metadata": {
        "colab": {
          "base_uri": "https://localhost:8080/"
        },
        "id": "pSR8GXDLYsH1",
        "outputId": "e4e187c2-2077-4167-cdf6-314932ba6591"
      },
      "execution_count": null,
      "outputs": [
        {
          "output_type": "stream",
          "name": "stdout",
          "text": [
            "{'first': 'The chosen one', 'last': 'Potter', 'dad name': 'james', 'mom name': 'lily'}\n"
          ]
        }
      ]
    },
    {
      "cell_type": "code",
      "source": [
        "#deleting a key and returning it's value\n",
        "#It \"pops\" out of the dictionary.\n",
        "print(s.pop('first'))\n",
        "print(s)"
      ],
      "metadata": {
        "colab": {
          "base_uri": "https://localhost:8080/"
        },
        "id": "1cXNdEzzY17W",
        "outputId": "9080e957-6631-468c-d377-5199f1ab59ea"
      },
      "execution_count": null,
      "outputs": [
        {
          "output_type": "stream",
          "name": "stdout",
          "text": [
            "The chosen one\n",
            "{'last': 'Potter', 'dob': 'July 31', 'dad name': 'james', 'mom name': 'lily'}\n"
          ]
        }
      ]
    },
    {
      "cell_type": "markdown",
      "source": [
        "## Keys"
      ],
      "metadata": {
        "id": "Q1LMRFKLZW73"
      }
    },
    {
      "cell_type": "code",
      "source": [
        "#Keys can be strings, integers, tuples (composite keys)\n",
        "#Examples:\n",
        "holidays = { (1,1): 'New Years', (3,14): 'Pi Day', (7,11): 'Slurpee Day'}\n",
        "print(holidays)\n",
        "\n",
        "\n"
      ],
      "metadata": {
        "colab": {
          "base_uri": "https://localhost:8080/"
        },
        "id": "wX4P9e3GZUCK",
        "outputId": "0b6deae4-6e87-486f-ac08-ffe85ecf99ac"
      },
      "execution_count": null,
      "outputs": [
        {
          "output_type": "stream",
          "name": "stdout",
          "text": [
            "{(1, 1): 'Independence Day', (3, 14): 'Pi Day', (7, 11): 'Slurpee Day'}\n"
          ]
        }
      ]
    },
    {
      "cell_type": "code",
      "source": [
        "holidays = {(1,1): [\"New Years\",\"Elijah\"], (7,11): [\"Slurpee Day\",\"Greg\"]}\n",
        "holidays[1,1][0]"
      ],
      "metadata": {
        "colab": {
          "base_uri": "https://localhost:8080/",
          "height": 35
        },
        "id": "GGoWJhsbb2Pa",
        "outputId": "895a83dc-bc92-48a8-dd96-3c248ae74e92"
      },
      "execution_count": null,
      "outputs": [
        {
          "output_type": "execute_result",
          "data": {
            "application/vnd.google.colaboratory.intrinsic+json": {
              "type": "string"
            },
            "text/plain": [
              "'New Years'"
            ]
          },
          "metadata": {},
          "execution_count": 43
        }
      ]
    },
    {
      "cell_type": "code",
      "source": [
        "holidays = {(1,1): {\"steve\":[\"greg\",\"elijah\"]}, (7,11): [\"Slurpee Day\",\"Greg\"]}\n",
        "holidays[1,1][\"steve\"][0]"
      ],
      "metadata": {
        "colab": {
          "base_uri": "https://localhost:8080/",
          "height": 35
        },
        "id": "wDTv9QO5c8aN",
        "outputId": "4a89e1a2-f33e-4752-807a-824f187fa887"
      },
      "execution_count": null,
      "outputs": [
        {
          "output_type": "execute_result",
          "data": {
            "application/vnd.google.colaboratory.intrinsic+json": {
              "type": "string"
            },
            "text/plain": [
              "'greg'"
            ]
          },
          "metadata": {},
          "execution_count": 46
        }
      ]
    },
    {
      "cell_type": "markdown",
      "source": [
        "## Looping through a dictionary"
      ],
      "metadata": {
        "id": "zsZjMwa4Z3PY"
      }
    },
    {
      "cell_type": "code",
      "source": [
        "#The loop variable is the key\n",
        "employee = {'first_name':'Harry', 'last_name':'Potter', 'dob':\"July 31\", \"pet\":'Hedwig','house':'Gryffindor',\"school\":'Hogwarts','sport':\"Quidditch\"}\n",
        "for i in employee: \n",
        "  print(i)"
      ],
      "metadata": {
        "colab": {
          "base_uri": "https://localhost:8080/"
        },
        "id": "QMLBH4Z2Zxki",
        "outputId": "b097e26f-4219-409d-cf58-a054abd4d80d"
      },
      "execution_count": null,
      "outputs": [
        {
          "output_type": "stream",
          "name": "stdout",
          "text": [
            "first_name\n",
            "last_name\n",
            "dob\n",
            "pet\n",
            "house\n",
            "school\n",
            "sport\n"
          ]
        }
      ]
    },
    {
      "cell_type": "code",
      "source": [
        "#.keys()\n",
        "employee.keys()\n"
      ],
      "metadata": {
        "colab": {
          "base_uri": "https://localhost:8080/"
        },
        "id": "eohh6zW3ak8T",
        "outputId": "52b60802-fb57-460f-a477-daf2f738227e"
      },
      "execution_count": null,
      "outputs": [
        {
          "output_type": "execute_result",
          "data": {
            "text/plain": [
              "dict_keys(['first_name', 'last_name', 'dob', 'pet', 'house', 'school', 'sport'])"
            ]
          },
          "metadata": {},
          "execution_count": 55
        }
      ]
    },
    {
      "cell_type": "code",
      "source": [
        "#Check to see if a key is in a dictionary\n",
        "'best_friend' in employee.keys()\n"
      ],
      "metadata": {
        "colab": {
          "base_uri": "https://localhost:8080/"
        },
        "id": "dRCSiMb8asgy",
        "outputId": "bbe7f36a-a134-4fa5-ef28-2af5ec3ee281"
      },
      "execution_count": null,
      "outputs": [
        {
          "output_type": "execute_result",
          "data": {
            "text/plain": [
              "True"
            ]
          },
          "metadata": {},
          "execution_count": 57
        }
      ]
    },
    {
      "cell_type": "code",
      "source": [
        "employee = {'first_name':'Harry', 'last_name':'Potter', 'bod':\"July 31\", \"pet\":'Hedwig','house':'Gryffindor',\"school\":'Hogwarts','sport':\"Quidditch\"}\n",
        "for i in employee: \n",
        "  print(employee[i])\n",
        "\n",
        "print(len(employee))\n",
        "  \n"
      ],
      "metadata": {
        "colab": {
          "base_uri": "https://localhost:8080/"
        },
        "id": "UzVBpJSGaeVU",
        "outputId": "5c2d339a-f03f-4149-b526-4841a1efa1a3"
      },
      "execution_count": null,
      "outputs": [
        {
          "output_type": "stream",
          "name": "stdout",
          "text": [
            "Harry\n",
            "Potter\n",
            "July 31\n",
            "Hedwig\n",
            "Gryffindor\n",
            "Hogwarts\n",
            "Quidditch\n",
            "7\n"
          ]
        }
      ]
    },
    {
      "cell_type": "code",
      "source": [
        "#This is the same thing.\n",
        "for i in employee.keys(): \n",
        "  print(employee[i])"
      ],
      "metadata": {
        "id": "TukSZZRDbA8D",
        "colab": {
          "base_uri": "https://localhost:8080/"
        },
        "outputId": "c605efc5-953e-4d0c-e1e0-40f9b96c2acf"
      },
      "execution_count": null,
      "outputs": [
        {
          "output_type": "stream",
          "name": "stdout",
          "text": [
            "Harry\n",
            "Potter\n",
            "July 31\n",
            "Hedwig\n",
            "Gryffindor\n",
            "Hogwarts\n",
            "Quidditch\n"
          ]
        }
      ]
    },
    {
      "cell_type": "code",
      "source": [
        "#Retrieve the values in a dictionary\n",
        "employee.values()"
      ],
      "metadata": {
        "colab": {
          "base_uri": "https://localhost:8080/"
        },
        "id": "8gLNdo8ZbEwC",
        "outputId": "3a64bcf7-d369-4a40-ca6d-e15b26bd0f62"
      },
      "execution_count": null,
      "outputs": [
        {
          "output_type": "execute_result",
          "data": {
            "text/plain": [
              "dict_values(['Harry', 'Potter', 'July 31', 'Hedwig', 'Gryffindor', 'Hogwarts', 'Quidditch'])"
            ]
          },
          "metadata": {},
          "execution_count": 52
        }
      ]
    },
    {
      "cell_type": "code",
      "source": [
        "for i in employee.values():\n",
        "  print(i)"
      ],
      "metadata": {
        "colab": {
          "base_uri": "https://localhost:8080/"
        },
        "id": "6bgDqd7abLvm",
        "outputId": "e7e986a2-2e3b-47fc-bc9a-36b9602329be"
      },
      "execution_count": null,
      "outputs": [
        {
          "output_type": "stream",
          "name": "stdout",
          "text": [
            "Harry\n",
            "Potter\n",
            "July 31\n",
            "Hedwig\n",
            "Gryffindor\n",
            "Hogwarts\n",
            "Quidditch\n"
          ]
        }
      ]
    },
    {
      "cell_type": "markdown",
      "source": [
        "## Dictionary Length"
      ],
      "metadata": {
        "id": "ZQwDmeyeb5KG"
      }
    },
    {
      "cell_type": "code",
      "source": [
        "#len command\n",
        "#returns the number of key-value pairs\n",
        "len(employee)"
      ],
      "metadata": {
        "colab": {
          "base_uri": "https://localhost:8080/"
        },
        "id": "HYwWvBKEbScg",
        "outputId": "712d97d9-272e-44a8-8c53-8b1c66f6f029"
      },
      "execution_count": null,
      "outputs": [
        {
          "output_type": "execute_result",
          "data": {
            "text/plain": [
              "7"
            ]
          },
          "metadata": {},
          "execution_count": 49
        }
      ]
    },
    {
      "cell_type": "markdown",
      "source": [
        "Other dictionary commands.\n",
        "\n",
        "\n",
        "*  clear: d.clear(): Empties keys and values\n",
        "*  copy: new = d.copy: copies ditionary into new dictionary\n",
        "*  items: d.items(): Returns key-value pairs\n",
        "*  popitem: d.popitem(): removes and returns the last inserted key-value pair\n",
        "*  get: d.get(*key*) Returns the value for the key value (an alternative to d[key]\n",
        "\n"
      ],
      "metadata": {
        "id": "aPcc5nkyb_dm"
      }
    },
    {
      "cell_type": "code",
      "source": [
        "d = {'one':'greg','two':'matthews','three':'PhD'}\n",
        "print(d)\n",
        "d.clear()\n",
        "d"
      ],
      "metadata": {
        "colab": {
          "base_uri": "https://localhost:8080/"
        },
        "id": "lbnHcoWHc0LK",
        "outputId": "f8271a25-87dd-40b3-9677-39f68ccba519"
      },
      "execution_count": null,
      "outputs": [
        {
          "output_type": "stream",
          "name": "stdout",
          "text": [
            "{'one': 'greg', 'two': 'matthews', 'three': 'PhD'}\n"
          ]
        },
        {
          "output_type": "execute_result",
          "data": {
            "text/plain": [
              "{}"
            ]
          },
          "metadata": {},
          "execution_count": 53
        }
      ]
    },
    {
      "cell_type": "code",
      "source": [
        "d = {'one':'greg','two':'matthews','three':'PhD'}\n",
        "e = d.copy()\n",
        "print(e)"
      ],
      "metadata": {
        "colab": {
          "base_uri": "https://localhost:8080/"
        },
        "id": "sR2_iOBqdQeR",
        "outputId": "71d4c170-fdcf-4530-9871-564ccc2f804b"
      },
      "execution_count": null,
      "outputs": [
        {
          "output_type": "stream",
          "name": "stdout",
          "text": [
            "{'one': 'greg', 'two': 'matthews', 'three': 'PhD'}\n"
          ]
        }
      ]
    },
    {
      "cell_type": "code",
      "source": [
        "d = {'one':'greg','two':'matthews','three':'PhD'}\n",
        "d.items()"
      ],
      "metadata": {
        "colab": {
          "base_uri": "https://localhost:8080/"
        },
        "id": "8dLFYpdldVPi",
        "outputId": "76156b65-a2f9-4c87-9ffa-a1acfb9fe757"
      },
      "execution_count": null,
      "outputs": [
        {
          "output_type": "execute_result",
          "data": {
            "text/plain": [
              "dict_items([('one', 'greg'), ('two', 'matthews'), ('three', 'PhD')])"
            ]
          },
          "metadata": {},
          "execution_count": 55
        }
      ]
    },
    {
      "cell_type": "code",
      "source": [
        "d = {'one':'greg','two':'matthews','three':'PhD'}\n",
        "print(d.pop('one'))\n",
        "print(d)"
      ],
      "metadata": {
        "colab": {
          "base_uri": "https://localhost:8080/"
        },
        "id": "nDmgGCnMdX-V",
        "outputId": "40229066-d2bc-4417-ec01-a86abfc2ba2d"
      },
      "execution_count": null,
      "outputs": [
        {
          "output_type": "stream",
          "name": "stdout",
          "text": [
            "greg\n",
            "{'two': 'matthews', 'three': 'PhD'}\n"
          ]
        }
      ]
    },
    {
      "cell_type": "code",
      "source": [
        "d = {'one':'greg','two':'matthews','three':'PhD'}\n",
        "print(d.popitem())\n",
        "print(d)\n",
        "\n"
      ],
      "metadata": {
        "colab": {
          "base_uri": "https://localhost:8080/"
        },
        "id": "m1ZCIFJCfoWv",
        "outputId": "ee69a117-281f-460f-f903-97cfbf49a119"
      },
      "execution_count": null,
      "outputs": [
        {
          "output_type": "stream",
          "name": "stdout",
          "text": [
            "('three', 'PhD')\n",
            "{'one': 'greg', 'two': 'matthews'}\n"
          ]
        }
      ]
    },
    {
      "cell_type": "code",
      "source": [
        "d = {'one':'greg','two':'matthews','three':'PhD'}\n",
        "print(d.get('one'))\n",
        "print(d[\"one\"])"
      ],
      "metadata": {
        "colab": {
          "base_uri": "https://localhost:8080/"
        },
        "id": "2s00m9Egfz60",
        "outputId": "7a834d92-88b7-4569-e960-4b99b0bb5086"
      },
      "execution_count": null,
      "outputs": [
        {
          "output_type": "stream",
          "name": "stdout",
          "text": [
            "greg\n",
            "greg\n"
          ]
        }
      ]
    },
    {
      "cell_type": "code",
      "source": [
        "d = {'first' : 'Hermione', 'last' : 'Granger', 'pet' : \"Crookshanks\"}\n",
        "for key, value in d.items():\n",
        "  print(\"Key =\", key, \", Value =\",value)"
      ],
      "metadata": {
        "colab": {
          "base_uri": "https://localhost:8080/"
        },
        "id": "Yis18FZcfHdo",
        "outputId": "971f3a9d-8ead-4a9b-acf8-ce83e0ec04f6"
      },
      "execution_count": null,
      "outputs": [
        {
          "output_type": "stream",
          "name": "stdout",
          "text": [
            "Key = first , Value = Hermione\n",
            "Key = last , Value = Granger\n",
            "Key = pet , Value = Crookshanks\n"
          ]
        }
      ]
    },
    {
      "cell_type": "markdown",
      "source": [
        "## Sorting a dictionary"
      ],
      "metadata": {
        "id": "POGIPfi1iDSo"
      }
    },
    {
      "cell_type": "code",
      "source": [
        "d = {\"incantations\":1,\n",
        "     \"There\":1,\n",
        "     'will': 1,\n",
        "     'be': 1,\n",
        "     'no': 1,\n",
        "     'foolish':1,\n",
        "     'wand-waving':1,\n",
        "     'or':1,\n",
        "     'silly':1,\n",
        "     'in':3,\n",
        "     'you': 5}\n",
        "    \n",
        "#print(d)    \n",
        "import operator\n",
        "#This is how you used to do it.\n",
        "#Sorted by counts\n",
        "sorted_d = dict(sorted(d.items(), key = operator.itemgetter(1)))\n",
        "print(sorted_d)\n",
        "\n",
        "#Sorted by counts descending\n",
        "sorted_d = dict(sorted(d.items(), key = operator.itemgetter(1), reverse = True))\n",
        "print(sorted_d)\n",
        "\n"
      ],
      "metadata": {
        "colab": {
          "base_uri": "https://localhost:8080/"
        },
        "id": "qIt_ViBxfx0Y",
        "outputId": "56945ece-3664-4008-9c13-5a020e396bbe"
      },
      "execution_count": null,
      "outputs": [
        {
          "output_type": "stream",
          "name": "stdout",
          "text": [
            "{'incantations': 1, 'There': 1, 'will': 1, 'be': 1, 'no': 1, 'foolish': 1, 'wand-waving': 1, 'or': 1, 'silly': 1, 'in': 3, 'you': 5}\n",
            "{'you': 5, 'in': 3, 'incantations': 1, 'There': 1, 'will': 1, 'be': 1, 'no': 1, 'foolish': 1, 'wand-waving': 1, 'or': 1, 'silly': 1}\n"
          ]
        }
      ]
    },
    {
      "cell_type": "code",
      "source": [
        "import operator\n",
        "#Sorted by counts\n",
        "#What will this return?  \n",
        "sorted_d = dict(sorted(d.items(), key = operator.itemgetter(0)))\n",
        "print(sorted_d)\n",
        "\n",
        "#How about this?  \n",
        "sorted_d = dict(sorted(d.items(), key = operator.itemgetter(0), reverse = True))\n",
        "print(sorted_d)\n"
      ],
      "metadata": {
        "id": "q_DyjCTN7zRg",
        "colab": {
          "base_uri": "https://localhost:8080/"
        },
        "outputId": "769f0185-ec5d-4456-a0e8-2e67ffaee0a9"
      },
      "execution_count": null,
      "outputs": [
        {
          "output_type": "stream",
          "name": "stdout",
          "text": [
            "{'There': 1, 'be': 1, 'foolish': 1, 'in': 3, 'incantations': 1, 'no': 1, 'or': 1, 'silly': 1, 'wand-waving': 1, 'will': 1, 'you': 5}\n",
            "{'you': 5, 'will': 1, 'wand-waving': 1, 'silly': 1, 'or': 1, 'no': 1, 'incantations': 1, 'in': 3, 'foolish': 1, 'be': 1, 'There': 1}\n"
          ]
        }
      ]
    },
    {
      "cell_type": "code",
      "source": [
        "#This just sorts the keys and returns only keys\n",
        "print(sorted(d))\n",
        "\n",
        "# This sorts on the keys but returns the keys AND values\n",
        "print(sorted(d.items()))"
      ],
      "metadata": {
        "id": "BOOZfhhy7fRO",
        "colab": {
          "base_uri": "https://localhost:8080/"
        },
        "outputId": "2093d017-76c2-412f-e031-151397f7aa94"
      },
      "execution_count": null,
      "outputs": [
        {
          "output_type": "stream",
          "name": "stdout",
          "text": [
            "['There', 'be', 'foolish', 'in', 'incantations', 'no', 'or', 'silly', 'wand-waving', 'will', 'you']\n",
            "[('There', 1), ('be', 1), ('foolish', 1), ('in', 3), ('incantations', 1), ('no', 1), ('or', 1), ('silly', 1), ('wand-waving', 1), ('will', 1), ('you', 5)]\n"
          ]
        }
      ]
    },
    {
      "cell_type": "code",
      "source": [
        "#here is how to sort based on the keys \n",
        "#Notice that I'm using [0]\n",
        "#The keys are element 0.  The values are element 1.\n",
        "print(sorted(d.items(), key = lambda kv: kv[0], reverse = True))\n"
      ],
      "metadata": {
        "id": "kOtL4YhviBwH",
        "colab": {
          "base_uri": "https://localhost:8080/"
        },
        "outputId": "6c787d03-9c4e-426a-a98b-4498e597cc0c"
      },
      "execution_count": null,
      "outputs": [
        {
          "output_type": "stream",
          "name": "stdout",
          "text": [
            "[('you', 5), ('will', 1), ('wand-waving', 1), ('silly', 1), ('or', 1), ('no', 1), ('incantations', 1), ('in', 3), ('foolish', 1), ('be', 1), ('There', 1)]\n"
          ]
        }
      ]
    },
    {
      "cell_type": "code",
      "source": [
        "#Here is how to sort based on the values\n",
        "#Notice that I'm using [1]\n",
        "#The keys are element 0.  The values are element 1.\n",
        "#By default in sorts smallest to largest.  \n",
        "#Reverse.....reverses that and sorts largest to smallest.  \n",
        "print(sorted(d.items(), key = lambda kv: kv[1], reverse = True))"
      ],
      "metadata": {
        "id": "OR8wybRyk0l0"
      },
      "execution_count": null,
      "outputs": []
    },
    {
      "cell_type": "code",
      "source": [
        "#Note on Lambda: \n",
        "greg = lambda x: x.upper()\n",
        "print(greg(\"stats\"))\n",
        "\n",
        "def greg2(x):\n",
        "  return x.upper()\n",
        "\n",
        "print(greg2(\"stats2\"))"
      ],
      "metadata": {
        "colab": {
          "base_uri": "https://localhost:8080/"
        },
        "id": "5vhdscOGUMs2",
        "outputId": "4563f343-d3fa-4eb4-e11d-4d45ff09c09e"
      },
      "execution_count": null,
      "outputs": [
        {
          "output_type": "stream",
          "name": "stdout",
          "text": [
            "STATS\n",
            "STATS2\n"
          ]
        }
      ]
    },
    {
      "cell_type": "markdown",
      "source": [
        "## Dictionary of dictionaries"
      ],
      "metadata": {
        "id": "gPOVskywiq5P"
      }
    },
    {
      "cell_type": "code",
      "source": [
        "#Note for myself: Dictionaries in python are sort of like lists in R.  \n",
        "#You can have a list of lists and you can have dictionaries of dictionaries\n",
        "characters = {'Harry Potter':{'pet':\"Hedwig\",'sports':'Quidditch','house':\"Gryffindor\"},\n",
        "              'Hermione Granger':{'pet':\"Crookshanks\",'sports':'Studying','house':\"Gryffindor\"},\n",
        "              'Ron Weasley': {'pet':\"Scabbers\",'sports':'none','house':\"Gryffindor\"}}\n",
        "\n",
        "#Call by the keys\n",
        "print(characters['Harry Potter'])\n",
        "\n",
        "#Call by two levels\n",
        "print(characters['Ron Weasley']['pet'])\n"
      ],
      "metadata": {
        "id": "iwgbr0wzk3Lb",
        "colab": {
          "base_uri": "https://localhost:8080/"
        },
        "outputId": "1a875147-d6b3-4bbd-8986-006d44fafd65"
      },
      "execution_count": null,
      "outputs": [
        {
          "output_type": "stream",
          "name": "stdout",
          "text": [
            "{'pet': 'Hedwig', 'sports': 'Quidditch', 'house': 'Gryffindor'}\n",
            "Scabbers\n"
          ]
        }
      ]
    },
    {
      "cell_type": "markdown",
      "source": [
        "# Example\n",
        "\n"
      ],
      "metadata": {
        "id": "rLGyOnjYj5KK"
      }
    },
    {
      "cell_type": "markdown",
      "source": [
        ""
      ],
      "metadata": {
        "id": "HqDolIPtkDGJ"
      }
    },
    {
      "cell_type": "code",
      "source": [
        "import csv\n",
        "\n",
        "mydict = {}\n",
        "#You have to mount your google drive first\n",
        "with open('/content/drive/MyDrive/COMP231/Ex1.txt', mode='r') as inp:\n",
        "    reader = csv.reader(inp)\n",
        "    dict_from_csv = {rows[0]:{'num_stocks':int(rows[1]),'price_per_stock':float(rows[2])}for rows in reader}\n",
        "\n",
        "print(dict_from_csv)\n",
        "\n",
        "'''\n",
        "Or read it in from here: \n",
        "{'GOOGL': {'num_stocks': 100, 'price_per_stock': 1575.57}, \n",
        " 'FB': {'num_stocks': 14, 'price_per_stock': 260.81}, \n",
        " 'SNAP': {'num_stocks': 91, 'price_per_stock': 21.7}, \n",
        " 'TWTR': {'num_stocks': 300, 'price_per_stock': 38.09}, \n",
        " 'PINS': {'num_stocks': 5, 'price_per_stock': 34.19}, \n",
        " 'AAPL': {'num_stocks': 15, 'price_per_stock': 497.48}, \n",
        " 'AMZN': {'num_stocks': 100, 'price_per_stock': 3284.72}, \n",
        " 'NFLX': {'num_stocks': 75, 'price_per_stock': 492.31}}\n",
        " '''\n",
        "\n"
      ],
      "metadata": {
        "id": "uZyfK4zIkZ8v",
        "colab": {
          "base_uri": "https://localhost:8080/",
          "height": 143
        },
        "outputId": "a8d988a3-f5bc-4697-dafa-7c23a132ea38"
      },
      "execution_count": null,
      "outputs": [
        {
          "output_type": "stream",
          "name": "stdout",
          "text": [
            "{'GOOGL': {'num_stocks': 100, 'price_per_stock': 1575.57}, 'FB': {'num_stocks': 14, 'price_per_stock': 260.81}, 'SNAP': {'num_stocks': 91, 'price_per_stock': 21.7}, 'TWTR': {'num_stocks': 300, 'price_per_stock': 38.09}, 'PINS': {'num_stocks': 5, 'price_per_stock': 34.19}, 'AAPL': {'num_stocks': 15, 'price_per_stock': 497.48}, 'AMZN': {'num_stocks': 100, 'price_per_stock': 3284.72}, 'NFLX': {'num_stocks': 75, 'price_per_stock': 492.31}}\n"
          ]
        },
        {
          "output_type": "execute_result",
          "data": {
            "application/vnd.google.colaboratory.intrinsic+json": {
              "type": "string"
            },
            "text/plain": [
              "\"\\nOr read it in from here: \\n{'GOOGL': {'num_stocks': 100, 'price_per_stock': 1575.57}, \\n 'FB': {'num_stocks': 14, 'price_per_stock': 260.81}, \\n 'SNAP': {'num_stocks': 91, 'price_per_stock': 21.7}, \\n 'TWTR': {'num_stocks': 300, 'price_per_stock': 38.09}, \\n 'PINS': {'num_stocks': 5, 'price_per_stock': 34.19}, \\n 'AAPL': {'num_stocks': 15, 'price_per_stock': 497.48}, \\n 'AMZN': {'num_stocks': 100, 'price_per_stock': 3284.72}, \\n 'NFLX': {'num_stocks': 75, 'price_per_stock': 492.31}}\\n \""
            ]
          },
          "metadata": {},
          "execution_count": 14
        }
      ]
    },
    {
      "cell_type": "code",
      "source": [
        "dict_from_csv['GOOGL']\n",
        "#stock = 'GOOGL'\n",
        "del stock \n",
        "val = 0\n",
        "for i in dict_from_csv.keys():\n",
        "  temp = dict_from_csv[i]['price_per_stock']\n",
        "  if temp > val:\n",
        "    val = temp\n",
        "    stock = i\n",
        "\n",
        "print(\"The most valuable stock is\",stock,\"It is worth\",dict_from_csv[stock]['price_per_stock'])\n",
        "\n"
      ],
      "metadata": {
        "id": "A5Zl0leGlOD9",
        "colab": {
          "base_uri": "https://localhost:8080/"
        },
        "outputId": "4c16e56a-2f30-4450-fcaf-ff679b00e2e9"
      },
      "execution_count": null,
      "outputs": [
        {
          "output_type": "stream",
          "name": "stdout",
          "text": [
            "The most valuable stock is AMZN It is worth 3284.72\n"
          ]
        }
      ]
    },
    {
      "cell_type": "code",
      "source": [
        "stock = {'GOOGL': {'num_stocks': 100, 'price_per_stock': 1575.57}, \n",
        " 'FB': {'num_stocks': 14, 'price_per_stock': 260.81}, \n",
        " 'SNAP': {'num_stocks': 91, 'price_per_stock': 21.7}, \n",
        " 'TWTR': {'num_stocks': 300, 'price_per_stock': 38.09}, \n",
        " 'PINS': {'num_stocks': 5, 'price_per_stock': 34.19}, \n",
        " 'AAPL': {'num_stocks': 15, 'price_per_stock': 497.48}, \n",
        " 'AMZN': {'num_stocks': 100, 'price_per_stock': 3284.72}, \n",
        " 'NFLX': {'num_stocks': 75, 'price_per_stock': 492.31}}\n",
        "\n",
        "priceList = []\n",
        "\n",
        "for key, value in stock.items():\n",
        "  for price in value.values():\n",
        "     priceList.append(price)\n",
        "largest = max(priceList)\n",
        "print(largest)\n",
        "for key, val in stock.items():\n",
        "  for i in val.values():\n",
        "    if i == largest:\n",
        "      print(key)\n",
        "\n",
        "\n",
        "highest_val = 0\n",
        "for k in stock.keys():\n",
        "  stock_value = stock[k]['price_per_stock']\n",
        "  if stock_value > highest_val:\n",
        "    highest_val = stock_value\n",
        "    highest_name = k\n",
        "print(\"most valuable stonk is\", highest_name, \"with a value of\", highest_val)\n",
        "\n",
        "top_stonk = 0\n",
        "for i in stock:\n",
        "  if stock[i]['price_per_stock'] > top_stonk:\n",
        "    top_stonk = stock[i]['price_per_stock']\n",
        "print(top_stonk)\n"
      ],
      "metadata": {
        "colab": {
          "base_uri": "https://localhost:8080/"
        },
        "id": "DzHj7jCPJzAu",
        "outputId": "8273daee-2e45-4092-fd78-3b97ddb336b6"
      },
      "execution_count": null,
      "outputs": [
        {
          "output_type": "stream",
          "name": "stdout",
          "text": [
            "3284.72\n",
            "AMZN\n",
            "most valuable stonk is AMZN with a value of 3284.72\n",
            "3284.72\n"
          ]
        }
      ]
    },
    {
      "cell_type": "markdown",
      "source": [
        "More practice with dictionaries!\n",
        "\n",
        "https://www.w3resource.com/python-exercises/dictionary/\n"
      ],
      "metadata": {
        "id": "6gVM4VXClF4n"
      }
    }
  ]
}