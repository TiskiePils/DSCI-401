{
  "nbformat": 4,
  "nbformat_minor": 0,
  "metadata": {
    "colab": {
      "provenance": [],
      "authorship_tag": "ABX9TyOPFFAaBlq8jAvUgzaSOcvC",
      "include_colab_link": true
    },
    "kernelspec": {
      "name": "python3",
      "display_name": "Python 3"
    },
    "language_info": {
      "name": "python"
    }
  },
  "cells": [
    {
      "cell_type": "markdown",
      "metadata": {
        "id": "view-in-github",
        "colab_type": "text"
      },
      "source": [
        "<a href=\"https://colab.research.google.com/github/gjm112/DSCI401/blob/main/Exam1_solutions.ipynb\" target=\"_parent\"><img src=\"https://colab.research.google.com/assets/colab-badge.svg\" alt=\"Open In Colab\"/></a>"
      ]
    },
    {
      "cell_type": "code",
      "execution_count": 3,
      "metadata": {
        "id": "kXJXH2zGTm4m"
      },
      "outputs": [],
      "source": [
        "import pandas as pd\n",
        "cereal = pd.read_csv(\"https://raw.githubusercontent.com/gjm112/LoyolaTeaching/main/cereal.csv\")\n",
        "mfr = pd.read_csv(\"https://raw.githubusercontent.com/gjm112/LoyolaTeaching/main/cereal_mfr.csv\")\n"
      ]
    },
    {
      "cell_type": "code",
      "source": [],
      "metadata": {
        "id": "nXDsLfIiT7yF"
      },
      "execution_count": null,
      "outputs": []
    }
  ]
}