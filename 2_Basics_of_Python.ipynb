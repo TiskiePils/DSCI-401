{
  "nbformat": 4,
  "nbformat_minor": 0,
  "metadata": {
    "colab": {
      "name": "2. Basics of Python",
      "provenance": [],
      "authorship_tag": "ABX9TyO4lR2HlrcREoORH9y5LwAH",
      "include_colab_link": true
    },
    "kernelspec": {
      "name": "python3",
      "display_name": "Python 3"
    },
    "language_info": {
      "name": "python"
    }
  },
  "cells": [
    {
      "cell_type": "markdown",
      "metadata": {
        "id": "view-in-github",
        "colab_type": "text"
      },
      "source": [
        "<a href=\"https://colab.research.google.com/github/gjm112/DSCI401/blob/main/2_Basics_of_Python.ipynb\" target=\"_parent\"><img src=\"https://colab.research.google.com/assets/colab-badge.svg\" alt=\"Open In Colab\"/></a>"
      ]
    },
    {
      "cell_type": "markdown",
      "source": [
        "# Introduction\n",
        "\n",
        "Author: Dr. Gregory J. Matthews\n",
        "\n",
        "Twitter: @statsinthewild\n",
        "\n",
        "(Note: Notes adapted from Dr. Catherine Putonti, Dean of Everything.)"
      ],
      "metadata": {
        "id": "NnvRkwsqH9Ta"
      }
    },
    {
      "cell_type": "code",
      "execution_count": null,
      "metadata": {
        "id": "XTEfTC8hlUL5"
      },
      "outputs": [],
      "source": [
        "# This is a comment\n",
        "height = 442 #in meters\n"
      ]
    },
    {
      "cell_type": "code",
      "source": [
        "height\n"
      ],
      "metadata": {
        "colab": {
          "base_uri": "https://localhost:8080/"
        },
        "id": "geJ8ZrrLl_dx",
        "outputId": "2f978c93-53b7-4f12-af85-7b25cdff741c"
      },
      "execution_count": null,
      "outputs": [
        {
          "output_type": "execute_result",
          "data": {
            "text/plain": [
              "442"
            ]
          },
          "metadata": {},
          "execution_count": 2
        }
      ]
    },
    {
      "cell_type": "code",
      "source": [
        "'''\n",
        "everything inside these quote is a comment\n",
        "greg = 42\n",
        "'''\n",
        "greg #not defined because it's commented out!\n"
      ],
      "metadata": {
        "colab": {
          "base_uri": "https://localhost:8080/"
        },
        "id": "CVxALnIumD2x",
        "outputId": "b150958e-972e-40f8-84ca-1f0ded5bc5e6"
      },
      "execution_count": null,
      "outputs": [
        {
          "output_type": "execute_result",
          "data": {
            "text/plain": [
              "42"
            ]
          },
          "metadata": {},
          "execution_count": 5
        }
      ]
    },
    {
      "cell_type": "markdown",
      "source": [
        "# Variables\n",
        "\n",
        "\"It’s not that you dont declare types so much as you dont HAVE to declare types. But you can and it does help avoid some problems to declare types. \" - The LEGEND Mark Hornback"
      ],
      "metadata": {
        "id": "8wRt-xFpIBPt"
      }
    },
    {
      "cell_type": "code",
      "source": [
        "#Variable types\n",
        "#You do not HAVE to declare types on pythion\n",
        "#But you can. And this may help to avoid problems\n",
        "height = 442 #height is an int (integer)\n",
        "print(type(height))\n",
        "height = 442.0 #height is a float (floating point number)\n",
        "print(type(height))\n",
        "height = 'really tall' #height is a str (string)\n",
        "print(type(height))\n",
        "\n",
        "\n"
      ],
      "metadata": {
        "colab": {
          "base_uri": "https://localhost:8080/"
        },
        "id": "YNHyWWhbmxb3",
        "outputId": "d65dab66-6754-4012-aff8-5d0905d49e36"
      },
      "execution_count": null,
      "outputs": [
        {
          "output_type": "stream",
          "name": "stdout",
          "text": [
            "<class 'int'>\n",
            "<class 'float'>\n",
            "<class 'str'>\n"
          ]
        }
      ]
    },
    {
      "cell_type": "code",
      "source": [
        "a = 'Yes'\n",
        "b = \"Yup\"\n",
        "c = '''\n",
        "If you're happy and you know it \n",
        "clap your hands.\n",
        "Clap your hands.'''\n",
        "\n",
        "print(a)\n",
        "print(b)\n",
        "print(c)\n",
        "\n",
        "#Note\n",
        "#Space outside quotes doesn't matter\n",
        "#a =\"Yes\" is the same as a = \"Yes\"\n",
        "#Space INSIDE quotes DOES matter\n",
        "#These are not the same\n",
        "#a =\"Yes\" is NOT the same as a = \" Yes\"\n"
      ],
      "metadata": {
        "colab": {
          "base_uri": "https://localhost:8080/"
        },
        "id": "T1_assH0n0nz",
        "outputId": "d5b7dd62-8f8d-472c-8e38-ac4aa44dc07e"
      },
      "execution_count": null,
      "outputs": [
        {
          "output_type": "stream",
          "name": "stdout",
          "text": [
            "Yes\n",
            "Yup\n",
            "\n",
            "If you're happy and you know it \n",
            "clap your hands.\n",
            "Clap your hands.\n"
          ]
        }
      ]
    },
    {
      "cell_type": "code",
      "source": [
        "#Python is case sensitive!\n",
        "#These are all different variables\n",
        "name = 'Wakko'\n",
        "Name = 'Yakko'\n",
        "NAME = 'Dot'\n",
        "\n",
        "#Use print to display a single line of text.  \n",
        "print('Hello',name)\n",
        "print('Hello',Name)\n",
        "print('Hello',NAME)\n",
        "\n",
        "\n",
        "\n",
        "\n"
      ],
      "metadata": {
        "colab": {
          "base_uri": "https://localhost:8080/"
        },
        "id": "LlEN5i0Nocnm",
        "outputId": "68e4a6fd-122a-4964-c280-c7ed5dc7ba40"
      },
      "execution_count": null,
      "outputs": [
        {
          "output_type": "stream",
          "name": "stdout",
          "text": [
            "Hello Wakko\n",
            "Hello Yakko\n",
            "Hello Dot\n"
          ]
        }
      ]
    },
    {
      "cell_type": "code",
      "source": [
        "#Language statements are ALWAYS lower case\n",
        "print(\"Hello World\")\n",
        "PRINT(\"Hello World\")"
      ],
      "metadata": {
        "colab": {
          "base_uri": "https://localhost:8080/",
          "height": 201
        },
        "id": "IV-LOdZnoy7j",
        "outputId": "e77dcbc8-74a4-4579-f6e6-e1189b047173"
      },
      "execution_count": null,
      "outputs": [
        {
          "output_type": "error",
          "ename": "NameError",
          "evalue": "ignored",
          "traceback": [
            "\u001b[0;31m---------------------------------------------------------------------------\u001b[0m",
            "\u001b[0;31mNameError\u001b[0m                                 Traceback (most recent call last)",
            "\u001b[0;32m<ipython-input-7-42ee7e4587bc>\u001b[0m in \u001b[0;36m<module>\u001b[0;34m()\u001b[0m\n\u001b[1;32m      1\u001b[0m \u001b[0;31m#Language statements are ALWAYS lower case\u001b[0m\u001b[0;34m\u001b[0m\u001b[0;34m\u001b[0m\u001b[0;34m\u001b[0m\u001b[0m\n\u001b[1;32m      2\u001b[0m \u001b[0;31m#print(\"Hello World\")\u001b[0m\u001b[0;34m\u001b[0m\u001b[0;34m\u001b[0m\u001b[0;34m\u001b[0m\u001b[0m\n\u001b[0;32m----> 3\u001b[0;31m \u001b[0mPRINT\u001b[0m\u001b[0;34m(\u001b[0m\u001b[0;34m\"Hello World\"\u001b[0m\u001b[0;34m)\u001b[0m\u001b[0;34m\u001b[0m\u001b[0;34m\u001b[0m\u001b[0m\n\u001b[0m",
            "\u001b[0;31mNameError\u001b[0m: name 'PRINT' is not defined"
          ]
        }
      ]
    },
    {
      "cell_type": "code",
      "source": [
        "print(name)\n",
        "#Default separator is a space.  \n",
        "print(name,Name,NAME)\n",
        "print('Your name is',NAME)\n",
        "\n",
        "#Removingspacesbetweenwords\n",
        "print(name,Name,NAME, sep = \"\")\n"
      ],
      "metadata": {
        "colab": {
          "base_uri": "https://localhost:8080/"
        },
        "id": "pn9NFBmIr-1D",
        "outputId": "5fcd7686-8e8d-4119-ef4a-fa3eabafb536"
      },
      "execution_count": null,
      "outputs": [
        {
          "output_type": "stream",
          "name": "stdout",
          "text": [
            "Wakko\n",
            "Wakko Yakko Dot\n",
            "Your name is Dot\n",
            "WakkoYakkoDot\n"
          ]
        }
      ]
    },
    {
      "cell_type": "markdown",
      "source": [
        "# Conditional Statements and Loops"
      ],
      "metadata": {
        "id": "Hl809dQaIE49"
      }
    },
    {
      "cell_type": "code",
      "source": [
        "#x = x + 1 thsi is equivalent to x += 1\n",
        "\n",
        "#Loops!\n",
        "x = 1\n",
        "print(x)\n",
        "x += 1\n",
        "print(x)\n",
        "x += 1\n",
        "print(x)\n"
      ],
      "metadata": {
        "colab": {
          "base_uri": "https://localhost:8080/"
        },
        "id": "z0ETRvPGsK1w",
        "outputId": "1888f868-14aa-4ba5-aa9b-208fb01a6bc4"
      },
      "execution_count": null,
      "outputs": [
        {
          "output_type": "stream",
          "name": "stdout",
          "text": [
            "1\n",
            "2\n",
            "3\n"
          ]
        }
      ]
    },
    {
      "cell_type": "markdown",
      "source": [
        "## While Loops"
      ],
      "metadata": {
        "id": "vRV_N8QXIITM"
      }
    },
    {
      "cell_type": "code",
      "source": [
        "#Note the indentations!\n",
        "x = 1\n",
        "while x <= 100:\n",
        "  print(x)\n",
        "  x +=1\n",
        "\n",
        "print(\"Last x is\",x)"
      ],
      "metadata": {
        "id": "FX7sEtxj9dv1"
      },
      "execution_count": null,
      "outputs": []
    },
    {
      "cell_type": "code",
      "source": [
        "x = 1\n",
        "while x < 5:\n",
        "  print('Hello')\n",
        "  x *= 2\n",
        "\n",
        "print(\"last value of x\",x)"
      ],
      "metadata": {
        "colab": {
          "base_uri": "https://localhost:8080/"
        },
        "id": "dyomJc7D9sf8",
        "outputId": "6e42b09e-2ce8-44ec-da3f-0ef5701e43f0"
      },
      "execution_count": null,
      "outputs": [
        {
          "output_type": "stream",
          "name": "stdout",
          "text": [
            "Hello\n",
            "Hello\n",
            "Hello\n",
            "last value of x 8\n"
          ]
        }
      ]
    },
    {
      "cell_type": "code",
      "source": [
        "#Need to be consistent with indentation\n",
        "#What do we need to do to make this work?\n",
        "a = 1\n",
        "b = 1\n",
        "c = 10\n",
        "while a*b < c:\n",
        "  print(a, b, a*b)\n",
        "  print(c)\n",
        "  a = a*2 #alternatively a *= 2"
      ],
      "metadata": {
        "colab": {
          "base_uri": "https://localhost:8080/"
        },
        "id": "3MBiqPKZ90pc",
        "outputId": "8805669b-9ac0-4762-e345-3960eeaaeec4"
      },
      "execution_count": null,
      "outputs": [
        {
          "output_type": "stream",
          "name": "stdout",
          "text": [
            "1 1 1\n",
            "10\n",
            "2 1 2\n",
            "10\n",
            "4 1 4\n",
            "10\n",
            "8 1 8\n",
            "10\n"
          ]
        }
      ]
    },
    {
      "cell_type": "markdown",
      "source": [
        "## For loops\n"
      ],
      "metadata": {
        "id": "q8Nqo5KvIKdL"
      }
    },
    {
      "cell_type": "code",
      "source": [
        "#For loops\n",
        "for i in [1,4,7]:\n",
        "  print(2*i)"
      ],
      "metadata": {
        "colab": {
          "base_uri": "https://localhost:8080/"
        },
        "id": "Tgyd2EguBT1w",
        "outputId": "5f691894-c9f4-4b8b-a493-9482286d6e4a"
      },
      "execution_count": null,
      "outputs": [
        {
          "output_type": "stream",
          "name": "stdout",
          "text": [
            "2\n",
            "8\n",
            "14\n"
          ]
        }
      ]
    },
    {
      "cell_type": "code",
      "source": [
        "#For loops\n",
        "for i in range(1,10):\n",
        "  print(i)\n"
      ],
      "metadata": {
        "colab": {
          "base_uri": "https://localhost:8080/"
        },
        "id": "Dzd9KHdQ_WLe",
        "outputId": "f7cd6781-680b-44cc-9ad0-3f6eee34e0d0"
      },
      "execution_count": null,
      "outputs": [
        {
          "output_type": "stream",
          "name": "stdout",
          "text": [
            "1\n",
            "2\n",
            "3\n",
            "4\n",
            "5\n",
            "6\n",
            "7\n",
            "8\n",
            "9\n"
          ]
        }
      ]
    },
    {
      "cell_type": "code",
      "source": [
        "#For loops\n",
        "for i in range(10):\n",
        "  print(i)\n"
      ],
      "metadata": {
        "colab": {
          "base_uri": "https://localhost:8080/"
        },
        "id": "jYX2_KbyHvVi",
        "outputId": "069cacbe-65ef-4283-a712-ae81e1b527af"
      },
      "execution_count": null,
      "outputs": [
        {
          "output_type": "stream",
          "name": "stdout",
          "text": [
            "0\n",
            "1\n",
            "2\n",
            "3\n",
            "4\n",
            "5\n",
            "6\n",
            "7\n",
            "8\n",
            "9\n"
          ]
        }
      ]
    },
    {
      "cell_type": "markdown",
      "source": [
        ""
      ],
      "metadata": {
        "id": "lTPwgLe0H8Pc"
      }
    },
    {
      "cell_type": "markdown",
      "source": [
        "## Conditional Statements\n"
      ],
      "metadata": {
        "id": "e2bL7Q6CION1"
      }
    },
    {
      "cell_type": "code",
      "source": [
        "#Conditional Statements\n",
        "#If\n",
        "sky = \"sunny\"\n",
        "if sky == \"sunny\":\n",
        "  print('Leave your umbrella at home!')\n",
        "\n"
      ],
      "metadata": {
        "id": "EhaJ5qA2_yv5"
      },
      "execution_count": null,
      "outputs": []
    },
    {
      "cell_type": "code",
      "source": [
        "#What will be printed out?\n",
        "sky = \"cloudy\"\n",
        "if sky == \"sunny\":\n",
        "  print('Leave your umbrella at home!')"
      ],
      "metadata": {
        "id": "QV0O2BxbAHAj"
      },
      "execution_count": null,
      "outputs": []
    },
    {
      "cell_type": "code",
      "source": [
        "#If Else\n",
        "#Every else must have an if. \n",
        "sky = 'cellphone'\n",
        "if sky == 'sunny':\n",
        "  print('Leave your umbrella at home!')\n",
        "else:\n",
        "  print('Better bring your umbrella')"
      ],
      "metadata": {
        "colab": {
          "base_uri": "https://localhost:8080/"
        },
        "id": "JYFY1N0sAK4G",
        "outputId": "6e069c15-9ea8-4318-fd46-3609620283e5"
      },
      "execution_count": null,
      "outputs": [
        {
          "output_type": "stream",
          "name": "stdout",
          "text": [
            "Better bring your umbrella\n"
          ]
        }
      ]
    },
    {
      "cell_type": "code",
      "source": [
        "#Nested\n",
        "#If and else \n",
        "sky = \"sunny\"\n",
        "if sky == \"sunny\":\n",
        "  print('Leave your umbrella at home!')\n",
        "else: \n",
        "  if sky == \"cloudy\":\n",
        "    print('Better bring your umbrella')\n",
        "  else:\n",
        "    if sky == \"snowing\":\n",
        "      print(\"Grab your parka\")\n",
        "    else: \n",
        "      print(\"Your guess is as good as mine!\")\n",
        "\n"
      ],
      "metadata": {
        "colab": {
          "base_uri": "https://localhost:8080/"
        },
        "id": "hkukLQ9pAbc-",
        "outputId": "add91c6d-16dd-442b-9600-d54399e7b177"
      },
      "execution_count": null,
      "outputs": [
        {
          "output_type": "stream",
          "name": "stdout",
          "text": [
            "Your guess is as good as mine!\n"
          ]
        }
      ]
    },
    {
      "cell_type": "code",
      "source": [
        "#What will be printed\n",
        "#elif makes this easier\n",
        "sky = \"sunny\"\n",
        "if sky == \"sunny\":\n",
        "  print('Leave your umbrella at home!')\n",
        "elif sky == \"cloudy\":\n",
        "  print('Better bring your umbrella')\n",
        "elif sky == \"snowing\":\n",
        "  print(\"Grab your parka\")\n",
        "else: \n",
        "  print(\"Your guess is as good as mine!\")"
      ],
      "metadata": {
        "colab": {
          "base_uri": "https://localhost:8080/"
        },
        "id": "e-HlUK2tAxy1",
        "outputId": "5791445f-5341-489c-b2c3-2477a3e01fa9"
      },
      "execution_count": null,
      "outputs": [
        {
          "output_type": "stream",
          "name": "stdout",
          "text": [
            "Leave your umbrella at home!\n",
            "Better bring your umbrella\n",
            "Your guess is as good as mine!\n"
          ]
        }
      ]
    },
    {
      "cell_type": "markdown",
      "source": [
        "#Values\n"
      ],
      "metadata": {
        "id": "ju-lPVdeId-q"
      }
    },
    {
      "cell_type": "markdown",
      "source": [
        "## Numbers\n",
        "\n",
        "Python has 4 types of numbers\n",
        "\n",
        "\n",
        "*  Booleans\n",
        "*  Integers\n",
        "*  Floating point\n",
        "*  Complex (imaginary numbers)\n",
        "\n",
        "\n"
      ],
      "metadata": {
        "id": "YtrtLITQBD-X"
      }
    },
    {
      "cell_type": "code",
      "source": [
        "#Booleans\n",
        "a = True\n",
        "b = False\n",
        "\n",
        "#True evaluates as a 1 and False is a 0.  \n",
        "c = 4 + True\n",
        "print('c =',c)\n",
        "\n",
        "d = 0\n",
        "if d == False:\n",
        "  print('d if False')\n",
        "  "
      ],
      "metadata": {
        "colab": {
          "base_uri": "https://localhost:8080/"
        },
        "id": "cDDwj8f2BBZl",
        "outputId": "b2a37cfe-fbf0-4909-90ff-9a64ea376905"
      },
      "execution_count": null,
      "outputs": [
        {
          "output_type": "stream",
          "name": "stdout",
          "text": [
            "c = 5\n",
            "d if False\n"
          ]
        }
      ]
    },
    {
      "cell_type": "code",
      "source": [
        "#integers\n",
        "#Signed values of arbitrary size\n",
        "a = 37\n",
        "b = -29875486231854477\n",
        "c = 0x7fa8\n",
        "d = 0b1000001111\n",
        "\n",
        "#There are two internal representations\n",
        "#int: small values (less than 32-bits in size)\n",
        "#large: Large values (arbitrary size).  Sometimes you'll see L shown at the end of large valuers.  \n",
        "\n",
        "print(a, b, c, d)"
      ],
      "metadata": {
        "colab": {
          "base_uri": "https://localhost:8080/"
        },
        "id": "DPG287B0Bwfr",
        "outputId": "ce17f857-191b-4a21-f8dd-03d6844052b4"
      },
      "execution_count": null,
      "outputs": [
        {
          "output_type": "stream",
          "name": "stdout",
          "text": [
            "37 -29875486231854477 32680 527\n"
          ]
        }
      ]
    },
    {
      "cell_type": "markdown",
      "source": [
        "## Integer Operations"
      ],
      "metadata": {
        "id": "hSYum9CYIjTB"
      }
    },
    {
      "cell_type": "markdown",
      "source": [
        "Integer Operations\n",
        "\n",
        "\n",
        "\n",
        "*  \"+\" : sum\n",
        "*  \"-\" : difference\n",
        "*  \"*\" : product\n",
        "*  \"\\\\\" : quotient\n",
        "*  \"\\\\\\\\\" : floored quotient\n",
        "*  \"%\" : remainder (or modulus)\n",
        "*  abs(x) : absolute value\n",
        "*  int(x) : convert to integer\n",
        "*  float(x) : convert to float\n",
        "*  complex(re, im) : a complex number\n",
        "*  c.conjugate() : conjugate of complex number c\n",
        "*  divmod(x, y): The pair of x//y and x % y\n",
        "*  pow(x, y): x to the power y\n",
        "*  x ** y: x to the power y\n"
      ],
      "metadata": {
        "id": "JZBC0ghQCfl5"
      }
    },
    {
      "cell_type": "code",
      "source": [
        "print(\"5/4\")\n",
        "print(5/4)\n",
        "print(\"5//4\")\n",
        "print(5//4)\n",
        "c = complex(1,3)\n",
        "print(c)\n",
        "print(c.conjugate())\n",
        "\n",
        "print(12//5)\n",
        "print(12%5)\n",
        "print(divmod(12,5))\n",
        "\n",
        "#Recipricol\n",
        "x = 3\n",
        "print(1/x)"
      ],
      "metadata": {
        "colab": {
          "base_uri": "https://localhost:8080/"
        },
        "id": "mgfM8HGcCeVQ",
        "outputId": "5f28619e-1df6-410e-e99d-324d67653803"
      },
      "execution_count": null,
      "outputs": [
        {
          "output_type": "stream",
          "name": "stdout",
          "text": [
            "5/4\n",
            "1.25\n",
            "5//4\n",
            "1\n",
            "(1+3j)\n",
            "(1-3j)\n",
            "2\n",
            "2\n",
            "(2, 2)\n",
            "0.3333333333333333\n"
          ]
        }
      ]
    },
    {
      "cell_type": "code",
      "source": [
        "print(\"5 + 4 = \", 5 + 4)\n",
        "print(\"2^3 = \", pow(2,3))\n",
        "print(\"2^3 = \", 2**3)\n",
        "print(\"remainder 8 / 3 =\", 8 % 3)\n"
      ],
      "metadata": {
        "colab": {
          "base_uri": "https://localhost:8080/"
        },
        "id": "A5Vgdt1TEDBg",
        "outputId": "727f9565-b47f-4025-9a44-afb4d3b7a439"
      },
      "execution_count": null,
      "outputs": [
        {
          "output_type": "stream",
          "name": "stdout",
          "text": [
            "5 + 4 =  9\n",
            "2^3 =  8\n",
            "2^3 =  8\n",
            "remainder 8 / 3 =  2\n"
          ]
        }
      ]
    },
    {
      "cell_type": "markdown",
      "source": [
        "## Comparisons\n",
        "\n",
        "\n",
        "\n",
        "* \\> : Greater than\n",
        "* \\< : Less than\n",
        "* \\>= : Greater than or equal\n",
        "* <= : Less than or equal\n",
        "* !=: Not equal\n",
        "\n"
      ],
      "metadata": {
        "id": "qla3g-y8ElEa"
      }
    },
    {
      "cell_type": "code",
      "source": [
        "#Comparisons\n",
        "a = 1\n",
        "b = 2\n",
        "c = 3\n",
        "if b >= a and b <= c: \n",
        "  print('b is between a and c')"
      ],
      "metadata": {
        "colab": {
          "base_uri": "https://localhost:8080/"
        },
        "id": "vvKulCSvEi_e",
        "outputId": "53cacb96-6152-4e4c-bafd-9e76eae4f24a"
      },
      "execution_count": null,
      "outputs": [
        {
          "output_type": "stream",
          "name": "stdout",
          "text": [
            "b is between a and c\n"
          ]
        }
      ]
    },
    {
      "cell_type": "code",
      "source": [
        "#This is the same statement as before written slightly differently. \n",
        "a = 1\n",
        "b = 2\n",
        "c = 3\n",
        "if not(b < a or b > c): \n",
        "  print('b is between a and c')"
      ],
      "metadata": {
        "id": "h2kZd9LmFChw",
        "colab": {
          "base_uri": "https://localhost:8080/"
        },
        "outputId": "d4d73180-1d03-4862-fc8a-cefd280be9fe"
      },
      "execution_count": null,
      "outputs": [
        {
          "output_type": "stream",
          "name": "stdout",
          "text": [
            "b is between a and c\n"
          ]
        }
      ]
    },
    {
      "cell_type": "markdown",
      "source": [
        "## Floating Point\n"
      ],
      "metadata": {
        "id": "pv27QRhIIp4k"
      }
    },
    {
      "cell_type": "code",
      "source": [
        "#Floating point\n",
        "#Use decimal or exponential notation\n",
        "a = 37.5\n",
        "b = 4e5\n",
        "c = 1.34e-10\n",
        "print('a = ', a)\n",
        "print('b = ', b)\n",
        "print('c = ', c)"
      ],
      "metadata": {
        "colab": {
          "base_uri": "https://localhost:8080/"
        },
        "id": "_sjDzDrLFR_8",
        "outputId": "af415cfa-1304-4109-e951-f09290ba1957"
      },
      "execution_count": null,
      "outputs": [
        {
          "output_type": "stream",
          "name": "stdout",
          "text": [
            "a =  37.5\n",
            "b =  400000.0\n",
            "c =  1.34e-10\n"
          ]
        }
      ]
    },
    {
      "cell_type": "code",
      "source": [
        "#floating points numbers are inexact decimal values \n",
        "a = 2.1 + 4.1\n",
        "print(a == 6.3)\n",
        "print(a)\n",
        "\n",
        "#Does anyone know what is happening here?"
      ],
      "metadata": {
        "colab": {
          "base_uri": "https://localhost:8080/"
        },
        "id": "tDiAAvbyFhew",
        "outputId": "4f6d5d20-7fbf-4f8e-e6b0-7026dfb903a2"
      },
      "execution_count": null,
      "outputs": [
        {
          "output_type": "stream",
          "name": "stdout",
          "text": [
            "False\n",
            "6.300000000000001\n"
          ]
        }
      ]
    },
    {
      "cell_type": "markdown",
      "source": [
        "## Floating Point Operations"
      ],
      "metadata": {
        "id": "sJATQizpIuH1"
      }
    },
    {
      "cell_type": "code",
      "source": [
        "#floating point operations\n",
        "#all of the operations that were mentioned before (e.g. +, -, /, %, etc.)\n",
        "#We also have these available in the math module\n",
        "import math\n",
        "x = 4\n",
        "print(math.sqrt(x))\n",
        "print(math.sin(x))\n",
        "print(math.cos(x))\n",
        "print(math.tan(x))\n",
        "print(math.log(2)) #Natural log unless otherwise specified\n",
        "print(math.log(10000, 10)) #\n",
        "print(math.exp(1)) "
      ],
      "metadata": {
        "colab": {
          "base_uri": "https://localhost:8080/"
        },
        "id": "lDs1zQFjHpGL",
        "outputId": "1a60f586-ce98-494f-9cff-60ff0fb47cbf"
      },
      "execution_count": null,
      "outputs": [
        {
          "output_type": "stream",
          "name": "stdout",
          "text": [
            "2.0\n",
            "-0.7568024953079282\n",
            "-0.6536436208636119\n",
            "1.1578212823495775\n",
            "0.6931471805599453\n",
            "4.0\n",
            "2.718281828459045\n"
          ]
        }
      ]
    },
    {
      "cell_type": "code",
      "source": [
        "import math as m\n",
        "x = 4\n",
        "print(math.sqrt(x))"
      ],
      "metadata": {
        "colab": {
          "base_uri": "https://localhost:8080/"
        },
        "id": "-bMJh4AgMdzQ",
        "outputId": "35d04b13-dcf6-4a9e-d984-fa30d87922d8"
      },
      "execution_count": null,
      "outputs": [
        {
          "output_type": "stream",
          "name": "stdout",
          "text": [
            "2.0\n"
          ]
        }
      ]
    },
    {
      "cell_type": "code",
      "source": [
        "#Type conversion\n",
        "x = 5.0\n",
        "print(x)\n",
        "print(type(x))\n",
        "\n",
        "a = int(x)\n",
        "print(a)\n",
        "print(type(a))\n",
        "\n",
        "b = float(a)\n",
        "print(b)\n",
        "print(type(b))\n",
        "\n",
        "pi = '3.141519'\n",
        "a = float(pi)\n",
        "print(pi)\n",
        "print(type(pi))\n",
        "print(type(a))"
      ],
      "metadata": {
        "colab": {
          "base_uri": "https://localhost:8080/"
        },
        "id": "9RvOoHqwJw-R",
        "outputId": "1224fb37-b3d7-4856-de99-4c318e4a40b5"
      },
      "execution_count": null,
      "outputs": [
        {
          "output_type": "stream",
          "name": "stdout",
          "text": [
            "5.0\n",
            "<class 'float'>\n",
            "5\n",
            "<class 'int'>\n",
            "5.0\n",
            "<class 'float'>\n",
            "3.141519\n",
            "<class 'str'>\n",
            "<class 'float'>\n"
          ]
        }
      ]
    },
    {
      "cell_type": "markdown",
      "source": [
        "# Functions"
      ],
      "metadata": {
        "id": "7-J_fDALKKpp"
      }
    },
    {
      "cell_type": "code",
      "source": [
        "def get_max_value(a,b):\n",
        "  if a>b:\n",
        "    return a\n",
        "  else: \n",
        "    return b\n",
        "\n",
        "#These both work\n",
        "print(\"Maximum value is\",get_max_value(4,5))\n",
        "print(\"Maximum value is \" + str(get_max_value(4,5)))"
      ],
      "metadata": {
        "colab": {
          "base_uri": "https://localhost:8080/"
        },
        "id": "IsObXOABKJT1",
        "outputId": "7b873d25-1b6e-414f-ed01-878cb58a33e5"
      },
      "execution_count": null,
      "outputs": [
        {
          "output_type": "stream",
          "name": "stdout",
          "text": [
            "Maximum value is 5\n",
            "Maximum value is 5\n"
          ]
        }
      ]
    },
    {
      "cell_type": "markdown",
      "source": [
        "# Exercise 1\n",
        "\n",
        "The height of a lego brick is 9.6 mm. We want to build a tower at a height closest to x m.(Remember 1000 mm in a m.)\n",
        "\n",
        "Imagine your starter code is:\n",
        "x=3    # I want to build a tower that is ~ 3 m high\n",
        "\n",
        "1.   Write a statement to calculate how many bricks are needed.\n",
        "2.   Write code using a while loop to calculate the number of bricks needed.\n",
        "\n"
      ],
      "metadata": {
        "id": "Czhfot1RLhHN"
      }
    },
    {
      "cell_type": "code",
      "source": [
        "#input is height in meters\n",
        "def number_of_bricks(x):\n",
        "  height_mm = 1000*x\n",
        "  out = round(height_mm / 9.6) #number of bricks\n",
        "  return out\n",
        "\n",
        "number_of_bricks(5)  \n"
      ],
      "metadata": {
        "colab": {
          "base_uri": "https://localhost:8080/"
        },
        "id": "hrfYsP5LQJ74",
        "outputId": "60604068-cfe1-44ce-ca29-8374cc3c3135"
      },
      "execution_count": null,
      "outputs": [
        {
          "output_type": "execute_result",
          "data": {
            "text/plain": [
              "521"
            ]
          },
          "metadata": {},
          "execution_count": 4
        }
      ]
    },
    {
      "cell_type": "code",
      "source": [
        "def number_of_bricks(x):\n",
        "  num_bricks = 0\n",
        "  while 9.6*num_bricks < 1000*x:\n",
        "    num_bricks += 1\n",
        "  return num_bricks\n",
        "\n",
        "number_of_bricks(5) "
      ],
      "metadata": {
        "colab": {
          "base_uri": "https://localhost:8080/"
        },
        "id": "gGqKXsaKQnw-",
        "outputId": "03414b3d-84c0-4143-a8b6-832e267c7d7e"
      },
      "execution_count": null,
      "outputs": [
        {
          "output_type": "execute_result",
          "data": {
            "text/plain": [
              "521"
            ]
          },
          "metadata": {},
          "execution_count": 14
        }
      ]
    },
    {
      "cell_type": "code",
      "source": [
        ""
      ],
      "metadata": {
        "id": "ZCRJYJCDVZ0P"
      },
      "execution_count": null,
      "outputs": []
    }
  ]
}