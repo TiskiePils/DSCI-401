{
  "nbformat": 4,
  "nbformat_minor": 0,
  "metadata": {
    "colab": {
      "provenance": [],
      "collapsed_sections": [],
      "authorship_tag": "ABX9TyOfmUk88dCJzdfPOh3EQ/qy",
      "include_colab_link": true
    },
    "kernelspec": {
      "name": "python3",
      "display_name": "Python 3"
    },
    "language_info": {
      "name": "python"
    }
  },
  "cells": [
    {
      "cell_type": "markdown",
      "metadata": {
        "id": "view-in-github",
        "colab_type": "text"
      },
      "source": [
        "<a href=\"https://colab.research.google.com/github/gjm112/DSCI401/blob/main/Iteration.ipynb\" target=\"_parent\"><img src=\"https://colab.research.google.com/assets/colab-badge.svg\" alt=\"Open In Colab\"/></a>"
      ]
    },
    {
      "cell_type": "code",
      "execution_count": 5,
      "metadata": {
        "id": "yAj5IVBMYumW"
      },
      "outputs": [],
      "source": [
        "import pandas as pd\n",
        "import numpy as np\n",
        "\n",
        "Teams = pd.read_csv(\"https://raw.githubusercontent.com/gjm112/DSCI401/main/data/Teams.csv\")\n"
      ]
    },
    {
      "cell_type": "code",
      "source": [
        "averages = np.zeros(26)\n",
        "for i in range(14,40):\n",
        "  averages[i-14] = np.mean(Teams.iloc[:,i])\n",
        "\n",
        "print(averages)\n",
        "df = pd.DataFrame(averages, index=Teams.columns[[range(14,40)]], columns = [1])\n",
        "print(df)"
      ],
      "metadata": {
        "colab": {
          "base_uri": "https://localhost:8080/"
        },
        "id": "yxiJGnSGZGki",
        "outputId": "db445ded-bad7-49ca-c81b-96a9c8fc55b9"
      },
      "execution_count": 39,
      "outputs": [
        {
          "output_type": "stream",
          "name": "stdout",
          "text": [
            "[6.81030821e+02 5.12899095e+03 1.33942044e+03 2.28669682e+02\n",
            " 4.56730318e+01 1.05865997e+02 4.73557306e+02 7.62133715e+02\n",
            " 1.09408185e+02 4.65499303e+01 4.58210181e+01 4.41059557e+01\n",
            " 6.81029816e+02 5.73405360e+02 3.84064322e+00 4.75453936e+01\n",
            " 9.58760469e+00 2.44217755e+01 4.01323652e+03 1.33920000e+03\n",
            " 1.05865997e+02 4.73747404e+02 7.61580570e+02 1.80784925e+02\n",
            " 1.32617755e+02 9.66350419e-01]\n",
            "                  1\n",
            "R        681.030821\n",
            "AB      5128.990955\n",
            "H       1339.420436\n",
            "X2B      228.669682\n",
            "X3B       45.673032\n",
            "HR       105.865997\n",
            "BB       473.557306\n",
            "SO       762.133715\n",
            "SB       109.408185\n",
            "CS        46.549930\n",
            "HBP       45.821018\n",
            "SF        44.105956\n",
            "RA       681.029816\n",
            "ER       573.405360\n",
            "ERA        3.840643\n",
            "CG        47.545394\n",
            "SHO        9.587605\n",
            "SV        24.421776\n",
            "IPouts  4013.236516\n",
            "HA      1339.200000\n",
            "HRA      105.865997\n",
            "BBA      473.747404\n",
            "SOA      761.580570\n",
            "E        180.784925\n",
            "DP       132.617755\n",
            "FP         0.966350\n"
          ]
        },
        {
          "output_type": "stream",
          "name": "stderr",
          "text": [
            "/usr/local/lib/python3.7/dist-packages/pandas/core/indexes/base.py:4616: FutureWarning: Using a non-tuple sequence for multidimensional indexing is deprecated; use `arr[tuple(seq)]` instead of `arr[seq]`. In the future this will be interpreted as an array index, `arr[np.array(seq)]`, which will result either in an error or a different result.\n",
            "  result = getitem(key)\n"
          ]
        }
      ]
    },
    {
      "cell_type": "code",
      "source": [
        "def f(x):\n",
        "    # return math.sqrt(x)\n",
        "    return np.sqrt(x)\n",
        "\n",
        "f([1,2,4])\n"
      ],
      "metadata": {
        "colab": {
          "base_uri": "https://localhost:8080/"
        },
        "id": "b3fkYnSIj9fP",
        "outputId": "dc87f137-7d58-413b-be57-40d764b20e37"
      },
      "execution_count": 101,
      "outputs": [
        {
          "output_type": "execute_result",
          "data": {
            "text/plain": [
              "array([1.        , 1.41421356, 2.        ])"
            ]
          },
          "metadata": {},
          "execution_count": 101
        }
      ]
    },
    {
      "cell_type": "code",
      "source": [
        "vf = np.vectorize(f)\n",
        "vf([1,2,3])"
      ],
      "metadata": {
        "colab": {
          "base_uri": "https://localhost:8080/"
        },
        "id": "z3T7wJQzkBJ3",
        "outputId": "60321764-bd24-43ab-de5a-cbb42f71edee"
      },
      "execution_count": 102,
      "outputs": [
        {
          "output_type": "execute_result",
          "data": {
            "text/plain": [
              "array([1.        , 1.41421356, 1.73205081])"
            ]
          },
          "metadata": {},
          "execution_count": 102
        }
      ]
    },
    {
      "cell_type": "code",
      "source": [
        "#pull out the numeric variables, but you need to know the index.  \n",
        "Teams.iloc[:,range(14,40)].apply(np.mean,axis = 0)\n"
      ],
      "metadata": {
        "colab": {
          "base_uri": "https://localhost:8080/"
        },
        "id": "Oe28M3FbZoV9",
        "outputId": "78f7ccc0-a52e-4134-a452-ddcb275e4af6"
      },
      "execution_count": 47,
      "outputs": [
        {
          "output_type": "execute_result",
          "data": {
            "text/plain": [
              "R          681.030821\n",
              "AB        5128.990955\n",
              "H         1339.420436\n",
              "X2B        228.669682\n",
              "X3B         45.673032\n",
              "HR         105.865997\n",
              "BB         473.557306\n",
              "SO         762.133715\n",
              "SB         109.408185\n",
              "CS          46.549930\n",
              "HBP         45.821018\n",
              "SF          44.105956\n",
              "RA         681.029816\n",
              "ER         573.405360\n",
              "ERA          3.840643\n",
              "CG          47.545394\n",
              "SHO          9.587605\n",
              "SV          24.421776\n",
              "IPouts    4013.236516\n",
              "HA        1339.200000\n",
              "HRA        105.865997\n",
              "BBA        473.747404\n",
              "SOA        761.580570\n",
              "E          180.784925\n",
              "DP         132.617755\n",
              "FP           0.966350\n",
              "dtype: float64"
            ]
          },
          "metadata": {},
          "execution_count": 47
        }
      ]
    },
    {
      "cell_type": "code",
      "source": [
        "#Pull out the numeric variables without the index\n",
        "numerics = ['int16', 'int32', 'int64']\n",
        "Teams_sub = Teams.select_dtypes(include=numerics)\n",
        "Teams_sub.apply(np.mean,axis = 0)"
      ],
      "metadata": {
        "colab": {
          "base_uri": "https://localhost:8080/"
        },
        "id": "neWuAVuwcXA8",
        "outputId": "4a8bb8d8-0ec3-488d-e345-31b781e2018b"
      },
      "execution_count": 50,
      "outputs": [
        {
          "output_type": "execute_result",
          "data": {
            "text/plain": [
              "yearID    1958.863652\n",
              "Rank         4.039196\n",
              "G          150.006030\n",
              "W           74.611055\n",
              "L           74.611055\n",
              "R          681.030821\n",
              "AB        5128.990955\n",
              "H         1339.420436\n",
              "X2B        228.669682\n",
              "X3B         45.673032\n",
              "HR         105.865997\n",
              "RA         681.029816\n",
              "ER         573.405360\n",
              "CG          47.545394\n",
              "SHO          9.587605\n",
              "SV          24.421776\n",
              "IPouts    4013.236516\n",
              "HA        1339.200000\n",
              "HRA        105.865997\n",
              "BBA        473.747404\n",
              "SOA        761.580570\n",
              "E          180.784925\n",
              "DP         132.617755\n",
              "BPF        100.189950\n",
              "PPF        100.212395\n",
              "dtype: float64"
            ]
          },
          "metadata": {},
          "execution_count": 50
        }
      ]
    },
    {
      "cell_type": "code",
      "source": [
        "\n"
      ],
      "metadata": {
        "colab": {
          "base_uri": "https://localhost:8080/",
          "height": 168
        },
        "id": "riSlPBWFc41k",
        "outputId": "f0180709-8063-43de-988b-ff76bbd2af9e"
      },
      "execution_count": 92,
      "outputs": [
        {
          "output_type": "error",
          "ename": "NameError",
          "evalue": "ignored",
          "traceback": [
            "\u001b[0;31m---------------------------------------------------------------------------\u001b[0m",
            "\u001b[0;31mNameError\u001b[0m                                 Traceback (most recent call last)",
            "\u001b[0;32m<ipython-input-92-c5407c0bfb8e>\u001b[0m in \u001b[0;36m<module>\u001b[0;34m\u001b[0m\n\u001b[0;32m----> 1\u001b[0;31m \u001b[0mangels\u001b[0m \u001b[0;34m=\u001b[0m \u001b[0mTeams\u001b[0m\u001b[0;34m[\u001b[0m\u001b[0mfranchID\u001b[0m \u001b[0;34m==\u001b[0m \u001b[0;34m\"ANA\"\u001b[0m\u001b[0;34m]\u001b[0m\u001b[0;34m.\u001b[0m\u001b[0mgroupby\u001b[0m\u001b[0;34m(\u001b[0m\u001b[0;34m[\u001b[0m\u001b[0;34m\"teamID\"\u001b[0m\u001b[0;34m,\u001b[0m\u001b[0;34m\"name\"\u001b[0m\u001b[0;34m]\u001b[0m\u001b[0;34m)\u001b[0m\u001b[0;34m.\u001b[0m\u001b[0mhead\u001b[0m\u001b[0;34m(\u001b[0m\u001b[0;34m)\u001b[0m\u001b[0;34m\u001b[0m\u001b[0;34m\u001b[0m\u001b[0m\n\u001b[0m",
            "\u001b[0;31mNameError\u001b[0m: name 'franchID' is not defined"
          ]
        }
      ]
    },
    {
      "cell_type": "code",
      "source": [
        "angels = Teams[Teams.franchID == \"ANA\"].groupby([\"teamID\",\"name\"])\n",
        "first = angels.apply(lambda x: x.head(1))[[\"name\",\"yearID\"]]\n",
        "first.reset_index(drop=True, inplace=True)\n",
        "last = angels.apply(lambda x: x.tail(1))[[\"name\",\"yearID\"]]\n",
        "last.reset_index(drop=True, inplace=True)\n",
        "merg = first.merge(last, on = \"name\")\n",
        "merg = merg.rename(columns = {\"yearID_x\":\"start\",\"yearID_y\":\"end\"})\n",
        "print(merg)"
      ],
      "metadata": {
        "colab": {
          "base_uri": "https://localhost:8080/"
        },
        "id": "-vsEfe9rd3Lr",
        "outputId": "bee0cfe2-1548-4912-b2f9-4e43c069f655"
      },
      "execution_count": 14,
      "outputs": [
        {
          "output_type": "stream",
          "name": "stdout",
          "text": [
            "                            name  start   end\n",
            "0                 Anaheim Angels   1997  2004\n",
            "1              California Angels   1965  1996\n",
            "2             Los Angeles Angels   1961  1964\n",
            "3  Los Angeles Angels of Anaheim   2005  2021\n"
          ]
        }
      ]
    },
    {
      "cell_type": "code",
      "source": [
        "merg.name.apply(len)\n",
        "#Or this\n",
        "#merg[\"name\"].apply(len)\n"
      ],
      "metadata": {
        "colab": {
          "base_uri": "https://localhost:8080/"
        },
        "id": "vqE9l0MRfrrT",
        "outputId": "eb0c56b4-55ff-4b2e-eb96-a41803257eea"
      },
      "execution_count": 11,
      "outputs": [
        {
          "output_type": "execute_result",
          "data": {
            "text/plain": [
              "0    14\n",
              "1    17\n",
              "2    18\n",
              "3    29\n",
              "Name: name, dtype: int64"
            ]
          },
          "metadata": {},
          "execution_count": 11
        }
      ]
    },
    {
      "cell_type": "markdown",
      "source": [
        "# Iterating over your own function\n"
      ],
      "metadata": {
        "id": "Xjv7gEZahWKS"
      }
    },
    {
      "cell_type": "code",
      "source": [
        "def top5( data, team_name):\n",
        "  out = data[data.name == team_name][[\"teamID\",\"yearID\",\"W\",\"L\",\"name\"]].sort_values(\"W\", ascending = False).head(5) \n",
        "  return(out)\n",
        "\n",
        "top5(Teams, \"New York Yankees\")\n",
        "\n",
        "\n"
      ],
      "metadata": {
        "colab": {
          "base_uri": "https://localhost:8080/",
          "height": 206
        },
        "id": "9Gkgj4ZEhbGK",
        "outputId": "96c2cac2-705b-4e8b-a6fe-8c8add6976c9"
      },
      "execution_count": 23,
      "outputs": [
        {
          "output_type": "execute_result",
          "data": {
            "text/plain": [
              "     teamID  yearID    W   L              name\n",
              "2283    NYA    1998  114  48  New York Yankees\n",
              "824     NYA    1927  110  44  New York Yankees\n",
              "1371    NYA    1961  109  53  New York Yankees\n",
              "904     NYA    1932  107  47  New York Yankees\n",
              "1016    NYA    1939  106  45  New York Yankees"
            ],
            "text/html": [
              "\n",
              "  <div id=\"df-bbde9004-f793-4a99-9eab-831ae3d78c28\">\n",
              "    <div class=\"colab-df-container\">\n",
              "      <div>\n",
              "<style scoped>\n",
              "    .dataframe tbody tr th:only-of-type {\n",
              "        vertical-align: middle;\n",
              "    }\n",
              "\n",
              "    .dataframe tbody tr th {\n",
              "        vertical-align: top;\n",
              "    }\n",
              "\n",
              "    .dataframe thead th {\n",
              "        text-align: right;\n",
              "    }\n",
              "</style>\n",
              "<table border=\"1\" class=\"dataframe\">\n",
              "  <thead>\n",
              "    <tr style=\"text-align: right;\">\n",
              "      <th></th>\n",
              "      <th>teamID</th>\n",
              "      <th>yearID</th>\n",
              "      <th>W</th>\n",
              "      <th>L</th>\n",
              "      <th>name</th>\n",
              "    </tr>\n",
              "  </thead>\n",
              "  <tbody>\n",
              "    <tr>\n",
              "      <th>2283</th>\n",
              "      <td>NYA</td>\n",
              "      <td>1998</td>\n",
              "      <td>114</td>\n",
              "      <td>48</td>\n",
              "      <td>New York Yankees</td>\n",
              "    </tr>\n",
              "    <tr>\n",
              "      <th>824</th>\n",
              "      <td>NYA</td>\n",
              "      <td>1927</td>\n",
              "      <td>110</td>\n",
              "      <td>44</td>\n",
              "      <td>New York Yankees</td>\n",
              "    </tr>\n",
              "    <tr>\n",
              "      <th>1371</th>\n",
              "      <td>NYA</td>\n",
              "      <td>1961</td>\n",
              "      <td>109</td>\n",
              "      <td>53</td>\n",
              "      <td>New York Yankees</td>\n",
              "    </tr>\n",
              "    <tr>\n",
              "      <th>904</th>\n",
              "      <td>NYA</td>\n",
              "      <td>1932</td>\n",
              "      <td>107</td>\n",
              "      <td>47</td>\n",
              "      <td>New York Yankees</td>\n",
              "    </tr>\n",
              "    <tr>\n",
              "      <th>1016</th>\n",
              "      <td>NYA</td>\n",
              "      <td>1939</td>\n",
              "      <td>106</td>\n",
              "      <td>45</td>\n",
              "      <td>New York Yankees</td>\n",
              "    </tr>\n",
              "  </tbody>\n",
              "</table>\n",
              "</div>\n",
              "      <button class=\"colab-df-convert\" onclick=\"convertToInteractive('df-bbde9004-f793-4a99-9eab-831ae3d78c28')\"\n",
              "              title=\"Convert this dataframe to an interactive table.\"\n",
              "              style=\"display:none;\">\n",
              "        \n",
              "  <svg xmlns=\"http://www.w3.org/2000/svg\" height=\"24px\"viewBox=\"0 0 24 24\"\n",
              "       width=\"24px\">\n",
              "    <path d=\"M0 0h24v24H0V0z\" fill=\"none\"/>\n",
              "    <path d=\"M18.56 5.44l.94 2.06.94-2.06 2.06-.94-2.06-.94-.94-2.06-.94 2.06-2.06.94zm-11 1L8.5 8.5l.94-2.06 2.06-.94-2.06-.94L8.5 2.5l-.94 2.06-2.06.94zm10 10l.94 2.06.94-2.06 2.06-.94-2.06-.94-.94-2.06-.94 2.06-2.06.94z\"/><path d=\"M17.41 7.96l-1.37-1.37c-.4-.4-.92-.59-1.43-.59-.52 0-1.04.2-1.43.59L10.3 9.45l-7.72 7.72c-.78.78-.78 2.05 0 2.83L4 21.41c.39.39.9.59 1.41.59.51 0 1.02-.2 1.41-.59l7.78-7.78 2.81-2.81c.8-.78.8-2.07 0-2.86zM5.41 20L4 18.59l7.72-7.72 1.47 1.35L5.41 20z\"/>\n",
              "  </svg>\n",
              "      </button>\n",
              "      \n",
              "  <style>\n",
              "    .colab-df-container {\n",
              "      display:flex;\n",
              "      flex-wrap:wrap;\n",
              "      gap: 12px;\n",
              "    }\n",
              "\n",
              "    .colab-df-convert {\n",
              "      background-color: #E8F0FE;\n",
              "      border: none;\n",
              "      border-radius: 50%;\n",
              "      cursor: pointer;\n",
              "      display: none;\n",
              "      fill: #1967D2;\n",
              "      height: 32px;\n",
              "      padding: 0 0 0 0;\n",
              "      width: 32px;\n",
              "    }\n",
              "\n",
              "    .colab-df-convert:hover {\n",
              "      background-color: #E2EBFA;\n",
              "      box-shadow: 0px 1px 2px rgba(60, 64, 67, 0.3), 0px 1px 3px 1px rgba(60, 64, 67, 0.15);\n",
              "      fill: #174EA6;\n",
              "    }\n",
              "\n",
              "    [theme=dark] .colab-df-convert {\n",
              "      background-color: #3B4455;\n",
              "      fill: #D2E3FC;\n",
              "    }\n",
              "\n",
              "    [theme=dark] .colab-df-convert:hover {\n",
              "      background-color: #434B5C;\n",
              "      box-shadow: 0px 1px 3px 1px rgba(0, 0, 0, 0.15);\n",
              "      filter: drop-shadow(0px 1px 2px rgba(0, 0, 0, 0.3));\n",
              "      fill: #FFFFFF;\n",
              "    }\n",
              "  </style>\n",
              "\n",
              "      <script>\n",
              "        const buttonEl =\n",
              "          document.querySelector('#df-bbde9004-f793-4a99-9eab-831ae3d78c28 button.colab-df-convert');\n",
              "        buttonEl.style.display =\n",
              "          google.colab.kernel.accessAllowed ? 'block' : 'none';\n",
              "\n",
              "        async function convertToInteractive(key) {\n",
              "          const element = document.querySelector('#df-bbde9004-f793-4a99-9eab-831ae3d78c28');\n",
              "          const dataTable =\n",
              "            await google.colab.kernel.invokeFunction('convertToInteractive',\n",
              "                                                     [key], {});\n",
              "          if (!dataTable) return;\n",
              "\n",
              "          const docLinkHtml = 'Like what you see? Visit the ' +\n",
              "            '<a target=\"_blank\" href=https://colab.research.google.com/notebooks/data_table.ipynb>data table notebook</a>'\n",
              "            + ' to learn more about interactive tables.';\n",
              "          element.innerHTML = '';\n",
              "          dataTable['output_type'] = 'display_data';\n",
              "          await google.colab.output.renderOutput(dataTable, element);\n",
              "          const docLink = document.createElement('div');\n",
              "          docLink.innerHTML = docLinkHtml;\n",
              "          element.appendChild(docLink);\n",
              "        }\n",
              "      </script>\n",
              "    </div>\n",
              "  </div>\n",
              "  "
            ]
          },
          "metadata": {},
          "execution_count": 23
        }
      ]
    },
    {
      "cell_type": "code",
      "source": [
        "angels_names = merg[\"name\"]\n",
        "angels_names.head()\n",
        "\n",
        "\n"
      ],
      "metadata": {
        "colab": {
          "base_uri": "https://localhost:8080/"
        },
        "id": "Ki3pHeTjiTyP",
        "outputId": "956d327d-a311-4f4b-e8a3-be0388f1e5ed"
      },
      "execution_count": 24,
      "outputs": [
        {
          "output_type": "execute_result",
          "data": {
            "text/plain": [
              "0                   Anaheim Angels\n",
              "1                California Angels\n",
              "2               Los Angeles Angels\n",
              "3    Los Angeles Angels of Anaheim\n",
              "Name: name, dtype: object"
            ]
          },
          "metadata": {},
          "execution_count": 24
        }
      ]
    },
    {
      "cell_type": "code",
      "source": [
        "#I can't figure out how to do this in python!\n",
        "#list(map(top5,angels_names,Teams))\n",
        "\n",
        "#I can hard code the Teams data set though and get it to work.  \n",
        "def top5(team_name):\n",
        "  out = Teams[Teams.name == team_name][[\"teamID\",\"yearID\",\"W\",\"L\",\"name\"]].sort_values(\"W\", ascending = False).head(5) \n",
        "  return(out)\n",
        "\n",
        "top5(\"New York Yankees\")\n",
        "list(map(top5,angels_names))"
      ],
      "metadata": {
        "colab": {
          "base_uri": "https://localhost:8080/"
        },
        "id": "jBzWtPAHkOqs",
        "outputId": "5cab0dc2-69c6-485b-b052-0c40f7b41223"
      },
      "execution_count": 31,
      "outputs": [
        {
          "output_type": "execute_result",
          "data": {
            "text/plain": [
              "[     teamID  yearID   W   L            name\n",
              " 2385    ANA    2002  99  63  Anaheim Angels\n",
              " 2445    ANA    2004  92  70  Anaheim Angels\n",
              " 2265    ANA    1998  85  77  Anaheim Angels\n",
              " 2237    ANA    1997  84  78  Anaheim Angels\n",
              " 2325    ANA    2000  82  80  Anaheim Angels,\n",
              "      teamID  yearID   W   L               name\n",
              " 1842    CAL    1982  93  69  California Angels\n",
              " 1946    CAL    1986  92  70  California Angels\n",
              " 2024    CAL    1989  91  71  California Angels\n",
              " 1920    CAL    1985  90  72  California Angels\n",
              " 1764    CAL    1979  88  74  California Angels,\n",
              "      teamID  yearID   W   L                name\n",
              " 1386    LAA    1962  86  76  Los Angeles Angels\n",
              " 1426    LAA    1964  82  80  Los Angeles Angels\n",
              " 1367    LAA    1961  70  91  Los Angeles Angels\n",
              " 1406    LAA    1963  70  91  Los Angeles Angels,\n",
              "      teamID  yearID    W   L                           name\n",
              " 2578    LAA    2008  100  62  Los Angeles Angels of Anaheim\n",
              " 2757    LAA    2014   98  64  Los Angeles Angels of Anaheim\n",
              " 2608    LAA    2009   97  65  Los Angeles Angels of Anaheim\n",
              " 2488    LAA    2005   95  67  Los Angeles Angels of Anaheim\n",
              " 2548    LAA    2007   94  68  Los Angeles Angels of Anaheim]"
            ]
          },
          "metadata": {},
          "execution_count": 31
        }
      ]
    },
    {
      "cell_type": "code",
      "source": [],
      "metadata": {
        "colab": {
          "base_uri": "https://localhost:8080/"
        },
        "id": "7yGhDJi4ZCSW",
        "outputId": "9e9ef17f-78ff-4354-dbba-32bf8961bda9"
      },
      "execution_count": 17,
      "outputs": [
        {
          "output_type": "execute_result",
          "data": {
            "text/plain": [
              "<function __main__.top5(data, team_name)>"
            ]
          },
          "metadata": {},
          "execution_count": 17
        }
      ]
    },
    {
      "cell_type": "markdown",
      "source": [],
      "metadata": {
        "id": "OeTrQJOtZCJg"
      }
    },
    {
      "cell_type": "code",
      "source": [
        "first_it = [1, 2, 3]\n",
        "second_it = [4, 5, 6, 7]\n",
        "\n",
        "list(map(pow, first_it, second_it))"
      ],
      "metadata": {
        "colab": {
          "base_uri": "https://localhost:8080/"
        },
        "id": "APjNUIS9YFSC",
        "outputId": "fe90ad16-4a97-4685-b3a7-96d7af79f547"
      },
      "execution_count": 2,
      "outputs": [
        {
          "output_type": "execute_result",
          "data": {
            "text/plain": [
              "[1, 32, 729]"
            ]
          },
          "metadata": {},
          "execution_count": 2
        }
      ]
    },
    {
      "cell_type": "markdown",
      "source": [],
      "metadata": {
        "id": "AQAQMSqnha-n"
      }
    }
  ]
}