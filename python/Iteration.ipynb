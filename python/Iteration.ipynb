{
  "nbformat": 4,
  "nbformat_minor": 0,
  "metadata": {
    "colab": {
      "provenance": [],
      "collapsed_sections": [],
      "authorship_tag": "ABX9TyNnDLK/j+MYB22wr8gIoZHD",
      "include_colab_link": true
    },
    "kernelspec": {
      "name": "python3",
      "display_name": "Python 3"
    },
    "language_info": {
      "name": "python"
    }
  },
  "cells": [
    {
      "cell_type": "markdown",
      "metadata": {
        "id": "view-in-github",
        "colab_type": "text"
      },
      "source": [
        "<a href=\"https://colab.research.google.com/github/gjm112/DSCI401/blob/main/Iteration.ipynb\" target=\"_parent\"><img src=\"https://colab.research.google.com/assets/colab-badge.svg\" alt=\"Open In Colab\"/></a>"
      ]
    },
    {
      "cell_type": "code",
      "execution_count": 4,
      "metadata": {
        "id": "yAj5IVBMYumW"
      },
      "outputs": [],
      "source": [
        "import pandas as pd\n",
        "import numpy as np\n",
        "\n",
        "Teams = pd.read_csv(\"https://raw.githubusercontent.com/gjm112/DSCI401/main/data/Teams.csv\")\n"
      ]
    },
    {
      "cell_type": "code",
      "source": [
        "averages = np.zeros(26)\n",
        "for i in range(14,40):\n",
        "  averages[i-14] = np.mean(Teams.iloc[:,i])\n",
        "\n",
        "print(averages)\n",
        "df = pd.DataFrame(averages, index=Teams.columns[[range(14,40)]], columns = [1])\n",
        "print(df)"
      ],
      "metadata": {
        "colab": {
          "base_uri": "https://localhost:8080/"
        },
        "id": "yxiJGnSGZGki",
        "outputId": "19dba9a7-a433-4a66-fe26-7b01546b6ed8"
      },
      "execution_count": null,
      "outputs": [
        {
          "output_type": "stream",
          "name": "stdout",
          "text": [
            "[6.81030821e+02 5.12899095e+03 1.33942044e+03 2.28669682e+02\n",
            " 4.56730318e+01 1.05865997e+02 4.73557306e+02 7.62133715e+02\n",
            " 1.09408185e+02 4.65499303e+01 4.58210181e+01 4.41059557e+01\n",
            " 6.81029816e+02 5.73405360e+02 3.84064322e+00 4.75453936e+01\n",
            " 9.58760469e+00 2.44217755e+01 4.01323652e+03 1.33920000e+03\n",
            " 1.05865997e+02 4.73747404e+02 7.61580570e+02 1.80784925e+02\n",
            " 1.32617755e+02 9.66350419e-01]\n",
            "                  1\n",
            "R        681.030821\n",
            "AB      5128.990955\n",
            "H       1339.420436\n",
            "X2B      228.669682\n",
            "X3B       45.673032\n",
            "HR       105.865997\n",
            "BB       473.557306\n",
            "SO       762.133715\n",
            "SB       109.408185\n",
            "CS        46.549930\n",
            "HBP       45.821018\n",
            "SF        44.105956\n",
            "RA       681.029816\n",
            "ER       573.405360\n",
            "ERA        3.840643\n",
            "CG        47.545394\n",
            "SHO        9.587605\n",
            "SV        24.421776\n",
            "IPouts  4013.236516\n",
            "HA      1339.200000\n",
            "HRA      105.865997\n",
            "BBA      473.747404\n",
            "SOA      761.580570\n",
            "E        180.784925\n",
            "DP       132.617755\n",
            "FP         0.966350\n"
          ]
        },
        {
          "output_type": "stream",
          "name": "stderr",
          "text": [
            "/usr/local/lib/python3.7/dist-packages/pandas/core/indexes/base.py:4616: FutureWarning: Using a non-tuple sequence for multidimensional indexing is deprecated; use `arr[tuple(seq)]` instead of `arr[seq]`. In the future this will be interpreted as an array index, `arr[np.array(seq)]`, which will result either in an error or a different result.\n",
            "  result = getitem(key)\n"
          ]
        }
      ]
    },
    {
      "cell_type": "code",
      "source": [
        "def f(x):\n",
        "    # return math.sqrt(x)\n",
        "    return np.sqrt(x)\n",
        "\n",
        "f([1,2,4])\n"
      ],
      "metadata": {
        "colab": {
          "base_uri": "https://localhost:8080/"
        },
        "id": "b3fkYnSIj9fP",
        "outputId": "1738e438-61c1-4f91-e91b-3775b756e0c4"
      },
      "execution_count": null,
      "outputs": [
        {
          "output_type": "execute_result",
          "data": {
            "text/plain": [
              "array([1.        , 1.41421356, 2.        ])"
            ]
          },
          "metadata": {},
          "execution_count": 3
        }
      ]
    },
    {
      "cell_type": "code",
      "source": [
        "vf = np.vectorize(f)\n",
        "vf([1,2,3])"
      ],
      "metadata": {
        "colab": {
          "base_uri": "https://localhost:8080/"
        },
        "id": "z3T7wJQzkBJ3",
        "outputId": "60321764-bd24-43ab-de5a-cbb42f71edee"
      },
      "execution_count": null,
      "outputs": [
        {
          "output_type": "execute_result",
          "data": {
            "text/plain": [
              "array([1.        , 1.41421356, 1.73205081])"
            ]
          },
          "metadata": {},
          "execution_count": 102
        }
      ]
    },
    {
      "cell_type": "code",
      "source": [
        "Teams.iloc[:,range(14,40)]"
      ],
      "metadata": {
        "colab": {
          "base_uri": "https://localhost:8080/",
          "height": 488
        },
        "id": "gUx_NH9Xx4lt",
        "outputId": "244b6ce0-c088-4e6c-db4e-335d16ac8379"
      },
      "execution_count": null,
      "outputs": [
        {
          "output_type": "execute_result",
          "data": {
            "text/plain": [
              "        R    AB     H  X2B  X3B   HR     BB      SO     SB    CS  ...  SHO  \\\n",
              "0     401  1372   426   70   37    3   60.0    19.0   73.0  16.0  ...    1   \n",
              "1     302  1196   323   52   21   10   60.0    22.0   69.0  21.0  ...    0   \n",
              "2     249  1186   328   35   40    7   26.0    25.0   18.0   8.0  ...    0   \n",
              "3     137   746   178   19    8    2   33.0     9.0   16.0   4.0  ...    1   \n",
              "4     302  1404   403   43   21    1   33.0    15.0   46.0  15.0  ...    1   \n",
              "...   ...   ...   ...  ...  ...  ...    ...     ...    ...   ...  ...  ...   \n",
              "2980  706  5351  1303  261   22  198  478.0  1341.0   89.0  22.0  ...   15   \n",
              "2981  857  5507  1336  288   36  222  585.0  1542.0   88.0  42.0  ...   13   \n",
              "2982  625  5405  1254  225   24  167  433.0  1381.0  106.0  29.0  ...    3   \n",
              "2983  846  5476  1455  285   13  262  496.0  1218.0   81.0  20.0  ...   14   \n",
              "2984  724  5385  1388  272   20  182  573.0  1303.0   56.0  26.0  ...    8   \n",
              "\n",
              "      SV  IPouts    HA  HRA  BBA   SOA    E   DP     FP  \n",
              "0      3     828   367    2   42    23  243   24  0.834  \n",
              "1      1     753   308    6   28    22  229   16  0.829  \n",
              "2      0     762   346   13   53    34  234   15  0.818  \n",
              "3      0     507   261    5   21    17  163    8  0.803  \n",
              "4      0     879   373    7   42    22  235   14  0.840  \n",
              "...   ..     ...   ...  ...  ...   ...  ...  ...    ...  \n",
              "2980  50    4251  1234  152  608  1225   84  137  0.986  \n",
              "2981  42    4367  1264  184  436  1478   80  130  0.986  \n",
              "2982  31    4273  1402  232  513  1239   83  146  0.986  \n",
              "2983  34    4216  1257  209  473  1468   90  122  0.984  \n",
              "2984  36    4183  1364  247  548  1346   96  116  0.983  \n",
              "\n",
              "[2985 rows x 26 columns]"
            ],
            "text/html": [
              "\n",
              "  <div id=\"df-be4fc6fe-cc63-4661-8149-1c8712f2ac9f\">\n",
              "    <div class=\"colab-df-container\">\n",
              "      <div>\n",
              "<style scoped>\n",
              "    .dataframe tbody tr th:only-of-type {\n",
              "        vertical-align: middle;\n",
              "    }\n",
              "\n",
              "    .dataframe tbody tr th {\n",
              "        vertical-align: top;\n",
              "    }\n",
              "\n",
              "    .dataframe thead th {\n",
              "        text-align: right;\n",
              "    }\n",
              "</style>\n",
              "<table border=\"1\" class=\"dataframe\">\n",
              "  <thead>\n",
              "    <tr style=\"text-align: right;\">\n",
              "      <th></th>\n",
              "      <th>R</th>\n",
              "      <th>AB</th>\n",
              "      <th>H</th>\n",
              "      <th>X2B</th>\n",
              "      <th>X3B</th>\n",
              "      <th>HR</th>\n",
              "      <th>BB</th>\n",
              "      <th>SO</th>\n",
              "      <th>SB</th>\n",
              "      <th>CS</th>\n",
              "      <th>...</th>\n",
              "      <th>SHO</th>\n",
              "      <th>SV</th>\n",
              "      <th>IPouts</th>\n",
              "      <th>HA</th>\n",
              "      <th>HRA</th>\n",
              "      <th>BBA</th>\n",
              "      <th>SOA</th>\n",
              "      <th>E</th>\n",
              "      <th>DP</th>\n",
              "      <th>FP</th>\n",
              "    </tr>\n",
              "  </thead>\n",
              "  <tbody>\n",
              "    <tr>\n",
              "      <th>0</th>\n",
              "      <td>401</td>\n",
              "      <td>1372</td>\n",
              "      <td>426</td>\n",
              "      <td>70</td>\n",
              "      <td>37</td>\n",
              "      <td>3</td>\n",
              "      <td>60.0</td>\n",
              "      <td>19.0</td>\n",
              "      <td>73.0</td>\n",
              "      <td>16.0</td>\n",
              "      <td>...</td>\n",
              "      <td>1</td>\n",
              "      <td>3</td>\n",
              "      <td>828</td>\n",
              "      <td>367</td>\n",
              "      <td>2</td>\n",
              "      <td>42</td>\n",
              "      <td>23</td>\n",
              "      <td>243</td>\n",
              "      <td>24</td>\n",
              "      <td>0.834</td>\n",
              "    </tr>\n",
              "    <tr>\n",
              "      <th>1</th>\n",
              "      <td>302</td>\n",
              "      <td>1196</td>\n",
              "      <td>323</td>\n",
              "      <td>52</td>\n",
              "      <td>21</td>\n",
              "      <td>10</td>\n",
              "      <td>60.0</td>\n",
              "      <td>22.0</td>\n",
              "      <td>69.0</td>\n",
              "      <td>21.0</td>\n",
              "      <td>...</td>\n",
              "      <td>0</td>\n",
              "      <td>1</td>\n",
              "      <td>753</td>\n",
              "      <td>308</td>\n",
              "      <td>6</td>\n",
              "      <td>28</td>\n",
              "      <td>22</td>\n",
              "      <td>229</td>\n",
              "      <td>16</td>\n",
              "      <td>0.829</td>\n",
              "    </tr>\n",
              "    <tr>\n",
              "      <th>2</th>\n",
              "      <td>249</td>\n",
              "      <td>1186</td>\n",
              "      <td>328</td>\n",
              "      <td>35</td>\n",
              "      <td>40</td>\n",
              "      <td>7</td>\n",
              "      <td>26.0</td>\n",
              "      <td>25.0</td>\n",
              "      <td>18.0</td>\n",
              "      <td>8.0</td>\n",
              "      <td>...</td>\n",
              "      <td>0</td>\n",
              "      <td>0</td>\n",
              "      <td>762</td>\n",
              "      <td>346</td>\n",
              "      <td>13</td>\n",
              "      <td>53</td>\n",
              "      <td>34</td>\n",
              "      <td>234</td>\n",
              "      <td>15</td>\n",
              "      <td>0.818</td>\n",
              "    </tr>\n",
              "    <tr>\n",
              "      <th>3</th>\n",
              "      <td>137</td>\n",
              "      <td>746</td>\n",
              "      <td>178</td>\n",
              "      <td>19</td>\n",
              "      <td>8</td>\n",
              "      <td>2</td>\n",
              "      <td>33.0</td>\n",
              "      <td>9.0</td>\n",
              "      <td>16.0</td>\n",
              "      <td>4.0</td>\n",
              "      <td>...</td>\n",
              "      <td>1</td>\n",
              "      <td>0</td>\n",
              "      <td>507</td>\n",
              "      <td>261</td>\n",
              "      <td>5</td>\n",
              "      <td>21</td>\n",
              "      <td>17</td>\n",
              "      <td>163</td>\n",
              "      <td>8</td>\n",
              "      <td>0.803</td>\n",
              "    </tr>\n",
              "    <tr>\n",
              "      <th>4</th>\n",
              "      <td>302</td>\n",
              "      <td>1404</td>\n",
              "      <td>403</td>\n",
              "      <td>43</td>\n",
              "      <td>21</td>\n",
              "      <td>1</td>\n",
              "      <td>33.0</td>\n",
              "      <td>15.0</td>\n",
              "      <td>46.0</td>\n",
              "      <td>15.0</td>\n",
              "      <td>...</td>\n",
              "      <td>1</td>\n",
              "      <td>0</td>\n",
              "      <td>879</td>\n",
              "      <td>373</td>\n",
              "      <td>7</td>\n",
              "      <td>42</td>\n",
              "      <td>22</td>\n",
              "      <td>235</td>\n",
              "      <td>14</td>\n",
              "      <td>0.840</td>\n",
              "    </tr>\n",
              "    <tr>\n",
              "      <th>...</th>\n",
              "      <td>...</td>\n",
              "      <td>...</td>\n",
              "      <td>...</td>\n",
              "      <td>...</td>\n",
              "      <td>...</td>\n",
              "      <td>...</td>\n",
              "      <td>...</td>\n",
              "      <td>...</td>\n",
              "      <td>...</td>\n",
              "      <td>...</td>\n",
              "      <td>...</td>\n",
              "      <td>...</td>\n",
              "      <td>...</td>\n",
              "      <td>...</td>\n",
              "      <td>...</td>\n",
              "      <td>...</td>\n",
              "      <td>...</td>\n",
              "      <td>...</td>\n",
              "      <td>...</td>\n",
              "      <td>...</td>\n",
              "      <td>...</td>\n",
              "    </tr>\n",
              "    <tr>\n",
              "      <th>2980</th>\n",
              "      <td>706</td>\n",
              "      <td>5351</td>\n",
              "      <td>1303</td>\n",
              "      <td>261</td>\n",
              "      <td>22</td>\n",
              "      <td>198</td>\n",
              "      <td>478.0</td>\n",
              "      <td>1341.0</td>\n",
              "      <td>89.0</td>\n",
              "      <td>22.0</td>\n",
              "      <td>...</td>\n",
              "      <td>15</td>\n",
              "      <td>50</td>\n",
              "      <td>4251</td>\n",
              "      <td>1234</td>\n",
              "      <td>152</td>\n",
              "      <td>608</td>\n",
              "      <td>1225</td>\n",
              "      <td>84</td>\n",
              "      <td>137</td>\n",
              "      <td>0.986</td>\n",
              "    </tr>\n",
              "    <tr>\n",
              "      <th>2981</th>\n",
              "      <td>857</td>\n",
              "      <td>5507</td>\n",
              "      <td>1336</td>\n",
              "      <td>288</td>\n",
              "      <td>36</td>\n",
              "      <td>222</td>\n",
              "      <td>585.0</td>\n",
              "      <td>1542.0</td>\n",
              "      <td>88.0</td>\n",
              "      <td>42.0</td>\n",
              "      <td>...</td>\n",
              "      <td>13</td>\n",
              "      <td>42</td>\n",
              "      <td>4367</td>\n",
              "      <td>1264</td>\n",
              "      <td>184</td>\n",
              "      <td>436</td>\n",
              "      <td>1478</td>\n",
              "      <td>80</td>\n",
              "      <td>130</td>\n",
              "      <td>0.986</td>\n",
              "    </tr>\n",
              "    <tr>\n",
              "      <th>2982</th>\n",
              "      <td>625</td>\n",
              "      <td>5405</td>\n",
              "      <td>1254</td>\n",
              "      <td>225</td>\n",
              "      <td>24</td>\n",
              "      <td>167</td>\n",
              "      <td>433.0</td>\n",
              "      <td>1381.0</td>\n",
              "      <td>106.0</td>\n",
              "      <td>29.0</td>\n",
              "      <td>...</td>\n",
              "      <td>3</td>\n",
              "      <td>31</td>\n",
              "      <td>4273</td>\n",
              "      <td>1402</td>\n",
              "      <td>232</td>\n",
              "      <td>513</td>\n",
              "      <td>1239</td>\n",
              "      <td>83</td>\n",
              "      <td>146</td>\n",
              "      <td>0.986</td>\n",
              "    </tr>\n",
              "    <tr>\n",
              "      <th>2983</th>\n",
              "      <td>846</td>\n",
              "      <td>5476</td>\n",
              "      <td>1455</td>\n",
              "      <td>285</td>\n",
              "      <td>13</td>\n",
              "      <td>262</td>\n",
              "      <td>496.0</td>\n",
              "      <td>1218.0</td>\n",
              "      <td>81.0</td>\n",
              "      <td>20.0</td>\n",
              "      <td>...</td>\n",
              "      <td>14</td>\n",
              "      <td>34</td>\n",
              "      <td>4216</td>\n",
              "      <td>1257</td>\n",
              "      <td>209</td>\n",
              "      <td>473</td>\n",
              "      <td>1468</td>\n",
              "      <td>90</td>\n",
              "      <td>122</td>\n",
              "      <td>0.984</td>\n",
              "    </tr>\n",
              "    <tr>\n",
              "      <th>2984</th>\n",
              "      <td>724</td>\n",
              "      <td>5385</td>\n",
              "      <td>1388</td>\n",
              "      <td>272</td>\n",
              "      <td>20</td>\n",
              "      <td>182</td>\n",
              "      <td>573.0</td>\n",
              "      <td>1303.0</td>\n",
              "      <td>56.0</td>\n",
              "      <td>26.0</td>\n",
              "      <td>...</td>\n",
              "      <td>8</td>\n",
              "      <td>36</td>\n",
              "      <td>4183</td>\n",
              "      <td>1364</td>\n",
              "      <td>247</td>\n",
              "      <td>548</td>\n",
              "      <td>1346</td>\n",
              "      <td>96</td>\n",
              "      <td>116</td>\n",
              "      <td>0.983</td>\n",
              "    </tr>\n",
              "  </tbody>\n",
              "</table>\n",
              "<p>2985 rows × 26 columns</p>\n",
              "</div>\n",
              "      <button class=\"colab-df-convert\" onclick=\"convertToInteractive('df-be4fc6fe-cc63-4661-8149-1c8712f2ac9f')\"\n",
              "              title=\"Convert this dataframe to an interactive table.\"\n",
              "              style=\"display:none;\">\n",
              "        \n",
              "  <svg xmlns=\"http://www.w3.org/2000/svg\" height=\"24px\"viewBox=\"0 0 24 24\"\n",
              "       width=\"24px\">\n",
              "    <path d=\"M0 0h24v24H0V0z\" fill=\"none\"/>\n",
              "    <path d=\"M18.56 5.44l.94 2.06.94-2.06 2.06-.94-2.06-.94-.94-2.06-.94 2.06-2.06.94zm-11 1L8.5 8.5l.94-2.06 2.06-.94-2.06-.94L8.5 2.5l-.94 2.06-2.06.94zm10 10l.94 2.06.94-2.06 2.06-.94-2.06-.94-.94-2.06-.94 2.06-2.06.94z\"/><path d=\"M17.41 7.96l-1.37-1.37c-.4-.4-.92-.59-1.43-.59-.52 0-1.04.2-1.43.59L10.3 9.45l-7.72 7.72c-.78.78-.78 2.05 0 2.83L4 21.41c.39.39.9.59 1.41.59.51 0 1.02-.2 1.41-.59l7.78-7.78 2.81-2.81c.8-.78.8-2.07 0-2.86zM5.41 20L4 18.59l7.72-7.72 1.47 1.35L5.41 20z\"/>\n",
              "  </svg>\n",
              "      </button>\n",
              "      \n",
              "  <style>\n",
              "    .colab-df-container {\n",
              "      display:flex;\n",
              "      flex-wrap:wrap;\n",
              "      gap: 12px;\n",
              "    }\n",
              "\n",
              "    .colab-df-convert {\n",
              "      background-color: #E8F0FE;\n",
              "      border: none;\n",
              "      border-radius: 50%;\n",
              "      cursor: pointer;\n",
              "      display: none;\n",
              "      fill: #1967D2;\n",
              "      height: 32px;\n",
              "      padding: 0 0 0 0;\n",
              "      width: 32px;\n",
              "    }\n",
              "\n",
              "    .colab-df-convert:hover {\n",
              "      background-color: #E2EBFA;\n",
              "      box-shadow: 0px 1px 2px rgba(60, 64, 67, 0.3), 0px 1px 3px 1px rgba(60, 64, 67, 0.15);\n",
              "      fill: #174EA6;\n",
              "    }\n",
              "\n",
              "    [theme=dark] .colab-df-convert {\n",
              "      background-color: #3B4455;\n",
              "      fill: #D2E3FC;\n",
              "    }\n",
              "\n",
              "    [theme=dark] .colab-df-convert:hover {\n",
              "      background-color: #434B5C;\n",
              "      box-shadow: 0px 1px 3px 1px rgba(0, 0, 0, 0.15);\n",
              "      filter: drop-shadow(0px 1px 2px rgba(0, 0, 0, 0.3));\n",
              "      fill: #FFFFFF;\n",
              "    }\n",
              "  </style>\n",
              "\n",
              "      <script>\n",
              "        const buttonEl =\n",
              "          document.querySelector('#df-be4fc6fe-cc63-4661-8149-1c8712f2ac9f button.colab-df-convert');\n",
              "        buttonEl.style.display =\n",
              "          google.colab.kernel.accessAllowed ? 'block' : 'none';\n",
              "\n",
              "        async function convertToInteractive(key) {\n",
              "          const element = document.querySelector('#df-be4fc6fe-cc63-4661-8149-1c8712f2ac9f');\n",
              "          const dataTable =\n",
              "            await google.colab.kernel.invokeFunction('convertToInteractive',\n",
              "                                                     [key], {});\n",
              "          if (!dataTable) return;\n",
              "\n",
              "          const docLinkHtml = 'Like what you see? Visit the ' +\n",
              "            '<a target=\"_blank\" href=https://colab.research.google.com/notebooks/data_table.ipynb>data table notebook</a>'\n",
              "            + ' to learn more about interactive tables.';\n",
              "          element.innerHTML = '';\n",
              "          dataTable['output_type'] = 'display_data';\n",
              "          await google.colab.output.renderOutput(dataTable, element);\n",
              "          const docLink = document.createElement('div');\n",
              "          docLink.innerHTML = docLinkHtml;\n",
              "          element.appendChild(docLink);\n",
              "        }\n",
              "      </script>\n",
              "    </div>\n",
              "  </div>\n",
              "  "
            ]
          },
          "metadata": {},
          "execution_count": 9
        }
      ]
    },
    {
      "cell_type": "code",
      "source": [
        "#pull out the numeric variables, but you need to know the index. \n",
        "#0 averages across the columns.  1 averages across the rows.  !?!?!?!?!?!?!?!?!?!?!? \n",
        "Teams.iloc[:,range(14,40)].apply(np.mean,axis = 0)\n",
        "\n"
      ],
      "metadata": {
        "colab": {
          "base_uri": "https://localhost:8080/"
        },
        "id": "Oe28M3FbZoV9",
        "outputId": "a787d181-e502-4af7-f18c-5cec4bdac1be"
      },
      "execution_count": null,
      "outputs": [
        {
          "output_type": "execute_result",
          "data": {
            "text/plain": [
              "R          681.030821\n",
              "AB        5128.990955\n",
              "H         1339.420436\n",
              "X2B        228.669682\n",
              "X3B         45.673032\n",
              "HR         105.865997\n",
              "BB         473.557306\n",
              "SO         762.133715\n",
              "SB         109.408185\n",
              "CS          46.549930\n",
              "HBP         45.821018\n",
              "SF          44.105956\n",
              "RA         681.029816\n",
              "ER         573.405360\n",
              "ERA          3.840643\n",
              "CG          47.545394\n",
              "SHO          9.587605\n",
              "SV          24.421776\n",
              "IPouts    4013.236516\n",
              "HA        1339.200000\n",
              "HRA        105.865997\n",
              "BBA        473.747404\n",
              "SOA        761.580570\n",
              "E          180.784925\n",
              "DP         132.617755\n",
              "FP           0.966350\n",
              "dtype: float64"
            ]
          },
          "metadata": {},
          "execution_count": 26
        }
      ]
    },
    {
      "cell_type": "code",
      "source": [
        "#Pull out the numeric variables without the index\n",
        "numerics = ['int16', 'int32', 'int64']\n",
        "Teams_sub = Teams.select_dtypes(include=numerics)\n",
        "Teams_sub.apply(np.mean,axis = 0)"
      ],
      "metadata": {
        "colab": {
          "base_uri": "https://localhost:8080/"
        },
        "id": "neWuAVuwcXA8",
        "outputId": "4a8bb8d8-0ec3-488d-e345-31b781e2018b"
      },
      "execution_count": null,
      "outputs": [
        {
          "output_type": "execute_result",
          "data": {
            "text/plain": [
              "yearID    1958.863652\n",
              "Rank         4.039196\n",
              "G          150.006030\n",
              "W           74.611055\n",
              "L           74.611055\n",
              "R          681.030821\n",
              "AB        5128.990955\n",
              "H         1339.420436\n",
              "X2B        228.669682\n",
              "X3B         45.673032\n",
              "HR         105.865997\n",
              "RA         681.029816\n",
              "ER         573.405360\n",
              "CG          47.545394\n",
              "SHO          9.587605\n",
              "SV          24.421776\n",
              "IPouts    4013.236516\n",
              "HA        1339.200000\n",
              "HRA        105.865997\n",
              "BBA        473.747404\n",
              "SOA        761.580570\n",
              "E          180.784925\n",
              "DP         132.617755\n",
              "BPF        100.189950\n",
              "PPF        100.212395\n",
              "dtype: float64"
            ]
          },
          "metadata": {},
          "execution_count": 50
        }
      ]
    },
    {
      "cell_type": "code",
      "source": [
        "angels = Teams[Teams.franchID == \"ANA\"].groupby([\"teamID\",\"name\"])\n",
        "\n",
        "\n",
        "first = angels.apply(lambda x: x.head(1))[[\"name\",\"yearID\"]]\n",
        "first.reset_index(drop=True, inplace=True)\n",
        "\n",
        "last = angels.apply(lambda x: x.tail(1))[[\"name\",\"yearID\"]]\n",
        "last.reset_index(drop=True, inplace=True)\n",
        "\n",
        "merg = first.merge(last, on = \"name\")\n",
        "merg = merg.rename(columns = {\"yearID_x\":\"start\",\"yearID_y\":\"end\"})\n",
        "print(merg)"
      ],
      "metadata": {
        "colab": {
          "base_uri": "https://localhost:8080/"
        },
        "id": "-vsEfe9rd3Lr",
        "outputId": "ec8f5f4d-7948-415d-f80f-96ebe8508712"
      },
      "execution_count": null,
      "outputs": [
        {
          "output_type": "stream",
          "name": "stdout",
          "text": [
            "                            name  start   end\n",
            "0                 Anaheim Angels   1997  2004\n",
            "1              California Angels   1965  1996\n",
            "2             Los Angeles Angels   1961  1964\n",
            "3  Los Angeles Angels of Anaheim   2005  2021\n"
          ]
        }
      ]
    },
    {
      "cell_type": "code",
      "source": [
        "merg.name.apply(len)\n",
        "#Or this\n",
        "#merg[\"name\"].apply(len)\n"
      ],
      "metadata": {
        "colab": {
          "base_uri": "https://localhost:8080/"
        },
        "id": "vqE9l0MRfrrT",
        "outputId": "c73c2db6-636c-4032-cd61-8e936b9d3459"
      },
      "execution_count": null,
      "outputs": [
        {
          "output_type": "execute_result",
          "data": {
            "text/plain": [
              "0    14\n",
              "1    17\n",
              "2    18\n",
              "3    29\n",
              "Name: name, dtype: int64"
            ]
          },
          "metadata": {},
          "execution_count": 22
        }
      ]
    },
    {
      "cell_type": "markdown",
      "source": [
        "# Iterating over your own function\n"
      ],
      "metadata": {
        "id": "Xjv7gEZahWKS"
      }
    },
    {
      "cell_type": "code",
      "source": [
        "def top5(data, team_name):\n",
        "  out = data[data.name == team_name][[\"teamID\",\"yearID\",\"W\",\"L\",\"name\"]].sort_values(\"W\", ascending = False).head(5) \n",
        "  return(out)\n",
        "\n",
        "top5(Teams, \"New York Yankees\")\n",
        "\n",
        "\n"
      ],
      "metadata": {
        "colab": {
          "base_uri": "https://localhost:8080/",
          "height": 206
        },
        "id": "9Gkgj4ZEhbGK",
        "outputId": "dac51049-f527-4162-bccf-cfb8876c36aa"
      },
      "execution_count": null,
      "outputs": [
        {
          "output_type": "execute_result",
          "data": {
            "text/plain": [
              "     teamID  yearID    W   L              name\n",
              "2283    NYA    1998  114  48  New York Yankees\n",
              "824     NYA    1927  110  44  New York Yankees\n",
              "1371    NYA    1961  109  53  New York Yankees\n",
              "904     NYA    1932  107  47  New York Yankees\n",
              "1016    NYA    1939  106  45  New York Yankees"
            ],
            "text/html": [
              "\n",
              "  <div id=\"df-665cb312-a515-445b-b846-04eb5400f239\">\n",
              "    <div class=\"colab-df-container\">\n",
              "      <div>\n",
              "<style scoped>\n",
              "    .dataframe tbody tr th:only-of-type {\n",
              "        vertical-align: middle;\n",
              "    }\n",
              "\n",
              "    .dataframe tbody tr th {\n",
              "        vertical-align: top;\n",
              "    }\n",
              "\n",
              "    .dataframe thead th {\n",
              "        text-align: right;\n",
              "    }\n",
              "</style>\n",
              "<table border=\"1\" class=\"dataframe\">\n",
              "  <thead>\n",
              "    <tr style=\"text-align: right;\">\n",
              "      <th></th>\n",
              "      <th>teamID</th>\n",
              "      <th>yearID</th>\n",
              "      <th>W</th>\n",
              "      <th>L</th>\n",
              "      <th>name</th>\n",
              "    </tr>\n",
              "  </thead>\n",
              "  <tbody>\n",
              "    <tr>\n",
              "      <th>2283</th>\n",
              "      <td>NYA</td>\n",
              "      <td>1998</td>\n",
              "      <td>114</td>\n",
              "      <td>48</td>\n",
              "      <td>New York Yankees</td>\n",
              "    </tr>\n",
              "    <tr>\n",
              "      <th>824</th>\n",
              "      <td>NYA</td>\n",
              "      <td>1927</td>\n",
              "      <td>110</td>\n",
              "      <td>44</td>\n",
              "      <td>New York Yankees</td>\n",
              "    </tr>\n",
              "    <tr>\n",
              "      <th>1371</th>\n",
              "      <td>NYA</td>\n",
              "      <td>1961</td>\n",
              "      <td>109</td>\n",
              "      <td>53</td>\n",
              "      <td>New York Yankees</td>\n",
              "    </tr>\n",
              "    <tr>\n",
              "      <th>904</th>\n",
              "      <td>NYA</td>\n",
              "      <td>1932</td>\n",
              "      <td>107</td>\n",
              "      <td>47</td>\n",
              "      <td>New York Yankees</td>\n",
              "    </tr>\n",
              "    <tr>\n",
              "      <th>1016</th>\n",
              "      <td>NYA</td>\n",
              "      <td>1939</td>\n",
              "      <td>106</td>\n",
              "      <td>45</td>\n",
              "      <td>New York Yankees</td>\n",
              "    </tr>\n",
              "  </tbody>\n",
              "</table>\n",
              "</div>\n",
              "      <button class=\"colab-df-convert\" onclick=\"convertToInteractive('df-665cb312-a515-445b-b846-04eb5400f239')\"\n",
              "              title=\"Convert this dataframe to an interactive table.\"\n",
              "              style=\"display:none;\">\n",
              "        \n",
              "  <svg xmlns=\"http://www.w3.org/2000/svg\" height=\"24px\"viewBox=\"0 0 24 24\"\n",
              "       width=\"24px\">\n",
              "    <path d=\"M0 0h24v24H0V0z\" fill=\"none\"/>\n",
              "    <path d=\"M18.56 5.44l.94 2.06.94-2.06 2.06-.94-2.06-.94-.94-2.06-.94 2.06-2.06.94zm-11 1L8.5 8.5l.94-2.06 2.06-.94-2.06-.94L8.5 2.5l-.94 2.06-2.06.94zm10 10l.94 2.06.94-2.06 2.06-.94-2.06-.94-.94-2.06-.94 2.06-2.06.94z\"/><path d=\"M17.41 7.96l-1.37-1.37c-.4-.4-.92-.59-1.43-.59-.52 0-1.04.2-1.43.59L10.3 9.45l-7.72 7.72c-.78.78-.78 2.05 0 2.83L4 21.41c.39.39.9.59 1.41.59.51 0 1.02-.2 1.41-.59l7.78-7.78 2.81-2.81c.8-.78.8-2.07 0-2.86zM5.41 20L4 18.59l7.72-7.72 1.47 1.35L5.41 20z\"/>\n",
              "  </svg>\n",
              "      </button>\n",
              "      \n",
              "  <style>\n",
              "    .colab-df-container {\n",
              "      display:flex;\n",
              "      flex-wrap:wrap;\n",
              "      gap: 12px;\n",
              "    }\n",
              "\n",
              "    .colab-df-convert {\n",
              "      background-color: #E8F0FE;\n",
              "      border: none;\n",
              "      border-radius: 50%;\n",
              "      cursor: pointer;\n",
              "      display: none;\n",
              "      fill: #1967D2;\n",
              "      height: 32px;\n",
              "      padding: 0 0 0 0;\n",
              "      width: 32px;\n",
              "    }\n",
              "\n",
              "    .colab-df-convert:hover {\n",
              "      background-color: #E2EBFA;\n",
              "      box-shadow: 0px 1px 2px rgba(60, 64, 67, 0.3), 0px 1px 3px 1px rgba(60, 64, 67, 0.15);\n",
              "      fill: #174EA6;\n",
              "    }\n",
              "\n",
              "    [theme=dark] .colab-df-convert {\n",
              "      background-color: #3B4455;\n",
              "      fill: #D2E3FC;\n",
              "    }\n",
              "\n",
              "    [theme=dark] .colab-df-convert:hover {\n",
              "      background-color: #434B5C;\n",
              "      box-shadow: 0px 1px 3px 1px rgba(0, 0, 0, 0.15);\n",
              "      filter: drop-shadow(0px 1px 2px rgba(0, 0, 0, 0.3));\n",
              "      fill: #FFFFFF;\n",
              "    }\n",
              "  </style>\n",
              "\n",
              "      <script>\n",
              "        const buttonEl =\n",
              "          document.querySelector('#df-665cb312-a515-445b-b846-04eb5400f239 button.colab-df-convert');\n",
              "        buttonEl.style.display =\n",
              "          google.colab.kernel.accessAllowed ? 'block' : 'none';\n",
              "\n",
              "        async function convertToInteractive(key) {\n",
              "          const element = document.querySelector('#df-665cb312-a515-445b-b846-04eb5400f239');\n",
              "          const dataTable =\n",
              "            await google.colab.kernel.invokeFunction('convertToInteractive',\n",
              "                                                     [key], {});\n",
              "          if (!dataTable) return;\n",
              "\n",
              "          const docLinkHtml = 'Like what you see? Visit the ' +\n",
              "            '<a target=\"_blank\" href=https://colab.research.google.com/notebooks/data_table.ipynb>data table notebook</a>'\n",
              "            + ' to learn more about interactive tables.';\n",
              "          element.innerHTML = '';\n",
              "          dataTable['output_type'] = 'display_data';\n",
              "          await google.colab.output.renderOutput(dataTable, element);\n",
              "          const docLink = document.createElement('div');\n",
              "          docLink.innerHTML = docLinkHtml;\n",
              "          element.appendChild(docLink);\n",
              "        }\n",
              "      </script>\n",
              "    </div>\n",
              "  </div>\n",
              "  "
            ]
          },
          "metadata": {},
          "execution_count": 23
        }
      ]
    },
    {
      "cell_type": "code",
      "source": [
        "angels_names = merg[\"name\"]\n",
        "angels_names.head()\n",
        "\n",
        "\n"
      ],
      "metadata": {
        "colab": {
          "base_uri": "https://localhost:8080/"
        },
        "id": "Ki3pHeTjiTyP",
        "outputId": "5c516eb6-bbd6-4845-d1c8-8436f52c2261"
      },
      "execution_count": null,
      "outputs": [
        {
          "output_type": "execute_result",
          "data": {
            "text/plain": [
              "0                   Anaheim Angels\n",
              "1                California Angels\n",
              "2               Los Angeles Angels\n",
              "3    Los Angeles Angels of Anaheim\n",
              "Name: name, dtype: object"
            ]
          },
          "metadata": {},
          "execution_count": 25
        }
      ]
    },
    {
      "cell_type": "code",
      "source": [
        "#I can't figure out how to do this in python!\n",
        "#list(map(top5,angels_names,Teams))\n",
        "\n",
        "#I can hard code the Teams data set though and get it to work.  \n",
        "def top5(team_name):\n",
        "  out = Teams[Teams.name == team_name][[\"teamID\",\"yearID\",\"W\",\"L\",\"name\"]].sort_values(\"W\", ascending = False).head(5) \n",
        "  return(out)\n",
        "\n",
        "top5(\"New York Yankees\")\n",
        "list(map(top5,angels_names))"
      ],
      "metadata": {
        "colab": {
          "base_uri": "https://localhost:8080/"
        },
        "id": "jBzWtPAHkOqs",
        "outputId": "5cab0dc2-69c6-485b-b052-0c40f7b41223"
      },
      "execution_count": null,
      "outputs": [
        {
          "output_type": "execute_result",
          "data": {
            "text/plain": [
              "[     teamID  yearID   W   L            name\n",
              " 2385    ANA    2002  99  63  Anaheim Angels\n",
              " 2445    ANA    2004  92  70  Anaheim Angels\n",
              " 2265    ANA    1998  85  77  Anaheim Angels\n",
              " 2237    ANA    1997  84  78  Anaheim Angels\n",
              " 2325    ANA    2000  82  80  Anaheim Angels,\n",
              "      teamID  yearID   W   L               name\n",
              " 1842    CAL    1982  93  69  California Angels\n",
              " 1946    CAL    1986  92  70  California Angels\n",
              " 2024    CAL    1989  91  71  California Angels\n",
              " 1920    CAL    1985  90  72  California Angels\n",
              " 1764    CAL    1979  88  74  California Angels,\n",
              "      teamID  yearID   W   L                name\n",
              " 1386    LAA    1962  86  76  Los Angeles Angels\n",
              " 1426    LAA    1964  82  80  Los Angeles Angels\n",
              " 1367    LAA    1961  70  91  Los Angeles Angels\n",
              " 1406    LAA    1963  70  91  Los Angeles Angels,\n",
              "      teamID  yearID    W   L                           name\n",
              " 2578    LAA    2008  100  62  Los Angeles Angels of Anaheim\n",
              " 2757    LAA    2014   98  64  Los Angeles Angels of Anaheim\n",
              " 2608    LAA    2009   97  65  Los Angeles Angels of Anaheim\n",
              " 2488    LAA    2005   95  67  Los Angeles Angels of Anaheim\n",
              " 2548    LAA    2007   94  68  Los Angeles Angels of Anaheim]"
            ]
          },
          "metadata": {},
          "execution_count": 31
        }
      ]
    },
    {
      "cell_type": "code",
      "source": [
        "#Simulation\n",
        "#n <- 1000\n",
        "#1:n %>% map_dbl( ~ Teams %>% filter(yearID == 2000) %>% pull(HR) %>% sample(replace = TRUE) %>% mean())\n",
        "import numpy as np\n",
        "\n",
        "def boot(i):\n",
        "  return Teams[[\"HR\"]].sample(len(Teams), replace = True).mean().squeeze()\n",
        "\n",
        "out = list(map(boot,range(0,1000)))\n",
        "print(out)"
      ],
      "metadata": {
        "colab": {
          "base_uri": "https://localhost:8080/"
        },
        "id": "7yGhDJi4ZCSW",
        "outputId": "f8d58ce0-85e9-4640-d1e8-0611829b39d8"
      },
      "execution_count": 42,
      "outputs": [
        {
          "output_type": "stream",
          "name": "stdout",
          "text": [
            "[105.61306532663316, 104.34338358458962, 105.93098827470686, 107.05226130653266, 104.42579564489112, 104.94338358458961, 107.36180904522612, 105.43953098827471, 105.98659966499163, 106.31021775544389, 107.80536013400335, 105.04522613065326, 103.99597989949748, 105.71825795644891, 105.34740368509213, 108.1785594639866, 106.23082077051926, 105.48140703517588, 105.15108877721943, 104.02747068676717, 105.26968174204355, 107.05226130653266, 107.08006700167505, 104.99095477386935, 104.30586264656617, 106.05963149078727, 105.107202680067, 107.15644891122278, 105.14606365159129, 107.13869346733668, 104.50150753768844, 105.21842546063651, 105.771189279732, 104.18425460636516, 105.91289782244556, 106.49849246231156, 107.07705192629815, 105.19195979899497, 108.57319932998325, 104.87068676716918, 106.40067001675042, 103.74003350083753, 105.51959798994974, 104.64690117252931, 106.3892797319933, 106.62211055276381, 105.7896147403685, 107.12998324958124, 104.54237855946398, 103.88978224455612, 103.32261306532664, 104.92596314907873, 103.51691792294807, 103.75041876046902, 106.05092127303183, 104.8676716917923, 106.58793969849246, 105.16582914572864, 105.33266331658291, 105.97721943048576, 105.7678391959799, 105.74036850921273, 107.00770519262981, 104.38994974874372, 107.67671691792295, 105.4073701842546, 107.32060301507538, 106.01574539363484, 104.85527638190955, 107.32428810720268, 106.63115577889447, 105.80067001675042, 107.01742043551089, 102.95778894472362, 107.23149078726968, 105.07035175879398, 108.07805695142379, 104.44690117252931, 104.9822445561139, 104.65628140703518, 105.55075376884422, 107.17788944723618, 105.228810720268, 105.97956448911222, 107.63082077051926, 105.79530988274706, 107.17386934673367, 106.75276381909548, 106.05795644891123, 107.60100502512563, 105.42244556113903, 106.43015075376884, 106.03651591289783, 106.23249581239531, 106.04522613065326, 104.00402010050252, 104.04154103852596, 106.48241206030151, 104.6, 105.50117252931324, 103.00067001675042, 106.09949748743719, 107.49748743718592, 106.721608040201, 107.79430485762144, 106.32227805695142, 107.13701842546064, 105.14840871021775, 107.8147403685092, 107.10150753768845, 106.60201005025125, 105.8147403685092, 108.2643216080402, 104.32060301507538, 107.21474036850921, 106.62244556113903, 104.74572864321608, 107.00770519262981, 106.82881072026801, 106.94773869346734, 107.94907872696817, 107.3715242881072, 105.01608040201005, 105.25862646566164, 106.38023450586265, 103.97353433835846, 105.03249581239531, 105.97353433835846, 103.46130653266331, 104.4998324958124, 106.93701842546064, 106.43517587939698, 106.05494137353433, 107.02881072026801, 106.83852596314908, 102.63618090452262, 105.82546063651591, 104.79396984924622, 106.06532663316582, 106.31390284757119, 105.12596314907873, 105.11524288107202, 105.62546063651591, 105.25393634840871, 106.52428810720268, 108.07705192629815, 105.19966499162479, 104.72294807370184, 109.07906197654941, 105.62278056951423, 105.40938023450586, 104.2502512562814, 105.52026800670016, 105.37185929648241, 105.1145728643216, 104.3427135678392, 104.72261306532663, 107.21440536013401, 105.5142378559464, 106.40435510887772, 104.37386934673367, 104.15108877721943, 105.59664991624791, 105.16348408710218, 104.07805695142379, 105.69279731993299, 106.46264656616415, 103.24254606365159, 103.90251256281407, 103.59061976549414, 104.63718592964824, 106.36147403685092, 107.31993299832496, 106.73299832495812, 107.52763819095478, 103.80134003350084, 106.25159128978224, 104.35410385259631, 104.48911222780569, 106.71725293132329, 104.94572864321609, 106.00871021775545, 106.14706867671691, 107.70887772194305, 106.5430485762144, 106.93835845896147, 108.96917922948073, 106.50854271356783, 107.65226130653267, 104.94505862646567, 106.51021775544389, 104.62010050251256, 105.50820770519263, 106.02278056951424, 106.27571189279732, 107.65996649916248, 105.6177554438861, 105.26666666666667, 105.69882747068677, 103.08475711892797, 105.42546063651591, 104.56214405360134, 106.46130653266331, 107.8499162479062, 106.74438860971524, 106.19229480737019, 105.19061976549413, 106.79430485762144, 107.00971524288107, 106.02278056951424, 103.91624790619765, 105.13701842546064, 106.1463986599665, 104.58056951423785, 106.16515912897822, 105.60435510887773, 103.82345058626466, 108.81574539363484, 105.28241206030151, 105.7497487437186, 106.15309882747069, 105.98358458961474, 107.21139028475712, 104.56046901172529, 106.50619765494137, 105.46934673366835, 106.14572864321607, 108.06599664991624, 107.59698492462311, 105.58827470686767, 107.66298157453936, 107.78592964824121, 105.88107202680067, 106.60804020100502, 107.04522613065326, 107.01239530988275, 104.80201005025125, 105.08341708542713, 107.83015075376885, 105.96482412060301, 104.29112227805695, 104.07906197654941, 106.64087102177554, 107.42043551088777, 105.1819095477387, 106.19798994974875, 105.61206030150754, 105.9356783919598, 105.30753768844221, 106.07939698492463, 105.73299832495812, 107.08107202680067, 105.39463986599665, 106.25829145728643, 106.39329983249581, 105.32596314907873, 108.11926298157454, 108.02780569514238, 106.06264656616415, 105.34706867671692, 104.71758793969849, 104.614405360134, 105.79430485762144, 105.18458961474037, 108.02311557788944, 106.07001675041876, 106.49715242881072, 106.98492462311557, 105.28810720268007, 105.6, 106.16951423785595, 103.18693467336684, 105.01943048576214, 106.25192629815746, 104.91289782244556, 106.22043551088777, 105.37420435510887, 104.63618090452262, 106.37386934673367, 107.44154103852597, 105.64991624790619, 104.69480737018425, 103.98693467336683, 106.83417085427136, 104.53132328308207, 106.30485762144053, 106.99229480737019, 106.72562814070352, 107.73735343383585, 105.46633165829145, 105.1638190954774, 105.3574539363484, 104.73835845896147, 104.15778894472362, 105.14438860971524, 106.91859296482411, 106.62747068676717, 103.64790619765495, 106.82378559463987, 106.4107202680067, 107.21742043551089, 105.22378559463986, 107.21876046901173, 105.91490787269682, 107.57353433835846, 106.03852596314908, 107.2894472361809, 105.97386934673366, 104.93433835845896, 106.52931323283082, 105.35108877721943, 106.60804020100502, 106.51725293132328, 106.48944723618091, 108.17688442211055, 104.44824120603015, 106.29882747068677, 104.83685092127303, 104.67437185929649, 107.79095477386934, 107.47437185929648, 106.27001675041876, 106.89078726968174, 104.65293132328308, 106.18827470686767, 104.92562814070352, 106.96750418760469, 106.11524288107202, 104.68308207705192, 106.23886097152429, 104.62814070351759, 106.21708542713567, 106.64522613065327, 106.99061976549413, 106.64522613065327, 104.07403685092127, 104.51591289782245, 105.92060301507537, 106.50787269681742, 103.907202680067, 107.63752093802346, 105.77286432160804, 105.46867671691793, 105.07001675041876, 108.62177554438861, 107.68107202680066, 106.33266331658291, 108.34907872696817, 105.94003350083752, 105.44690117252931, 106.03651591289783, 104.41206030150754, 107.04924623115578, 105.34371859296482, 106.8609715242881, 105.76314907872697, 107.11390284757118, 105.74807370184254, 107.38659966499162, 106.54740368509212, 105.07872696817421, 107.6214405360134, 105.43785594639866, 105.99597989949748, 107.02378559463986, 107.20536013400336, 106.71088777219431, 105.49581239530988, 104.58056951423785, 107.72663316582914, 105.27973199329983, 106.50854271356783, 103.02680067001675, 105.75175879396986, 107.79195979899498, 105.61507537688442, 107.7896147403685, 106.26298157453937, 104.29882747068677, 105.18257956448912, 107.60536013400335, 105.53232830820771, 104.81976549413736, 105.66532663316583, 107.32194304857622, 105.30117252931323, 105.8177554438861, 106.79731993299832, 106.11624790619766, 104.88308207705192, 106.1319932998325, 104.37219430485762, 107.34170854271356, 104.95410385259632, 107.05058626465662, 105.97453936348408, 105.80134003350084, 105.75309882747068, 105.17219430485763, 106.39128978224456, 105.10988274706868, 105.37889447236181, 105.37487437185929, 106.4532663316583, 105.63182579564489, 103.94974874371859, 103.46666666666667, 106.42780569514238, 106.94304857621441, 105.88509212730318, 107.60871021775544, 105.56884422110552, 106.7644891122278, 104.75477386934674, 107.2532663316583, 105.82680067001675, 104.956783919598, 105.25527638190955, 105.78793969849247, 106.96314907872697, 105.44254606365159, 104.5430485762144, 105.09681742043551, 105.24321608040201, 106.03484087102177, 107.24187604690117, 104.09882747068677, 107.12026800670017, 106.03450586264657, 104.88341708542714, 106.38157453936348, 107.79731993299832, 107.96448911222781, 104.61038525963149, 104.81306532663316, 107.09346733668342, 105.31189279731993, 105.09112227805696, 105.16850921273031, 103.84556113902848, 106.3142378559464, 105.54807370184254, 104.31356783919598, 102.94103852596315, 105.70485762144054, 104.06633165829146, 105.81842546063652, 105.2787269681742, 104.6676716917923, 105.5356783919598, 105.45460636515912, 104.04522613065326, 104.50217755443886, 105.01876046901172, 106.50653266331658, 104.76716917922948, 106.9537688442211, 107.93433835845896, 105.99765494137354, 104.59564489112228, 105.54237855946398, 106.61909547738694, 107.82177554438861, 105.03685092127303, 105.3460636515913, 103.97353433835846, 106.72763819095478, 106.01206030150753, 104.20435510887772, 106.47269681742044, 105.95443886097152, 106.78157453936349, 105.1748743718593, 104.5249581239531, 105.86700167504188, 106.05896147403685, 104.79832495812396, 104.32194304857622, 104.6820770519263, 105.40234505862647, 106.75812395309883, 105.31725293132328, 106.06867671691792, 105.1574539363484, 106.32797319932999, 107.39396984924623, 105.54907872696818, 106.47303182579564, 104.19195979899497, 105.51691792294807, 107.10284757118929, 104.77386934673366, 105.87236180904523, 106.48073701842546, 104.33098827470687, 107.99095477386935, 107.20067001675042, 105.36884422110553, 106.56884422110552, 106.96147403685092, 106.11256281407036, 104.13433835845896, 107.5681742043551, 102.663986599665, 105.91356783919598, 105.9929648241206, 105.93467336683418, 105.17922948073702, 105.79229480737018, 104.76750418760469, 105.64790619765495, 106.32596314907873, 106.19798994974875, 105.22043551088777, 105.54371859296482, 105.34706867671692, 104.3571189279732, 105.26164154103853, 105.30753768844221, 105.31825795644892, 106.54807370184254, 107.93165829145728, 107.91658291457287, 103.71323283082077, 106.08174204355109, 106.16247906197655, 104.4820770519263, 106.0003350083752, 104.09815745393635, 107.4643216080402, 106.71256281407035, 108.51356783919599, 104.63819095477388, 106.27671691792295, 106.13065326633166, 104.65494137353434, 105.93802345058627, 108.71725293132329, 105.49514237855946, 106.28542713567839, 104.49715242881072, 103.69614740368509, 105.69346733668341, 107.18827470686767, 103.11289782244556, 105.64221105527638, 108.34572864321608, 105.6964824120603, 105.72395309882747, 105.00871021775545, 107.0606365159129, 106.07303182579564, 107.10787269681742, 106.58324958123953, 105.87537688442211, 106.25561139028476, 103.67671691792295, 107.16917922948073, 106.4857621440536, 106.99095477386935, 104.65594639865996, 105.2036850921273, 104.29045226130653, 107.14237855946399, 104.43651591289782, 107.02646566164154, 106.24388609715243, 104.80167504187605, 105.27604690117253, 105.33802345058626, 104.4787269681742, 105.71122278056951, 108.78391959798995, 106.1179229480737, 104.85025125628141, 106.48375209380235, 105.2251256281407, 106.69681742043551, 107.14874371859297, 105.3323283082077, 105.29949748743718, 106.53701842546063, 107.93668341708543, 104.85762144053601, 104.55242881072027, 105.89480737018425, 105.07303182579564, 107.48509212730318, 106.21876046901173, 106.0750418760469, 105.86733668341708, 105.99128978224455, 106.19463986599665, 105.93634840871022, 105.20435510887772, 105.83685092127303, 108.15309882747069, 107.12294807370185, 105.67906197654942, 108.18324958123954, 106.28040201005025, 105.61306532663316, 104.61641541038526, 106.90117252931323, 106.64857621440537, 106.80603015075377, 105.57587939698493, 107.27906197654941, 106.22981574539364, 104.5926298157454, 106.51289782244557, 106.21306532663317, 106.03517587939699, 106.81038525963149, 106.46532663316583, 106.64355108877722, 105.52629815745394, 106.74874371859296, 106.10117252931323, 106.77420435510888, 106.51256281407035, 105.81675041876046, 104.892797319933, 107.74338358458961, 105.2964824120603, 103.99463986599665, 105.46767169179229, 109.32294807370184, 104.0499162479062, 105.62043551088777, 108.336013400335, 106.31591289782244, 107.7963149078727, 105.6358458961474, 107.3430485762144, 105.79497487437186, 106.94304857621441, 104.72428810720268, 105.33500837520938, 105.64455611390285, 106.20871021775544, 106.2003350083752, 106.76582914572865, 105.94773869346734, 105.54505862646566, 103.6891122278057, 105.36314907872696, 106.6569514237856, 105.94304857621441, 105.4251256281407, 105.7752093802345, 106.4606365159129, 105.61005025125628, 104.91021775544388, 106.26700167504188, 107.92294807370185, 106.68877721943049, 108.39061976549414, 105.14974874371859, 109.0931323283082, 107.6284757118928, 104.73768844221105, 104.9641541038526, 104.27102177554438, 106.09748743718593, 104.37520938023451, 106.47035175879397, 107.88676716917922, 104.36850921273032, 105.40569514237856, 105.42010050251257, 107.22613065326634, 105.39564489112227, 104.8247906197655, 106.04120603015076, 106.56984924623116, 105.43115577889448, 105.68676716917923, 103.88676716917922, 105.94840871021776, 105.64053601340034, 106.29447236180904, 103.23417085427135, 106.28274706867671, 104.94472361809045, 107.29045226130653, 106.70586264656616, 105.81675041876046, 104.58391959798995, 105.71959798994975, 106.08140703517589, 107.98592964824121, 105.86264656616416, 105.89179229480737, 104.30988274706867, 106.0820770519263, 107.75678391959799, 106.97453936348408, 103.96984924623115, 106.8214405360134, 104.88073701842546, 107.73835845896147, 106.91993299832495, 103.81038525963149, 106.16817420435511, 106.01675041876047, 107.73266331658292, 106.70083752093802, 103.88274706867672, 103.68274706867672, 105.83015075376885, 107.08040201005025, 105.28107202680067, 105.80234505862647, 105.78626465661641, 107.36917922948074, 107.36180904522612, 105.68006700167504, 106.15812395309882, 107.51993299832496, 105.98894472361809, 105.12060301507537, 105.72194304857621, 104.39095477386935, 103.8180904522613, 105.89480737018425, 104.56750418760468, 104.68107202680066, 106.64154103852596, 106.31289782244556, 105.96180904522613, 106.06834170854272, 107.2713567839196, 105.1286432160804, 104.67906197654942, 106.18827470686767, 107.08643216080402, 106.33199329983249, 106.06164154103853, 105.75611390284757, 104.44422110552763, 104.62814070351759, 107.70050251256282, 107.44723618090453, 105.16147403685092, 105.26063651591289, 106.0247906197655, 106.24857621440536, 105.72194304857621, 106.8787269681742, 107.25862646566164, 107.1641541038526, 105.41306532663316, 106.33065326633165, 104.73735343383585, 107.22948073701842, 106.23484087102177, 106.10418760469011, 106.85862646566164, 108.53031825795645, 105.56716917922948, 104.61038525963149, 107.68274706867672, 106.38994974874372, 105.08341708542713, 105.5926298157454, 106.23819095477387, 106.4355108877722, 105.54706867671692, 105.18994974874371, 105.08877721943048, 105.507202680067, 105.10050251256281, 102.88006700167504, 107.5035175879397, 105.77956448911223, 106.50217755443886, 105.45996649916248, 107.4107202680067, 106.04790619765494, 106.04087102177554, 105.75477386934674, 105.19195979899497, 107.89748743718593, 105.81541038525963, 106.92562814070352, 105.65427135678392, 107.40837520938024, 106.36884422110553, 103.51122278056951, 106.50251256281408, 107.5822445561139, 104.76281407035177, 106.87470686767169, 105.16683417085427, 106.7286432160804, 106.95175879396984, 106.04053601340034, 106.55209380234506, 105.96482412060301, 104.9822445561139, 103.62311557788945, 105.61306532663316, 104.1852596314908, 107.83316582914573, 107.5892797319933, 105.37319932998325, 107.2713567839196, 107.59832495812395, 106.06264656616415, 105.2787269681742, 104.75611390284757, 104.75644891122278, 106.5644891122278, 104.55711892797319, 105.74371859296483, 104.62110552763819, 106.90988274706868, 103.8924623115578, 105.6606365159129, 104.21675041876047, 104.42579564489112, 107.37956448911223, 105.84790619765494, 105.52964824120603, 105.33500837520938, 104.67135678391959, 106.51658291457287, 105.3859296482412, 105.9068676716918, 106.13467336683416, 106.47638190954774, 106.32696817420435, 105.19329983249581, 105.56247906197655, 106.36281407035176, 104.0358458961474, 106.89748743718593, 106.32428810720268, 105.87403685092127, 108.28442211055277, 104.8676716917923, 105.71457286432161, 105.17319932998325, 105.95108877721943, 104.27370184254606, 104.47437185929648, 104.76884422110552, 105.5460636515913, 104.56247906197655, 106.62311557788945, 104.89212730318258, 104.74170854271357, 105.99363484087102, 104.79731993299832, 106.16147403685092, 106.34907872696817, 105.87001675041876, 104.70284757118928, 104.67671691792295, 105.83986599664992, 104.26566164154104, 107.27705192629816, 105.1822445561139, 105.0609715242881, 104.35309882747069, 106.77386934673366, 105.4968174204355, 105.28442211055277, 104.98056951423786, 104.93634840871022, 105.15644891122278, 106.71591289782245, 106.228810720268, 105.87470686767169, 104.26700167504188, 105.48978224455611, 107.20603015075378, 106.10150753768845, 103.9289782244556, 104.25226130653266, 107.08040201005025, 105.3675041876047, 104.91289782244556, 105.707202680067, 107.98525963149079, 103.79564489112228, 104.56381909547738, 106.10519262981575, 106.48542713567839, 104.70820770519263, 106.37018425460637, 107.59899497487437, 105.69681742043551, 105.61909547738694, 106.87370184254607, 106.14673366834171, 104.51959798994974, 106.40871021775544, 106.87269681742043, 104.6750418760469, 105.56113902847571, 105.47470686767169, 103.55175879396985, 106.7785594639866, 105.77889447236181, 105.01574539363484, 105.19497487437187, 103.22077051926298, 105.86130653266332, 103.6569514237856, 106.02077051926298, 107.35879396984924, 104.95577889447236, 104.62479061976549, 105.81340033500838, 104.81842546063652, 106.78793969849247, 106.61306532663316, 105.58994974874372, 105.69313232830821, 106.79028475711893, 104.83986599664992, 105.80134003350084, 107.45192629815746, 105.76013400335009, 106.4355108877722, 104.78458961474037, 104.52696817420436, 106.14505862646566, 105.1463986599665, 104.57788944723617, 107.76046901172529, 105.5467336683417, 104.54170854271356, 104.08375209380235, 106.428810720268, 104.28107202680067, 105.92395309882747, 104.5031825795645, 104.66264656616416, 107.07303182579564, 104.82445561139029, 107.53668341708543, 106.07202680067002, 106.44221105527639, 105.25661641541039, 106.04120603015076, 104.97051926298157, 105.46097152428811, 106.78257956448911, 106.71524288107203, 104.09715242881072, 106.0180904522613, 106.1574539363484, 105.54807370184254, 106.97219430485762, 105.41809045226131, 107.21474036850921, 106.4107202680067, 104.62043551088777, 105.07370184254606, 107.11892797319933, 104.89112227805695, 106.39899497487437, 104.34003350083752, 105.12596314907873, 106.36884422110553, 106.24924623115578, 106.74941373534338, 106.6964824120603, 105.70887772194305, 106.0710217755444, 106.48073701842546, 104.60067001675041, 102.90117252931323, 104.30150753768844, 107.60569514237856, 106.76281407035177, 105.89313232830821, 105.59564489112228, 104.23819095477387, 104.24589614740368, 104.63718592964824, 105.2103852596315, 106.46365159128979, 102.81909547738694, 104.91557788944723, 107.0643216080402, 106.62345058626465, 105.67705192629816, 104.52529313232831, 104.98056951423786, 103.89547738693467, 105.23484087102177, 104.90988274706868, 106.15075376884423, 104.8177554438861, 106.36180904522612, 105.66030150753768]\n"
          ]
        }
      ]
    },
    {
      "cell_type": "code",
      "source": [
        "import seaborn as sns\n",
        "HRboot = pd.DataFrame({\"HR\" : pd.Series(out)})\n",
        "\n",
        "sns.histplot(data= HRboot, x=\"HR\")\n",
        "\n"
      ],
      "metadata": {
        "colab": {
          "base_uri": "https://localhost:8080/",
          "height": 296
        },
        "id": "olV5Hsg5dI_s",
        "outputId": "96ffe7ed-60d1-4146-e720-8b4425090b06"
      },
      "execution_count": 43,
      "outputs": [
        {
          "output_type": "execute_result",
          "data": {
            "text/plain": [
              "<matplotlib.axes._subplots.AxesSubplot at 0x7f717c10e1d0>"
            ]
          },
          "metadata": {},
          "execution_count": 43
        },
        {
          "output_type": "display_data",
          "data": {
            "text/plain": [
              "<Figure size 432x288 with 1 Axes>"
            ],
            "image/png": "[encoded data removed]"
          },
          "metadata": {
            "needs_background": "light"
          }
        }
      ]
    },
    {
      "cell_type": "markdown",
      "source": [],
      "metadata": {
        "id": "OeTrQJOtZCJg"
      }
    },
    {
      "cell_type": "code",
      "source": [
        "first_it = [1, 2, 3]\n",
        "second_it = [4, 5, 6, 7]\n",
        "\n",
        "list(map(pow, first_it, second_it))"
      ],
      "metadata": {
        "colab": {
          "base_uri": "https://localhost:8080/"
        },
        "id": "APjNUIS9YFSC",
        "outputId": "fe90ad16-4a97-4685-b3a7-96d7af79f547"
      },
      "execution_count": null,
      "outputs": [
        {
          "output_type": "execute_result",
          "data": {
            "text/plain": [
              "[1, 32, 729]"
            ]
          },
          "metadata": {},
          "execution_count": 2
        }
      ]
    },
    {
      "cell_type": "markdown",
      "source": [],
      "metadata": {
        "id": "AQAQMSqnha-n"
      }
    }
  ]
}