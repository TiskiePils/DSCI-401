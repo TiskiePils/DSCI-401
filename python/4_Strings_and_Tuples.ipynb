{
  "nbformat": 4,
  "nbformat_minor": 0,
  "metadata": {
    "colab": {
      "name": "4. Strings and Tuples",
      "provenance": [],
      "collapsed_sections": [
        "Cr9gzvwezNrO",
        "-lCYtrDuz1MB",
        "0s1sYTWA0njO",
        "T5uNOcfl1Pn2",
        "9CS1xogEFNu3"
      ],
      "mount_file_id": "1J87N_1NerOLBLz4zxFL42nIsj5GmoNEt",
      "authorship_tag": "ABX9TyPr87rpBYUmqWdlzB0uAJZA",
      "include_colab_link": true
    },
    "kernelspec": {
      "name": "python3",
      "display_name": "Python 3"
    },
    "language_info": {
      "name": "python"
    }
  },
  "cells": [
    {
      "cell_type": "markdown",
      "metadata": {
        "id": "view-in-github",
        "colab_type": "text"
      },
      "source": [
        "<a href=\"https://colab.research.google.com/github/gjm112/DSCI401/blob/main/4_Strings_and_Tuples.ipynb\" target=\"_parent\"><img src=\"https://colab.research.google.com/assets/colab-badge.svg\" alt=\"Open In Colab\"/></a>"
      ]
    },
    {
      "cell_type": "markdown",
      "source": [
        "# Strings\n",
        "\n",
        "We've already seen some strings.  But let's take a closer look. "
      ],
      "metadata": {
        "id": "tOuCfKnJoNwD"
      }
    },
    {
      "cell_type": "code",
      "execution_count": null,
      "metadata": {
        "colab": {
          "base_uri": "https://localhost:8080/"
        },
        "id": "FQ9K9_UenugU",
        "outputId": "a6110c54-98fa-46bb-b0f7-750b2469ce51"
      },
      "outputs": [
        {
          "output_type": "stream",
          "name": "stdout",
          "text": [
            "<class 'str'>\n",
            "P\n",
            "B\n"
          ]
        },
        {
          "output_type": "execute_result",
          "data": {
            "text/plain": [
              "19"
            ]
          },
          "metadata": {},
          "execution_count": 1
        }
      ],
      "source": [
        "#Strings are an ordered sequence (list) of characters\n",
        "a = 'Pinky and the Brain'\n",
        "print(type(a))\n",
        "#Pulls out the first element of the string\n",
        "#Remember indexes start at 0!\n",
        "b = a[0]\n",
        "print(b)\n",
        "\n",
        "#Starts counting from the end.  \n",
        "print(a[-5])\n",
        "\n",
        "#The number of characters in the string\n",
        "#Equivalent to nchar in R.  \n",
        "len(a)\n"
      ]
    },
    {
      "cell_type": "markdown",
      "source": [
        "# Lists\n",
        " \n",
        "Lists are ordered collections of data.\n",
        "\n",
        "Individual elements in a list can be directly accessed by their index.\n",
        "\n",
        "In Python, lists can be collections of any elements.  \n",
        "\n",
        "Note to self: Lists in python = vectors in R?  "
      ],
      "metadata": {
        "id": "Et9L7IPcp8YK"
      }
    },
    {
      "cell_type": "code",
      "source": [
        "#Declare a list\n",
        "l = list()\n",
        "print(type(l))\n",
        "\n",
        "#or like this\n",
        "g = []\n",
        "print(type(g))\n",
        "\n",
        "\n"
      ],
      "metadata": {
        "colab": {
          "base_uri": "https://localhost:8080/"
        },
        "id": "UzTkywL9pJTn",
        "outputId": "ff73cc07-f2f3-409a-cc62-c4dbc098f665"
      },
      "execution_count": null,
      "outputs": [
        {
          "output_type": "stream",
          "name": "stdout",
          "text": [
            "<class 'list'>\n",
            "<class 'list'>\n"
          ]
        }
      ]
    },
    {
      "cell_type": "code",
      "source": [
        "l = [1,2,3,4,5]\n",
        "l\n",
        "\n",
        "#Print out the first element\n",
        "print(l[0])\n",
        "\n",
        "#print out the first 3 elements.  \n",
        "print(l[0:3])\n",
        "\n",
        "#print out the last element\n",
        "print(l[-1])\n",
        "\n",
        "#Remove the third element\n",
        "l[0:2] + l[3:5]\n",
        "\n"
      ],
      "metadata": {
        "colab": {
          "base_uri": "https://localhost:8080/"
        },
        "id": "09M8hfg7q_DR",
        "outputId": "62156416-6752-4191-bbea-9b231a30f374"
      },
      "execution_count": null,
      "outputs": [
        {
          "output_type": "stream",
          "name": "stdout",
          "text": [
            "1\n",
            "[1, 2, 3]\n",
            "5\n"
          ]
        },
        {
          "output_type": "execute_result",
          "data": {
            "text/plain": [
              "[1, 2, 4, 5]"
            ]
          },
          "metadata": {},
          "execution_count": 29
        }
      ]
    },
    {
      "cell_type": "markdown",
      "source": [
        "## String Escape Codes\n",
        "\n",
        "'\\n' : Line feed\n",
        "\n",
        "'\\r' : Carriage return\n",
        "\n",
        "'\\t' : tab\n",
        "\n",
        "'\\\\' : backslash\n",
        "\n"
      ],
      "metadata": {
        "id": "EXssVLS1vE0K"
      }
    },
    {
      "cell_type": "code",
      "source": [
        "#Slicing substrings\n",
        "#s[start:end]\n",
        "#Remember, strings are indexed by integers (starting at 0).\n",
        "#First 5 elements\n",
        "x = a[:5]\n",
        "print(x)\n",
        "\n",
        "y = a[14:]\n",
        "print(y)\n",
        "\n",
        "z = a[-5:]\n",
        "print(z)\n",
        "\n",
        "w = a[6:9]\n",
        "print(w)\n"
      ],
      "metadata": {
        "colab": {
          "base_uri": "https://localhost:8080/"
        },
        "id": "ykiNwNd4vWmq",
        "outputId": "ab1a3b6d-51ae-45cc-a24b-ec83973ca2f5"
      },
      "execution_count": null,
      "outputs": [
        {
          "output_type": "stream",
          "name": "stdout",
          "text": [
            "Ya\n",
            "\n",
            "Ya\n",
            "\n"
          ]
        }
      ]
    },
    {
      "cell_type": "markdown",
      "source": [
        "## Concatenating Strings"
      ],
      "metadata": {
        "id": "fpm_H_7_v_BD"
      }
    },
    {
      "cell_type": "code",
      "source": [
        "#Concatenating Strings\n",
        "#In R this function is paste!\n",
        "s = x + y\n",
        "print(s)\n",
        "\n",
        "s = x + ' ' + y\n",
        "print(s)"
      ],
      "metadata": {
        "colab": {
          "base_uri": "https://localhost:8080/"
        },
        "id": "sYp8eilgv8g1",
        "outputId": "92e6cb52-75a4-43de-efa6-183216442c37"
      },
      "execution_count": null,
      "outputs": [
        {
          "output_type": "stream",
          "name": "stdout",
          "text": [
            "Ya\n",
            "Ya \n"
          ]
        }
      ]
    },
    {
      "cell_type": "code",
      "source": [
        "#More string operations\n",
        "s = 'Hello'\n",
        "print(len(s))\n",
        "\n",
        "#Check if a character is in a string\n",
        "print('e' in s)\n",
        "\n",
        "print('hi' not in s)\n",
        "\n",
        "print('hllo' in s)\n",
        "\n",
        "#This is rep in R.  But you would then need to paste in with collapse.  \n",
        "a = 'Ya'\n",
        "a*5\n",
        "\n",
        "print(5*a + ' ' + s)"
      ],
      "metadata": {
        "colab": {
          "base_uri": "https://localhost:8080/"
        },
        "id": "ALYUruFfvkDm",
        "outputId": "bc79934a-0655-4b3a-c1af-81d2bf5d567d"
      },
      "execution_count": null,
      "outputs": [
        {
          "output_type": "stream",
          "name": "stdout",
          "text": [
            "5\n",
            "True\n",
            "True\n",
            "False\n",
            "YaYaYaYaYa Hello\n"
          ]
        }
      ]
    },
    {
      "cell_type": "markdown",
      "source": [
        "## String Methods\n",
        "\n",
        "Strings have methods that perform various operations with the string data."
      ],
      "metadata": {
        "id": "6EbCUU_CxVmg"
      }
    },
    {
      "cell_type": "code",
      "source": [
        "#stripping and leading/trailing whitespace\n",
        "s = \"      Pinky and the Brain       \"\n",
        "\n",
        "t = s.strip()\n",
        "print(t)\n",
        "\n",
        "#Case conversion\n",
        "t = s.lower()\n",
        "print(t)\n",
        "\n",
        "t = s.upper()\n",
        "print(t)\n",
        "\n",
        "#These methods can be chained together.  \n",
        "t = s.upper().strip()\n",
        "print(t)\n",
        "\n",
        "\n",
        "#Removing all spaces\n",
        "print(s.replace(\" \",\"\"))\n",
        "\n",
        "\n",
        "print(s.find(\"i\"))\n",
        "print(s.rfind(\"i\"))\n"
      ],
      "metadata": {
        "colab": {
          "base_uri": "https://localhost:8080/"
        },
        "id": "GrXEfH9oxW-t",
        "outputId": "cb3cbbe7-b7b5-4cf1-969d-7d51b3436b80"
      },
      "execution_count": null,
      "outputs": [
        {
          "output_type": "stream",
          "name": "stdout",
          "text": [
            "Pinky and the Brain\n",
            "      pinky and the brain       \n",
            "      PINKY AND THE BRAIN       \n",
            "PINKY AND THE BRAIN\n",
            "PinkyandtheBrain\n",
            "7\n",
            "23\n"
          ]
        }
      ]
    },
    {
      "cell_type": "code",
      "source": [
        "print(s.strip().split(\" \"))"
      ],
      "metadata": {
        "colab": {
          "base_uri": "https://localhost:8080/"
        },
        "id": "Hp-PkMOAZRTu",
        "outputId": "556dbb4d-073a-468c-9786-0cd56afc64f2"
      },
      "execution_count": null,
      "outputs": [
        {
          "output_type": "stream",
          "name": "stdout",
          "text": [
            "['Pinky', 'and', 'the', 'Brain']\n"
          ]
        }
      ]
    },
    {
      "cell_type": "code",
      "source": [
        "#Replacing text\n",
        "t = s.strip().replace('Pinky','Yakko')\n",
        "print(t)"
      ],
      "metadata": {
        "colab": {
          "base_uri": "https://localhost:8080/"
        },
        "id": "YSmtTvuEyDxr",
        "outputId": "d63e86f1-2117-44ed-e2ea-d0a269e3d1ad"
      },
      "execution_count": null,
      "outputs": [
        {
          "output_type": "stream",
          "name": "stdout",
          "text": [
            "Yakko and the Brain\n"
          ]
        }
      ]
    },
    {
      "cell_type": "code",
      "source": [
        ""
      ],
      "metadata": {
        "id": "11G-9t5gzAk0"
      },
      "execution_count": null,
      "outputs": []
    },
    {
      "cell_type": "markdown",
      "source": [
        "Some useful string methods: \n",
        "\n",
        "* s.find(t): first occurence of t in s\n",
        "* s.index(t): first occurence of t in s\n",
        "* s.split([delim]): Split string into list of substrings\n",
        "* s.isdigit(): Check if characters are numeric\n",
        "* s.isalpha(): Check if characters are alphabetic\n",
        "\n",
        "\n",
        "Even more string methods: https://www.w3schools.com/python/python_ref_string.asp"
      ],
      "metadata": {
        "id": "2cDPXnUgyVpp"
      }
    },
    {
      "cell_type": "markdown",
      "source": [
        "## String mutability\n",
        "\n",
        "Strings are \"immutable\" (read only)\n",
        "\n",
        "Once created, the value cannot be changed. \n",
        "\n",
        "All operations/methods that manipulate string data always create new strings."
      ],
      "metadata": {
        "id": "Cr9gzvwezNrO"
      }
    },
    {
      "cell_type": "code",
      "source": [
        "s = 'Hello World'\n",
        "s[1]\n",
        "\n",
        "s = 9 \n",
        "print(s + 10)\n",
        "\n",
        "s = 'Hello World'\n",
        "print(s)\n",
        "#This gives us an error.  \n",
        "#Let's take a look at it.  \n",
        "#s[1] = 'a'\n",
        "\n",
        "print(s[0] + 'a' + s[2:])"
      ],
      "metadata": {
        "colab": {
          "base_uri": "https://localhost:8080/"
        },
        "id": "gDICebpXzd97",
        "outputId": "9c1dbcb5-82c2-44a2-dab9-e53830c56034"
      },
      "execution_count": null,
      "outputs": [
        {
          "output_type": "stream",
          "name": "stdout",
          "text": [
            "19\n",
            "Hello World\n",
            "Hallo World\n"
          ]
        }
      ]
    },
    {
      "cell_type": "markdown",
      "source": [
        "## Replace"
      ],
      "metadata": {
        "id": "-lCYtrDuz1MB"
      }
    },
    {
      "cell_type": "code",
      "source": [
        "#Replace\n",
        "print(s.replace(\"Hello\",\"Hallo\"))\n",
        "\n",
        "#Notice that s hasn't changed yet!\n",
        "#Because it hasn't been assigned.\n",
        "print(s)\n",
        "\n"
      ],
      "metadata": {
        "colab": {
          "base_uri": "https://localhost:8080/"
        },
        "id": "HvebHoFzzyz9",
        "outputId": "2539dae4-6d25-40ee-dd15-1687eefea443"
      },
      "execution_count": null,
      "outputs": [
        {
          "output_type": "stream",
          "name": "stdout",
          "text": [
            "Hallo World\n",
            "Hello World\n"
          ]
        }
      ]
    },
    {
      "cell_type": "code",
      "source": [
        "#Let's make the change permanent.  \n",
        "s = s.replace(\"Hello\",\"Hallo\")\n",
        "print(s)"
      ],
      "metadata": {
        "id": "EGJDTscM0hWw",
        "colab": {
          "base_uri": "https://localhost:8080/"
        },
        "outputId": "db10607a-c154-4cf5-cc0f-126a39063a9b"
      },
      "execution_count": null,
      "outputs": [
        {
          "output_type": "stream",
          "name": "stdout",
          "text": [
            "Hallo World\n"
          ]
        }
      ]
    },
    {
      "cell_type": "code",
      "source": [
        "#What if it can't find the thing to replace?\n",
        "s.replace(\"Greg\",\"Hallo\")\n",
        "\n",
        "#It does what you asked it to do.  It found all the \"Greg\"'s and replaced them.  \n",
        "#There are zero gregs."
      ],
      "metadata": {
        "colab": {
          "base_uri": "https://localhost:8080/",
          "height": 35
        },
        "id": "q3wqb2ruz8m7",
        "outputId": "064609d7-1e13-4bbf-ceec-189f2b7470d2"
      },
      "execution_count": null,
      "outputs": [
        {
          "output_type": "execute_result",
          "data": {
            "application/vnd.google.colaboratory.intrinsic+json": {
              "type": "string"
            },
            "text/plain": [
              "'Hallo World'"
            ]
          },
          "metadata": {},
          "execution_count": 39
        }
      ]
    },
    {
      "cell_type": "code",
      "source": [
        "#What if it can't find the thing to replace?\n",
        "print(s.replace(\"l\",\"Greg\"))"
      ],
      "metadata": {
        "colab": {
          "base_uri": "https://localhost:8080/"
        },
        "id": "TMjnuRB8cvi8",
        "outputId": "01fa664d-557e-40d2-df33-dced9d438656"
      },
      "execution_count": null,
      "outputs": [
        {
          "output_type": "stream",
          "name": "stdout",
          "text": [
            "HaGregGrego WorGregd\n"
          ]
        }
      ]
    },
    {
      "cell_type": "code",
      "source": [
        "#Replacing only the first \"l\" with greg.\n",
        "ind = s.find(\"l\")\n",
        "print(s[:ind] + \"Greg\" + s[ind+1:])\n"
      ],
      "metadata": {
        "colab": {
          "base_uri": "https://localhost:8080/"
        },
        "id": "vVBe-gRpc6_r",
        "outputId": "fc525554-7389-49fc-8bdf-24a25cec48ed"
      },
      "execution_count": null,
      "outputs": [
        {
          "output_type": "stream",
          "name": "stdout",
          "text": [
            "HaGreglo World\n"
          ]
        }
      ]
    },
    {
      "cell_type": "markdown",
      "source": [
        "## String Conversions\n"
      ],
      "metadata": {
        "id": "0s1sYTWA0njO"
      }
    },
    {
      "cell_type": "code",
      "source": [
        "#Convert to a string with str\n",
        "x = 42\n",
        "print(type(x))\n",
        "\n",
        "x = str(x)\n",
        "print(type(x))"
      ],
      "metadata": {
        "colab": {
          "base_uri": "https://localhost:8080/"
        },
        "id": "xmFB8VAr0qgb",
        "outputId": "e3a16d3a-eaa4-4fb2-eefe-a5cd64ab43f3"
      },
      "execution_count": null,
      "outputs": [
        {
          "output_type": "stream",
          "name": "stdout",
          "text": [
            "<class 'int'>\n",
            "<class 'str'>\n"
          ]
        }
      ]
    },
    {
      "cell_type": "code",
      "source": [
        "#Special Strings\n",
        "#\\ is read as a special escape code. \n",
        "filename = 'C:\\mypath\\myfile.txt'\n",
        "filename\n",
        "\n"
      ],
      "metadata": {
        "colab": {
          "base_uri": "https://localhost:8080/",
          "height": 35
        },
        "id": "qV_hpBa708w5",
        "outputId": "5e9c2929-0b4e-46c8-b9d0-ec32a0eb2820"
      },
      "execution_count": null,
      "outputs": [
        {
          "output_type": "execute_result",
          "data": {
            "application/vnd.google.colaboratory.intrinsic+json": {
              "type": "string"
            },
            "text/plain": [
              "'C:\\\\mypath\\\\myfile.txt'"
            ]
          },
          "metadata": {},
          "execution_count": 43
        }
      ]
    },
    {
      "cell_type": "markdown",
      "source": [
        "## Splitting strings"
      ],
      "metadata": {
        "id": "T5uNOcfl1Pn2"
      }
    },
    {
      "cell_type": "code",
      "source": [
        "#Strings often represent field of data\n",
        "#To work with each field, split into a list\n",
        "line = 'dnaN,DNA polymerase III'\n",
        "row = line.split(',')\n",
        "row"
      ],
      "metadata": {
        "colab": {
          "base_uri": "https://localhost:8080/"
        },
        "id": "r0qcxsUp1Jl4",
        "outputId": "bfccf36b-095e-4af9-8fa2-487c655acf69"
      },
      "execution_count": null,
      "outputs": [
        {
          "output_type": "execute_result",
          "data": {
            "text/plain": [
              "['dnaN', 'DNA polymerase III']"
            ]
          },
          "metadata": {},
          "execution_count": 44
        }
      ]
    },
    {
      "cell_type": "markdown",
      "source": [
        "# Tuples\n",
        "\n",
        "Tuples are a collection of values grouped together.  (Despite the name, this collection can include any number of items (not just 2).\n",
        "\n",
        "The major difference between tuples and lists is that a list is mutable, whereas a tuple is immutable. This means that a list can be changed, but a tuple cannot."
      ],
      "metadata": {
        "id": "FyGefMbI1sDd"
      }
    },
    {
      "cell_type": "code",
      "source": [
        "#Can I create a tuple with only commas.  \n",
        "elijah = \"goog\",45, 45\n",
        "print(elijah)"
      ],
      "metadata": {
        "colab": {
          "base_uri": "https://localhost:8080/"
        },
        "id": "BtRNdiqCf2l5",
        "outputId": "8d2f1643-f8a2-49ab-a1b9-240b990502ad"
      },
      "execution_count": null,
      "outputs": [
        {
          "output_type": "stream",
          "name": "stdout",
          "text": [
            "('goog', 45, 45)\n"
          ]
        }
      ]
    },
    {
      "cell_type": "code",
      "source": [
        "test_tuple = (\"greg\",413)\n",
        "test_list = [\"greg\",413]\n",
        "\n",
        "print(test_list[0])\n",
        "print(test_tuple[0])\n",
        "\n",
        "test_list[0] = \"steve\"\n",
        "#This will give an erro\n",
        "#test_tuple[0] = \"steve\"\n",
        "\n",
        "print(test_list[0])\n",
        "print(test_tuple[0])\n",
        "\n"
      ],
      "metadata": {
        "colab": {
          "base_uri": "https://localhost:8080/"
        },
        "id": "1MvSBfdz5G3_",
        "outputId": "c5abca43-a3c9-4693-c665-7f5114501783"
      },
      "execution_count": null,
      "outputs": [
        {
          "output_type": "stream",
          "name": "stdout",
          "text": [
            "greg\n",
            "greg\n",
            "steve\n",
            "greg\n"
          ]
        }
      ]
    },
    {
      "cell_type": "code",
      "source": [
        "#Example\n",
        "s = ('GOOG',100,490.1)\n",
        "print(s)\n",
        "\n",
        "print(type(s))\n"
      ],
      "metadata": {
        "colab": {
          "base_uri": "https://localhost:8080/"
        },
        "id": "YrMEyw2y1tcO",
        "outputId": "4d11d953-7481-4074-988e-1e5cdaf159b2"
      },
      "execution_count": null,
      "outputs": [
        {
          "output_type": "stream",
          "name": "stdout",
          "text": [
            "('GOOG', 100, 490.1)\n",
            "<class 'tuple'>\n",
            "100\n"
          ]
        }
      ]
    },
    {
      "cell_type": "code",
      "source": [
        "#You don't even need the parenthesis.  (Which I think it nuts.)\n",
        "\n",
        "s = 'GOOG',100,490.1\n",
        "s"
      ],
      "metadata": {
        "colab": {
          "base_uri": "https://localhost:8080/"
        },
        "id": "O9aya_7K2MqT",
        "outputId": "623a0a74-6895-4b37-87fc-d620a876cd42"
      },
      "execution_count": null,
      "outputs": [
        {
          "output_type": "execute_result",
          "data": {
            "text/plain": [
              "('GOOG', 100, 490.1)"
            ]
          },
          "metadata": {},
          "execution_count": 70
        }
      ]
    },
    {
      "cell_type": "code",
      "source": [
        "#0-tuple\n",
        "t = ()\n",
        "print(type(t))\n",
        "\n",
        "#1-tuple\n",
        "w = ('GOOG',)\n",
        "w\n",
        "\n",
        "fred = (\"greg\",(\"greg\",\"steve\"))\n",
        "print(fred)"
      ],
      "metadata": {
        "colab": {
          "base_uri": "https://localhost:8080/"
        },
        "id": "vSzIo1T62a88",
        "outputId": "1dbf4442-d608-4d28-9730-ffb6b72b05d8"
      },
      "execution_count": null,
      "outputs": [
        {
          "output_type": "stream",
          "name": "stdout",
          "text": [
            "<class 'tuple'>\n",
            "('greg', ('greg', 'steve'))\n"
          ]
        }
      ]
    },
    {
      "cell_type": "code",
      "source": [
        "#Note: \n",
        "#This is a string\n",
        "w = (\"GOOG\")\n",
        "print(type(w))\n",
        "\n",
        "#This is a 1-tuple\n",
        "w = (\"GOOG\",)\n",
        "print(type(w))"
      ],
      "metadata": {
        "colab": {
          "base_uri": "https://localhost:8080/"
        },
        "id": "Mf99rj6n3KR7",
        "outputId": "d66eb2e0-de58-4f81-a190-8306de78d838"
      },
      "execution_count": null,
      "outputs": [
        {
          "output_type": "stream",
          "name": "stdout",
          "text": [
            "<class 'str'>\n",
            "<class 'tuple'>\n"
          ]
        }
      ]
    },
    {
      "cell_type": "code",
      "source": [
        "#Tuples are usually used to represent simple records or structures\n",
        "contact = ('Help Desk','help@luc.edu')\n",
        "stock = ('GOOG',100,490.1)\n",
        "host = ('www.python.org',)\n",
        "\n",
        "#A single \"object\" with multiple parts"
      ],
      "metadata": {
        "colab": {
          "base_uri": "https://localhost:8080/"
        },
        "id": "g4BBWOiY2xbV",
        "outputId": "be69f4d4-852b-4bf2-fc16-2a42f3bb929b"
      },
      "execution_count": null,
      "outputs": [
        {
          "output_type": "execute_result",
          "data": {
            "text/plain": [
              "tuple"
            ]
          },
          "metadata": {},
          "execution_count": 78
        }
      ]
    },
    {
      "cell_type": "markdown",
      "source": [
        "Number of variables must match tuple structure.\n",
        "\n",
        "\"JennaJrdn: tuple unpacking is the best part of tuples\"\n"
      ],
      "metadata": {
        "id": "4Dp3ftbj3Yr_"
      }
    },
    {
      "cell_type": "code",
      "source": [
        "s = ('GOOG', 100, 490.1)\n",
        "#Unpack a tuple\n",
        "name = s[0]\n",
        "shares = s[1]\n",
        "price = s[2]\n",
        "\n",
        "print(name)\n",
        "print(shares)\n",
        "print(price)"
      ],
      "metadata": {
        "colab": {
          "base_uri": "https://localhost:8080/"
        },
        "id": "8JYjSUfp3cMo",
        "outputId": "97c49728-1e36-44e1-dd42-dc00c4c2d2b7"
      },
      "execution_count": null,
      "outputs": [
        {
          "output_type": "stream",
          "name": "stdout",
          "text": [
            "GOOG\n",
            "100\n",
            "490.1\n"
          ]
        }
      ]
    },
    {
      "cell_type": "code",
      "source": [
        "#Alternatively\n",
        "name,shares,price = s\n",
        "print(name)\n",
        "print(shares)\n",
        "print(price)"
      ],
      "metadata": {
        "colab": {
          "base_uri": "https://localhost:8080/"
        },
        "id": "JOems48S3_WU",
        "outputId": "f3eb515c-61e1-4a0f-d535-56fb2dc32f00"
      },
      "execution_count": null,
      "outputs": [
        {
          "output_type": "stream",
          "name": "stdout",
          "text": [
            "GOOG\n",
            "100\n",
            "490.1\n"
          ]
        }
      ]
    },
    {
      "cell_type": "code",
      "source": [
        "#tuples contents can't be modified\n",
        "s = ('GOOG', 100, 490.1)\n",
        "#This gives an error\n",
        "s[1] = 75"
      ],
      "metadata": {
        "id": "XZqnvbO_4DpM"
      },
      "execution_count": null,
      "outputs": []
    },
    {
      "cell_type": "code",
      "source": [
        "#But you can make a new tuple!\n",
        "s = (s[0],75,s[2])\n",
        "s"
      ],
      "metadata": {
        "colab": {
          "base_uri": "https://localhost:8080/"
        },
        "id": "wtYGGqOh4DTP",
        "outputId": "3fbdca69-11c6-452b-bd0a-d0fd899af6be"
      },
      "execution_count": null,
      "outputs": [
        {
          "output_type": "execute_result",
          "data": {
            "text/plain": [
              "('GOOG', 75, 490.1)"
            ]
          },
          "metadata": {},
          "execution_count": 86
        }
      ]
    },
    {
      "cell_type": "markdown",
      "source": [
        ""
      ],
      "metadata": {
        "id": "eNVuVvFd4gIH"
      }
    },
    {
      "cell_type": "code",
      "source": [
        "#packing tuples\n",
        "#Tuples are focused more on packing related items together into a single \"entity\"\n",
        "\n",
        "s = (name, shares,price)\n",
        "s\n"
      ],
      "metadata": {
        "colab": {
          "base_uri": "https://localhost:8080/"
        },
        "id": "BsNDESiW4V2B",
        "outputId": "e20e5178-7bc5-4f2c-cef7-0cb55a11747d"
      },
      "execution_count": null,
      "outputs": [
        {
          "output_type": "execute_result",
          "data": {
            "text/plain": [
              "('GOOG', 100, 490.1)"
            ]
          },
          "metadata": {},
          "execution_count": 87
        }
      ]
    },
    {
      "cell_type": "code",
      "source": [
        ""
      ],
      "metadata": {
        "id": "yzbSy6g9469Q"
      },
      "execution_count": null,
      "outputs": []
    },
    {
      "cell_type": "markdown",
      "source": [
        "# Exercise\n",
        "\n",
        "Cryptocurrencies are popping up left & right.I’ve decided to take the plunge and have bought several different cryptocurrencies. Ex2.py reads in file of cryptocurrency rates (Ex2.txt) and creates a dictionary of tuples where the tuple contains the percentage of a “crypto coin” that I own (float) and the price per 1 “crypto coin” (float).\n",
        "\n",
        "Write code to:\n",
        "1. Calculate and print to the console the amount of money I’ve invested.\n",
        "2. Dogecoin takes off. Its price goes up to $747.15. Update your dictionary of tuples.\n",
        "3. Print to console my Dogecoin value.\n",
        "4. I want to dump all of my other cryptocurrency and double down with Dogecoin. Print to console the amount I have invested in all of my other cryptocurrencies?\n",
        "\n",
        "\n",
        "\n",
        "\n"
      ],
      "metadata": {
        "id": "ve_dGpHc48We"
      }
    },
    {
      "cell_type": "code",
      "source": [
        "import csv\n",
        "\n",
        "mydict = {}\n",
        "\n",
        "with open('/content/drive/MyDrive/COMP231/Ex2.txt', mode='r') as inp:\n",
        "    reader = csv.reader(inp)\n",
        "    dict_from_csv = {rows[0]:(float(rows[1]),float(rows[2])) for rows in reader}\n",
        "\n",
        "print(dict_from_csv)\n",
        "d = dict_from_csv.copy()\n",
        "\n",
        "'''\n",
        "{'BTC': (0.01, 48669.0), \n",
        "'ETH': (0.1, 3266.24), \n",
        "'ADA': (2.0, 2.5), \n",
        "'BNB': (1.0, 449.83), \n",
        "'USDT': (1000.0, 1.0), \n",
        "'DOGE': (900.0, 0.33), \n",
        "'DOT': (6.5, 28.17), \n",
        "'SOL': (8.0, 78.08), \n",
        "'BCH': (3.0, 677.51), \n",
        "'MATIC': (4.0, 1.53), \n",
        "'THETA': (3.0, 7.23), \n",
        "'EOS': (45.0, 5.36), \n",
        "'CAKE': (3.0, 23.85), \n",
        "'XMR': (1.0, 281.85), \n",
        "'ATOM': (4.0, 19.06), \n",
        "'CRO': (50.0, 0.15), \n",
        "'HNT': (4.0, 24.55)}\n",
        "'''\n"
      ],
      "metadata": {
        "colab": {
          "base_uri": "https://localhost:8080/"
        },
        "id": "0nef52Gz46t6",
        "outputId": "2d976725-c646-4ab2-dc24-2ad1c582732a"
      },
      "execution_count": null,
      "outputs": [
        {
          "output_type": "stream",
          "name": "stdout",
          "text": [
            "{'BTC': (0.01, 48669.0), 'ETH': (0.1, 3266.24), 'ADA': (2.0, 2.5), 'BNB': (1.0, 449.83), 'USDT': (1000.0, 1.0), 'DOGE': (900.0, 0.33), 'DOT': (6.5, 28.17), 'SOL': (8.0, 78.08), 'BCH': (3.0, 677.51), 'MATIC': (4.0, 1.53), 'THETA': (3.0, 7.23), 'EOS': (45.0, 5.36), 'CAKE': (3.0, 23.85), 'XMR': (1.0, 281.85), 'ATOM': (4.0, 19.06), 'CRO': (50.0, 0.15), 'HNT': (4.0, 24.55)}\n"
          ]
        }
      ]
    },
    {
      "cell_type": "markdown",
      "source": [
        "#Example Solution "
      ],
      "metadata": {
        "id": "9CS1xogEFNu3"
      }
    },
    {
      "cell_type": "code",
      "source": [
        "#1\n",
        "dinero = 0\n",
        "for i in d.keys():\n",
        "  dinero = dinero + d[i][1]\n",
        "\n",
        "print(round(dinero))  \n"
      ],
      "metadata": {
        "colab": {
          "base_uri": "https://localhost:8080/"
        },
        "id": "5oIET0St6O6a",
        "outputId": "f715673b-87a1-4a50-9ccc-929bc87b730b"
      },
      "execution_count": null,
      "outputs": [
        {
          "output_type": "stream",
          "name": "stdout",
          "text": [
            "53536\n"
          ]
        }
      ]
    },
    {
      "cell_type": "code",
      "source": [
        "#2\n",
        "#Update the DOGE tuple\n",
        "d['DOGE'] = (d['DOGE'][0], 747.15)\n",
        "print(d)\n",
        "print(dict_from_csv)"
      ],
      "metadata": {
        "colab": {
          "base_uri": "https://localhost:8080/"
        },
        "id": "qGB2niFS64cO",
        "outputId": "c666011b-9dc3-409f-8b70-79675e2ade35"
      },
      "execution_count": null,
      "outputs": [
        {
          "output_type": "stream",
          "name": "stdout",
          "text": [
            "{'BTC': (0.01, 48669.0), 'ETH': (0.1, 3266.24), 'ADA': (2.0, 2.5), 'BNB': (1.0, 449.83), 'USDT': (1000.0, 1.0), 'DOGE': (900.0, 747.15), 'DOT': (6.5, 28.17), 'SOL': (8.0, 78.08), 'BCH': (3.0, 677.51), 'MATIC': (4.0, 1.53), 'THETA': (3.0, 7.23), 'EOS': (45.0, 5.36), 'CAKE': (3.0, 23.85), 'XMR': (1.0, 281.85), 'ATOM': (4.0, 19.06), 'CRO': (50.0, 0.15), 'HNT': (4.0, 24.55)}\n",
            "{'BTC': (0.01, 48669.0), 'ETH': (0.1, 3266.24), 'ADA': (2.0, 2.5), 'BNB': (1.0, 449.83), 'USDT': (1000.0, 1.0), 'DOGE': (900.0, 0.33), 'DOT': (6.5, 28.17), 'SOL': (8.0, 78.08), 'BCH': (3.0, 677.51), 'MATIC': (4.0, 1.53), 'THETA': (3.0, 7.23), 'EOS': (45.0, 5.36), 'CAKE': (3.0, 23.85), 'XMR': (1.0, 281.85), 'ATOM': (4.0, 19.06), 'CRO': (50.0, 0.15), 'HNT': (4.0, 24.55)}\n"
          ]
        }
      ]
    },
    {
      "cell_type": "code",
      "source": [
        "#3\n",
        "print(\"My DOGE coin is worth this many dollars\",d['DOGE'][0]*d['DOGE'][1])"
      ],
      "metadata": {
        "colab": {
          "base_uri": "https://localhost:8080/"
        },
        "id": "8hL6Xqwp7atg",
        "outputId": "06e70b0f-12e2-4552-b589-c6a5e014316a"
      },
      "execution_count": null,
      "outputs": [
        {
          "output_type": "stream",
          "name": "stdout",
          "text": [
            "My DOGE coin is worth this many dollars 672435.0\n"
          ]
        }
      ]
    },
    {
      "cell_type": "code",
      "source": [
        "#4\n",
        "#remove doge\n",
        "d = dict_from_csv.copy()\n",
        "print(d['DOGE'])\n",
        "del d['DOGE']\n",
        "\n",
        "totalvalue = 0\n",
        "for i in d.keys():\n",
        "  totalvalue = totalvalue + d[i][0]*d[i][1]\n",
        "\n",
        "print(\"I am very rich.  Here is how much money I have in fake money: \", totalvalue)  "
      ],
      "metadata": {
        "colab": {
          "base_uri": "https://localhost:8080/"
        },
        "id": "DnJZYWy_7rPZ",
        "outputId": "0bb7ba98-c080-4d5c-b085-bcdf8fc98ffe"
      },
      "execution_count": null,
      "outputs": [
        {
          "output_type": "stream",
          "name": "stdout",
          "text": [
            "(900.0, 0.33)\n",
            "I am very rich.  Here is how much money I have in fake money:  5912.768999999999\n"
          ]
        }
      ]
    },
    {
      "cell_type": "code",
      "source": [
        "#Totally different thing.\n",
        "#Copy vs deep copy\n",
        "source = {\"a\":1, \"b\": (1,2,3), \"c\": {\"greg\":\"matthews\"}}\n",
        "dict1 = source.copy()\n",
        "import copy\n",
        "dict2 = copy.deepcopy(source)\n",
        "\n",
        "#Modify dict1 does not modify source\n",
        "dict1['a'] = 3\n",
        "print(source)\n",
        "print(dict1)\n",
        "print(dict2)\n",
        "\n",
        "\n"
      ],
      "metadata": {
        "colab": {
          "base_uri": "https://localhost:8080/"
        },
        "id": "DDJAfriNBGsP",
        "outputId": "b89f2f88-621f-432c-9c8e-ddde84ee1b3a"
      },
      "execution_count": null,
      "outputs": [
        {
          "output_type": "stream",
          "name": "stdout",
          "text": [
            "{'a': 3, 'b': (1, 2, 3), 'c': {'greg': 'matthews'}}\n",
            "{'a': 1, 'b': (1, 2, 3), 'c': {'greg': 'matthews'}}\n"
          ]
        },
        {
          "output_type": "execute_result",
          "data": {
            "text/plain": [
              "{'a': 1, 'b': (1, 2, 3), 'c': {'greg': 'matthews'}}"
            ]
          },
          "metadata": {},
          "execution_count": 148
        }
      ]
    },
    {
      "cell_type": "code",
      "source": [
        "#Copy vs deep copy\n",
        "source = {\"a\":1, \"b\": (1,2,3), \"c\": {\"greg\":\"matthews\"}}\n",
        "dict1 = source.copy()\n",
        "import copy\n",
        "dict2 = copy.deepcopy(source)\n",
        "\n",
        "#Modify dict1 does not modify source\n",
        "dict1['b'] = (4,5)\n",
        "print(source)\n",
        "print(dict1)\n",
        "print(dict2)\n",
        "\n",
        "dict2['b'] = (4,5)\n",
        "print(source)\n",
        "print(dict1)\n",
        "print(dict2)\n",
        "\n",
        "\n"
      ],
      "metadata": {
        "colab": {
          "base_uri": "https://localhost:8080/"
        },
        "id": "N4CQcxyeCMu7",
        "outputId": "66c0190c-596b-4d63-e205-bbfc6132e640"
      },
      "execution_count": null,
      "outputs": [
        {
          "output_type": "stream",
          "name": "stdout",
          "text": [
            "{'a': 1, 'b': (1, 2, 3), 'c': {'greg': 'matthews'}}\n",
            "{'a': 1, 'b': (4, 5), 'c': {'greg': 'matthews'}}\n",
            "{'a': 1, 'b': (1, 2, 3), 'c': {'greg': 'matthews'}}\n",
            "{'a': 1, 'b': (1, 2, 3), 'c': {'greg': 'matthews'}}\n",
            "{'a': 1, 'b': (4, 5), 'c': {'greg': 'matthews'}}\n",
            "{'a': 1, 'b': (4, 5), 'c': {'greg': 'matthews'}}\n"
          ]
        }
      ]
    },
    {
      "cell_type": "code",
      "source": [
        "#Copy vs deep copy\n",
        "source = {\"a\":1, \"b\": (1,2,3), \"c\": {\"greg\":\"matthews\"}}\n",
        "dict1 = source.copy()\n",
        "import copy\n",
        "dict2 = copy.deepcopy(source)\n",
        "\n",
        "#Modify dict1 DOES modify source\n",
        "dict1['c']['greg'] = \"PhD\"\n",
        "print(source)\n",
        "print(dict1)\n",
        "print(dict2)\n",
        "\n",
        "\n",
        "\n",
        "\n"
      ],
      "metadata": {
        "colab": {
          "base_uri": "https://localhost:8080/"
        },
        "id": "0qd3vsCbCcEC",
        "outputId": "77f0aa91-e990-44c2-a94d-5779ae2d5aa1"
      },
      "execution_count": null,
      "outputs": [
        {
          "output_type": "stream",
          "name": "stdout",
          "text": [
            "{'a': 1, 'b': (1, 2, 3), 'c': {'greg': 'PhD'}}\n",
            "{'a': 1, 'b': (1, 2, 3), 'c': {'greg': 'PhD'}}\n",
            "{'a': 1, 'b': (1, 2, 3), 'c': {'greg': 'matthews'}}\n"
          ]
        }
      ]
    },
    {
      "cell_type": "code",
      "source": [
        "from google.colab import drive\n",
        "drive.mount('/content/drive')"
      ],
      "metadata": {
        "id": "wulHEkdsIPQM"
      },
      "execution_count": null,
      "outputs": []
    },
    {
      "cell_type": "code",
      "source": [
        "#Copy vs deep copy\n",
        "source = {\"a\":1, \"b\": (1,2,3), \"c\": {\"greg\":\"matthews\"}}\n",
        "dict1 = source.copy()\n",
        "import copy\n",
        "dict2 = copy.deepcopy(source)\n",
        "\n",
        "#Modify dict2 does not modify source\n",
        "dict2['c']['greg'] = \"PhD\"\n",
        "print(source)\n",
        "print(dict1)\n",
        "print(dict2)"
      ],
      "metadata": {
        "id": "x_HA0-ksCmOH",
        "outputId": "65aec1d6-4a41-402c-c5a4-47b35751ad6f",
        "colab": {
          "base_uri": "https://localhost:8080/"
        }
      },
      "execution_count": null,
      "outputs": [
        {
          "output_type": "stream",
          "name": "stdout",
          "text": [
            "{'a': 1, 'b': (1, 2, 3), 'c': {'greg': 'matthews'}}\n",
            "{'a': 1, 'b': (1, 2, 3), 'c': {'greg': 'matthews'}}\n",
            "{'a': 1, 'b': (1, 2, 3), 'c': {'greg': 'PhD'}}\n"
          ]
        }
      ]
    },
    {
      "cell_type": "code",
      "source": [
        "mydict = {'BTC': (0.01, 48669.0), \n",
        "'ETH': (0.1, 3266.24), \n",
        "'ADA': (2.0, 2.5), \n",
        "'BNB': (1.0, 449.83), \n",
        "'USDT': (1000.0, 1.0), \n",
        "'DOGE': (900.0, 0.33), \n",
        "'DOT': (6.5, 28.17), \n",
        "'SOL': (8.0, 78.08), \n",
        "'BCH': (3.0, 677.51), \n",
        "'MATIC': (4.0, 1.53), \n",
        "'THETA': (3.0, 7.23), \n",
        "'EOS': (45.0, 5.36), \n",
        "'CAKE': (3.0, 23.85), \n",
        "'XMR': (1.0, 281.85), \n",
        "'ATOM': (4.0, 19.06), \n",
        "'CRO': (50.0, 0.15), \n",
        "'HNT': (4.0, 24.55)}\n",
        "\n",
        "total = 0\n",
        "for item in mydict:\n",
        "  total += mydict[item][0] * mydict[item][1]\n",
        "\n",
        "print(total)\n",
        "\n",
        "#2\n",
        "mydict['DOGE'] = (900, 747.15)\n",
        "print(mydict)\n",
        "\n",
        "#3\n",
        "totalDoge = mydict['DOGE'][0] * mydict['DOGE'][1]\n",
        "print(totalDoge)\n",
        "\n",
        "noDoge = 0\n",
        "for value in mydict:\n",
        "  if value != 'DOGE':\n",
        "    noDoge += mydict[value][0] * mydict[value][1]\n",
        "\n",
        "print(noDoge)\n",
        "\n",
        "\n",
        "\n"
      ],
      "metadata": {
        "colab": {
          "base_uri": "https://localhost:8080/"
        },
        "id": "gfFiji4zIRSZ",
        "outputId": "e4964694-fba9-4065-e910-fca071b9e535"
      },
      "execution_count": null,
      "outputs": [
        {
          "output_type": "stream",
          "name": "stdout",
          "text": [
            "6209.768999999999\n",
            "{'BTC': (0.01, 48669.0), 'ETH': (0.1, 3266.24), 'ADA': (2.0, 2.5), 'BNB': (1.0, 449.83), 'USDT': (1000.0, 1.0), 'DOGE': (900, 747.15), 'DOT': (6.5, 28.17), 'SOL': (8.0, 78.08), 'BCH': (3.0, 677.51), 'MATIC': (4.0, 1.53), 'THETA': (3.0, 7.23), 'EOS': (45.0, 5.36), 'CAKE': (3.0, 23.85), 'XMR': (1.0, 281.85), 'ATOM': (4.0, 19.06), 'CRO': (50.0, 0.15), 'HNT': (4.0, 24.55)}\n",
            "672435.0\n",
            "5912.768999999999\n"
          ]
        }
      ]
    },
    {
      "cell_type": "code",
      "source": [
        "for value in mydict:\n",
        "    mydict[value]  = list(mydict[value])\n",
        "\n",
        "print(mydict)\n",
        "\n",
        "print(sum(mydict[\"BTC\"]))"
      ],
      "metadata": {
        "colab": {
          "base_uri": "https://localhost:8080/"
        },
        "id": "sIsc5Oi4JGO2",
        "outputId": "c344a98a-53dd-46f1-9874-717e4156854b"
      },
      "execution_count": null,
      "outputs": [
        {
          "output_type": "stream",
          "name": "stdout",
          "text": [
            "{'BTC': [0.01, 48669.0], 'ETH': [0.1, 3266.24], 'ADA': [2.0, 2.5], 'BNB': [1.0, 449.83], 'USDT': [1000.0, 1.0], 'DOGE': [900, 747.15], 'DOT': [6.5, 28.17], 'SOL': [8.0, 78.08], 'BCH': [3.0, 677.51], 'MATIC': [4.0, 1.53], 'THETA': [3.0, 7.23], 'EOS': [45.0, 5.36], 'CAKE': [3.0, 23.85], 'XMR': [1.0, 281.85], 'ATOM': [4.0, 19.06], 'CRO': [50.0, 0.15], 'HNT': [4.0, 24.55]}\n",
            "48669.01\n"
          ]
        }
      ]
    }
  ]
}